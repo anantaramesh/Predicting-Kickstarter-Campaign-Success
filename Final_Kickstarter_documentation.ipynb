{
  "nbformat": 4,
  "nbformat_minor": 0,
  "metadata": {
    "colab": {
      "name": "Final_Kickstarter_documentation.ipynb",
      "provenance": [],
      "collapsed_sections": [],
      "include_colab_link": true
    },
    "kernelspec": {
      "display_name": "Python 3",
      "language": "python",
      "name": "python3"
    },
    "language_info": {
      "codemirror_mode": {
        "name": "ipython",
        "version": 3
      },
      "file_extension": ".py",
      "mimetype": "text/x-python",
      "name": "python",
      "nbconvert_exporter": "python",
      "pygments_lexer": "ipython3",
      "version": "3.8.5"
    }
  },
  "cells": [
    {
      "cell_type": "markdown",
      "metadata": {
        "id": "view-in-github",
        "colab_type": "text"
      },
      "source": [
        "<a href=\"https://colab.research.google.com/github/anantaramesh/Predicting-Kickstarter-Campaign-Success/blob/main/Final_Kickstarter_documentation.ipynb\" target=\"_parent\"><img src=\"https://colab.research.google.com/assets/colab-badge.svg\" alt=\"Open In Colab\"/></a>"
      ]
    },
    {
      "cell_type": "markdown",
      "metadata": {
        "id": "Kbj2jrrOArRg"
      },
      "source": [
        "# Aarushi Kalaimani, Ananta Ramesh, Laxmi Sindhu Samudrala, Sainath Reddy Vuppaluru\r\n",
        "\r\n",
        "# DATA 245, Sec-21\r\n",
        "\r\n",
        "December 14, 2020"
      ]
    },
    {
      "cell_type": "markdown",
      "metadata": {
        "id": "2lzCey0KBNwe"
      },
      "source": [
        "Group 7 -\r\n",
        " Report\r\n",
        "\r\n",
        "\r\n",
        "\r\n",
        "\r\n"
      ]
    },
    {
      "cell_type": "markdown",
      "metadata": {
        "id": "d2T53HJNXU_7"
      },
      "source": [
        "**What is the problem that we are trying to solve?**\n",
        "\n",
        "*Motivation for the project*\n",
        "\n",
        "Kickstarter is an American corporation that runs a global crowdfunding platform. Its mission is to help creators bring their projects to life by connecting them with interested backers. The model used by Kickstarter is similar to the patronage that kings and other noblemen offered artists back in the olden days.\n",
        "\n",
        "The way Kickstarter works is a creator creates a campaign by giving it a title, a description, a goal amount, and a deadline date. If they are able to get enough backers to meet their goal amount by their deadline, their campaign is a success and they receive their funding. If they are unable to meet their goal, the campaign is considered a failure and they receive no money.\n",
        "\n",
        "With this sort of business model in place, it is very lucrative for campaign creators to get insight on whether their venture will succeed or fail before the deadline date. This will allow them to maximize their chances of succeeding by ramping up on publicity and offering freebies and other such crowdpleasers. This is the motivation for our project - determining what features affect a campaign's success more than others, and ultimately using that information to provide feedback to campaign creators at the start of their launch.\n",
        "\n",
        "When you download Kickstarter campaigns' data, there are several pieces of information you obtain - the category of the campaign, the name and description of the campaign (created by its creator), the country of origin of the campaign, the dates of creation, launch, and end of the campaign respectively, the goal amount of the campaign, among various others.\n",
        "\n",
        "Our goal is to use only the information that is available at the start of the campaign, i.e. the information provided by the artist, to predict success/failure of the campaign."
      ]
    },
    {
      "cell_type": "markdown",
      "metadata": {
        "id": "LylXzX5cbEzy"
      },
      "source": [
        "**How to approach this problem**\n",
        "\n",
        "We are approaching this problem like a supervised machine learning problem. We have various descriptive features that we will use to build our model. Some of the categorical features we are planning to use include the country of origin of the campaign, the category of the campaign, etc. Some of the numerical features we are planning to use include the goal amount of the campaign. We are also planning to make use of the launch and deadline dates of the campaign, and the name and description of the campaign. \n",
        "\n",
        "We need to determine which among these features are most correlated with our target variable (the state of the campaign - 1 for successful and 0 for failed). We will then convert those features into a usable format, either by log transforming them or by encoding them numerically, and create a model which will use those features to predict the value of the state variable.\n",
        "\n",
        "The benchmark we are using is the accuracy of a model that simply predicts the majority class for all the rows - this is the accuracy we aim to beat."
      ]
    },
    {
      "cell_type": "markdown",
      "metadata": {
        "id": "VA4BSXSMnjIv"
      },
      "source": [
        "**Data Source**\r\n",
        "\r\n",
        "The dataset is obtained from the following website - https://webrobots.io/kickstarter-datasets/ in csv format."
      ]
    },
    {
      "cell_type": "markdown",
      "metadata": {
        "id": "KqqoJ7DJBHKz"
      },
      "source": [
        "**Data Characteristics and Preprocessing**"
      ]
    },
    {
      "cell_type": "markdown",
      "metadata": {
        "id": "ikSddxXiphc3"
      },
      "source": [
        "The Kickstarter dataset is originally composed of 38 attributes, which describe each Kickstarter project in terms of factors such as how the project is categorized, the status of the project (e.g. successful, failed, live, or canceled), the targeted goal for funding, the project launch date, the project deadline, whether the project is highlighted on Kickstarter’s website, etc. The attributes are of various data types, including datetime, float, and string (or categorical) objects.\r\n",
        " \r\n",
        "The web scraping tool linked above looks up Kickstarter projects from 2009 to 2020 and generates sixty csv files which are then loaded into a pandas dataframe. The dataframe originally consists of 219,688 values; however, a look-up for duplicated instances by project ID leads us to drop 27,669 values from the dataframe. Furthermore, a search for null values across leads us to drop the following attributes from further analysis, since more than 30% values are missing: friends, is_backing, is_starred, and permissions. We also drop a subset of columns that we believe do not provide supporting information to improve classification of projects by status:  creator, currency, currency_symbol, currency_trailing_code, fx_rate, disable_communication, id, location_json, photo, profile, slug, source_url, and usd_type.\r\n",
        "\r\n",
        "Given that Kickstarter is supported in multiple countries across the world, quantities for crowdfunding goals are provided in country-specific currencies, as well as the currencies as USD (U.S. dollar) conversions. To simplify analysis, we choose to only consider the U.S. dollar-based conversions of all project monetary data. Also, we observe that the datetime attributes in this dataset are provided as Unix time stamps, hence data processing includes the conversion of all datetime variables to standard timestamps.\r\n",
        "\r\n",
        "We observe that the ‘category’ attribute follows a JSON format and contains additional details of value to our analysis, including the project’s main category (e.g. Film and Video), and sub-category (e.g. Drama).  In addition to extracting the main and sub-category names from the ‘category’ attribute, data cleaning concludes with the exclusion of projects that are of ‘live’ or ‘cancelled’ status, narrowing our analysis to only projects that are classified as ‘successful’ or ‘failed’.\r\n",
        "\r\n",
        "Exploration of the cleaned dataset reveals that 55% of the projects are successful, 40% are failed, and 5% are cancelled. Analyzing the datetime attributes reveals that most projects last for 30-40 days, covering the project launch date to the project deadline. We also observe that most projects are launched in 2015, with projects launched in 2016-2020 far outnumbering projects from 2009-2014. This  speaks to Kickstarter’s increased popularity after a few years following the company’s launch. Further data exploration highlights are provided as commentary throughout the source code.\r\n",
        "\r\n",
        "Data preprocessing ensured that all selected features were numerically encoded for model training. For example, TextBlob and SentimentIntensityAnalyzer from the NLTK package were used to analyze the project blurb descriptions. After removing stop words, punctuation, and other noise, we created new columns to store the sentiment polarity, sentiment subjectivity, blurb length, and sentiment intensity score per project. Additionally, we used equal-frequency binning for the project launch and project deadline attributes in order to convert the dates to quarters of the year. We selected the project’s host country and the main category of the project as additional features. Given that these were categorical attributes, we created a separate country and main category dictionary, and extracted keys and values from the dataset corresponding to these attributes. By mapping the keys to newly created columns for each attribute and divided the keys by the length of the dataframe, we obtained float values of each attribute suitable for model training.  We used an identical process involving dictionaries, mapping, and division with the dataframe length to generate encoded values for the number of days between launch and deadline, as well as creation to launch. Lastly, we used min-max scaling to encode the project USD goal value, since project funding estimates ranged vastly across the dataset.\r\n"
      ]
    },
    {
      "cell_type": "markdown",
      "metadata": {
        "id": "I_VFt8QrZ0Tr"
      },
      "source": [
        "## Importing Libraries"
      ]
    },
    {
      "cell_type": "code",
      "metadata": {
        "id": "-RsqfiGdSm3n"
      },
      "source": [
        "import glob\n",
        "import os\n",
        "\n",
        "import numpy as np\n",
        "import pandas as pd\n",
        "from matplotlib import pyplot as plt\n",
        "import seaborn as sns\n",
        "from datetime import datetime\n",
        "import json\n",
        "from nltk.corpus import stopwords\n",
        "from gensim.parsing.preprocessing import preprocess_string, strip_tags, strip_punctuation, strip_multiple_whitespaces, strip_numeric, remove_stopwords, strip_short"
      ],
      "execution_count": null,
      "outputs": []
    },
    {
      "cell_type": "code",
      "metadata": {
        "colab": {
          "base_uri": "https://localhost:8080/"
        },
        "id": "6-XBmcu0XkcA",
        "outputId": "7f09d8e5-c813-456f-db0e-e63f55f5203a"
      },
      "source": [
        "from google.colab import drive\n",
        "drive.mount('/content/drive')"
      ],
      "execution_count": null,
      "outputs": [
        {
          "output_type": "stream",
          "text": [
            "Mounted at /content/drive\n"
          ],
          "name": "stdout"
        }
      ]
    },
    {
      "cell_type": "markdown",
      "metadata": {
        "id": "Yu4D-h8QZ0Tv"
      },
      "source": [
        "# Data Cleaning"
      ]
    },
    {
      "cell_type": "markdown",
      "metadata": {
        "id": "bVmzVAjFZ0Tw"
      },
      "source": [
        "#### Loading data to a dataframe"
      ]
    },
    {
      "cell_type": "code",
      "metadata": {
        "id": "AOS05I2qTKA7"
      },
      "source": [
        "df = pd.concat([pd.read_csv(file) for file in glob.glob('/content/drive/Shared drives/ML project/Kickstarter data/data/Kickstarter*.csv')], ignore_index = True)"
      ],
      "execution_count": null,
      "outputs": []
    },
    {
      "cell_type": "code",
      "metadata": {
        "id": "7g_ilkxHSm3w",
        "colab": {
          "base_uri": "https://localhost:8080/"
        },
        "outputId": "adf09cb9-0cf3-423b-d88f-bdab748b1206"
      },
      "source": [
        "df.columns"
      ],
      "execution_count": null,
      "outputs": [
        {
          "output_type": "execute_result",
          "data": {
            "text/plain": [
              "Index(['backers_count', 'blurb', 'category', 'converted_pledged_amount',\n",
              "       'country', 'country_displayable_name', 'created_at', 'creator',\n",
              "       'currency', 'currency_symbol', 'currency_trailing_code',\n",
              "       'current_currency', 'deadline', 'disable_communication', 'friends',\n",
              "       'fx_rate', 'goal', 'id', 'is_backing', 'is_starrable', 'is_starred',\n",
              "       'launched_at', 'location', 'name', 'permissions', 'photo', 'pledged',\n",
              "       'profile', 'slug', 'source_url', 'spotlight', 'staff_pick', 'state',\n",
              "       'state_changed_at', 'static_usd_rate', 'urls', 'usd_pledged',\n",
              "       'usd_type'],\n",
              "      dtype='object')"
            ]
          },
          "metadata": {
            "tags": []
          },
          "execution_count": 5
        }
      ]
    },
    {
      "cell_type": "code",
      "metadata": {
        "id": "YfKA5oW_Sm31",
        "colab": {
          "base_uri": "https://localhost:8080/",
          "height": 584
        },
        "outputId": "2d6ecbcc-04f5-49f9-e38f-a4815e5fcaa4"
      },
      "source": [
        "pd.set_option('display.max_columns',100)\n",
        "df.head()"
      ],
      "execution_count": null,
      "outputs": [
        {
          "output_type": "execute_result",
          "data": {
            "text/html": [
              "<div>\n",
              "<style scoped>\n",
              "    .dataframe tbody tr th:only-of-type {\n",
              "        vertical-align: middle;\n",
              "    }\n",
              "\n",
              "    .dataframe tbody tr th {\n",
              "        vertical-align: top;\n",
              "    }\n",
              "\n",
              "    .dataframe thead th {\n",
              "        text-align: right;\n",
              "    }\n",
              "</style>\n",
              "<table border=\"1\" class=\"dataframe\">\n",
              "  <thead>\n",
              "    <tr style=\"text-align: right;\">\n",
              "      <th></th>\n",
              "      <th>backers_count</th>\n",
              "      <th>blurb</th>\n",
              "      <th>category</th>\n",
              "      <th>converted_pledged_amount</th>\n",
              "      <th>country</th>\n",
              "      <th>country_displayable_name</th>\n",
              "      <th>created_at</th>\n",
              "      <th>creator</th>\n",
              "      <th>currency</th>\n",
              "      <th>currency_symbol</th>\n",
              "      <th>currency_trailing_code</th>\n",
              "      <th>current_currency</th>\n",
              "      <th>deadline</th>\n",
              "      <th>disable_communication</th>\n",
              "      <th>friends</th>\n",
              "      <th>fx_rate</th>\n",
              "      <th>goal</th>\n",
              "      <th>id</th>\n",
              "      <th>is_backing</th>\n",
              "      <th>is_starrable</th>\n",
              "      <th>is_starred</th>\n",
              "      <th>launched_at</th>\n",
              "      <th>location</th>\n",
              "      <th>name</th>\n",
              "      <th>permissions</th>\n",
              "      <th>photo</th>\n",
              "      <th>pledged</th>\n",
              "      <th>profile</th>\n",
              "      <th>slug</th>\n",
              "      <th>source_url</th>\n",
              "      <th>spotlight</th>\n",
              "      <th>staff_pick</th>\n",
              "      <th>state</th>\n",
              "      <th>state_changed_at</th>\n",
              "      <th>static_usd_rate</th>\n",
              "      <th>urls</th>\n",
              "      <th>usd_pledged</th>\n",
              "      <th>usd_type</th>\n",
              "    </tr>\n",
              "  </thead>\n",
              "  <tbody>\n",
              "    <tr>\n",
              "      <th>0</th>\n",
              "      <td>6</td>\n",
              "      <td>Lulabelle needs to rest, she's pleaded with me...</td>\n",
              "      <td>{\"id\":312,\"name\":\"Restaurants\",\"slug\":\"food/re...</td>\n",
              "      <td>696</td>\n",
              "      <td>GB</td>\n",
              "      <td>the United Kingdom</td>\n",
              "      <td>1442400887</td>\n",
              "      <td>{\"id\":1738742206,\"name\":\"VWLulabelle\",\"is_regi...</td>\n",
              "      <td>GBP</td>\n",
              "      <td>£</td>\n",
              "      <td>False</td>\n",
              "      <td>USD</td>\n",
              "      <td>1444950000</td>\n",
              "      <td>False</td>\n",
              "      <td>NaN</td>\n",
              "      <td>1.291356</td>\n",
              "      <td>17500.0</td>\n",
              "      <td>1117886645</td>\n",
              "      <td>NaN</td>\n",
              "      <td>False</td>\n",
              "      <td>NaN</td>\n",
              "      <td>1442507907</td>\n",
              "      <td>{\"id\":22514,\"name\":\"Harrogate\",\"slug\":\"harroga...</td>\n",
              "      <td>Lulabelles Legacy</td>\n",
              "      <td>NaN</td>\n",
              "      <td>{\"key\":\"assets/012/254/532/629fc23e3cc09c31101...</td>\n",
              "      <td>450.00</td>\n",
              "      <td>{\"id\":2125303,\"project_id\":2125303,\"state\":\"in...</td>\n",
              "      <td>lulabelles-legacy</td>\n",
              "      <td>https://www.kickstarter.com/discover/categorie...</td>\n",
              "      <td>False</td>\n",
              "      <td>False</td>\n",
              "      <td>failed</td>\n",
              "      <td>1444950018</td>\n",
              "      <td>1.534846</td>\n",
              "      <td>{\"web\":{\"project\":\"https://www.kickstarter.com...</td>\n",
              "      <td>690.680871</td>\n",
              "      <td>domestic</td>\n",
              "    </tr>\n",
              "    <tr>\n",
              "      <th>1</th>\n",
              "      <td>3</td>\n",
              "      <td>EducaDots is an educative multimedia software ...</td>\n",
              "      <td>{\"id\":51,\"name\":\"Software\",\"slug\":\"technology/...</td>\n",
              "      <td>61</td>\n",
              "      <td>US</td>\n",
              "      <td>the United States</td>\n",
              "      <td>1534559102</td>\n",
              "      <td>{\"id\":1595095675,\"name\":\"Diamarie Saavedra\",\"s...</td>\n",
              "      <td>USD</td>\n",
              "      <td>$</td>\n",
              "      <td>True</td>\n",
              "      <td>USD</td>\n",
              "      <td>1539219970</td>\n",
              "      <td>False</td>\n",
              "      <td>NaN</td>\n",
              "      <td>1.000000</td>\n",
              "      <td>10000.0</td>\n",
              "      <td>923000422</td>\n",
              "      <td>NaN</td>\n",
              "      <td>False</td>\n",
              "      <td>NaN</td>\n",
              "      <td>1536627970</td>\n",
              "      <td>{\"id\":161597,\"name\":\"Quebradillas\",\"slug\":\"que...</td>\n",
              "      <td>Revolutionary and affordable 3D / VR software ...</td>\n",
              "      <td>NaN</td>\n",
              "      <td>{\"key\":\"assets/022/265/538/1ed2529a867c6455c0a...</td>\n",
              "      <td>61.00</td>\n",
              "      <td>{\"id\":3450727,\"project_id\":3450727,\"state\":\"in...</td>\n",
              "      <td>revolutionary-and-affordable-3d-vr-software-an...</td>\n",
              "      <td>https://www.kickstarter.com/discover/categorie...</td>\n",
              "      <td>False</td>\n",
              "      <td>False</td>\n",
              "      <td>failed</td>\n",
              "      <td>1539219970</td>\n",
              "      <td>1.000000</td>\n",
              "      <td>{\"web\":{\"project\":\"https://www.kickstarter.com...</td>\n",
              "      <td>61.000000</td>\n",
              "      <td>domestic</td>\n",
              "    </tr>\n",
              "    <tr>\n",
              "      <th>2</th>\n",
              "      <td>123</td>\n",
              "      <td>A feature film about love, death, teenage emot...</td>\n",
              "      <td>{\"id\":293,\"name\":\"Drama\",\"slug\":\"film &amp; video/...</td>\n",
              "      <td>16439</td>\n",
              "      <td>SE</td>\n",
              "      <td>Sweden</td>\n",
              "      <td>1583749182</td>\n",
              "      <td>{\"id\":791598010,\"name\":\"Patrik Blomberg Book\",...</td>\n",
              "      <td>SEK</td>\n",
              "      <td>kr</td>\n",
              "      <td>True</td>\n",
              "      <td>USD</td>\n",
              "      <td>1587643203</td>\n",
              "      <td>False</td>\n",
              "      <td>NaN</td>\n",
              "      <td>0.112924</td>\n",
              "      <td>150000.0</td>\n",
              "      <td>18333200</td>\n",
              "      <td>NaN</td>\n",
              "      <td>False</td>\n",
              "      <td>NaN</td>\n",
              "      <td>1585051203</td>\n",
              "      <td>{\"id\":898091,\"name\":\"Malmö\",\"slug\":\"malmo-se\",...</td>\n",
              "      <td>Düsseldorf, Skåne</td>\n",
              "      <td>NaN</td>\n",
              "      <td>{\"key\":\"assets/028/410/975/0321124bda5c7ce0ff4...</td>\n",
              "      <td>166273.71</td>\n",
              "      <td>{\"id\":3949606,\"project_id\":3949606,\"state\":\"ac...</td>\n",
              "      <td>dusseldorf-skane</td>\n",
              "      <td>https://www.kickstarter.com/discover/categorie...</td>\n",
              "      <td>True</td>\n",
              "      <td>False</td>\n",
              "      <td>successful</td>\n",
              "      <td>1587643203</td>\n",
              "      <td>0.095886</td>\n",
              "      <td>{\"web\":{\"project\":\"https://www.kickstarter.com...</td>\n",
              "      <td>15943.252785</td>\n",
              "      <td>domestic</td>\n",
              "    </tr>\n",
              "    <tr>\n",
              "      <th>3</th>\n",
              "      <td>8</td>\n",
              "      <td>I made a tool to turn images into LEGO mosaics...</td>\n",
              "      <td>{\"id\":288,\"name\":\"Installations\",\"slug\":\"art/i...</td>\n",
              "      <td>160</td>\n",
              "      <td>US</td>\n",
              "      <td>the United States</td>\n",
              "      <td>1436695015</td>\n",
              "      <td>{\"id\":212092138,\"name\":\"Raven Jiang\",\"is_regis...</td>\n",
              "      <td>USD</td>\n",
              "      <td>$</td>\n",
              "      <td>True</td>\n",
              "      <td>USD</td>\n",
              "      <td>1440053074</td>\n",
              "      <td>False</td>\n",
              "      <td>NaN</td>\n",
              "      <td>1.000000</td>\n",
              "      <td>1200.0</td>\n",
              "      <td>2083394396</td>\n",
              "      <td>NaN</td>\n",
              "      <td>False</td>\n",
              "      <td>NaN</td>\n",
              "      <td>1437461074</td>\n",
              "      <td>{\"id\":2487956,\"name\":\"San Francisco\",\"slug\":\"s...</td>\n",
              "      <td>Recreate the Great Wave in LEGO</td>\n",
              "      <td>NaN</td>\n",
              "      <td>{\"key\":\"assets/012/194/667/01064f5208350eee8fe...</td>\n",
              "      <td>160.10</td>\n",
              "      <td>{\"id\":2010313,\"project_id\":2010313,\"state\":\"in...</td>\n",
              "      <td>recreate-the-great-wave-in-lego</td>\n",
              "      <td>https://www.kickstarter.com/discover/categorie...</td>\n",
              "      <td>False</td>\n",
              "      <td>False</td>\n",
              "      <td>failed</td>\n",
              "      <td>1440053115</td>\n",
              "      <td>1.000000</td>\n",
              "      <td>{\"web\":{\"project\":\"https://www.kickstarter.com...</td>\n",
              "      <td>160.100000</td>\n",
              "      <td>domestic</td>\n",
              "    </tr>\n",
              "    <tr>\n",
              "      <th>4</th>\n",
              "      <td>2</td>\n",
              "      <td>21m breaches in 2016 alone. Presenting a video...</td>\n",
              "      <td>{\"id\":51,\"name\":\"Software\",\"slug\":\"technology/...</td>\n",
              "      <td>278</td>\n",
              "      <td>GB</td>\n",
              "      <td>the United Kingdom</td>\n",
              "      <td>1469605439</td>\n",
              "      <td>{\"id\":1235898470,\"name\":\"David Bochenski\",\"is_...</td>\n",
              "      <td>GBP</td>\n",
              "      <td>£</td>\n",
              "      <td>False</td>\n",
              "      <td>USD</td>\n",
              "      <td>1475249400</td>\n",
              "      <td>False</td>\n",
              "      <td>NaN</td>\n",
              "      <td>1.291356</td>\n",
              "      <td>3500.0</td>\n",
              "      <td>1196260883</td>\n",
              "      <td>NaN</td>\n",
              "      <td>False</td>\n",
              "      <td>NaN</td>\n",
              "      <td>1472729297</td>\n",
              "      <td>{\"id\":12602189,\"name\":\"Staffordshire\",\"slug\":\"...</td>\n",
              "      <td>Securing Systems with Hashicorp Vault - Online...</td>\n",
              "      <td>NaN</td>\n",
              "      <td>{\"key\":\"assets/013/379/014/41c6a1ea013c011d5b1...</td>\n",
              "      <td>215.00</td>\n",
              "      <td>{\"id\":2615957,\"project_id\":2615957,\"state\":\"in...</td>\n",
              "      <td>securing-systems-with-hashicorp-vault-online-v...</td>\n",
              "      <td>https://www.kickstarter.com/discover/categorie...</td>\n",
              "      <td>False</td>\n",
              "      <td>False</td>\n",
              "      <td>failed</td>\n",
              "      <td>1475249402</td>\n",
              "      <td>1.310662</td>\n",
              "      <td>{\"web\":{\"project\":\"https://www.kickstarter.com...</td>\n",
              "      <td>281.792410</td>\n",
              "      <td>domestic</td>\n",
              "    </tr>\n",
              "  </tbody>\n",
              "</table>\n",
              "</div>"
            ],
            "text/plain": [
              "   backers_count                                              blurb  \\\n",
              "0              6  Lulabelle needs to rest, she's pleaded with me...   \n",
              "1              3  EducaDots is an educative multimedia software ...   \n",
              "2            123  A feature film about love, death, teenage emot...   \n",
              "3              8  I made a tool to turn images into LEGO mosaics...   \n",
              "4              2  21m breaches in 2016 alone. Presenting a video...   \n",
              "\n",
              "                                            category  \\\n",
              "0  {\"id\":312,\"name\":\"Restaurants\",\"slug\":\"food/re...   \n",
              "1  {\"id\":51,\"name\":\"Software\",\"slug\":\"technology/...   \n",
              "2  {\"id\":293,\"name\":\"Drama\",\"slug\":\"film & video/...   \n",
              "3  {\"id\":288,\"name\":\"Installations\",\"slug\":\"art/i...   \n",
              "4  {\"id\":51,\"name\":\"Software\",\"slug\":\"technology/...   \n",
              "\n",
              "   converted_pledged_amount country country_displayable_name  created_at  \\\n",
              "0                       696      GB       the United Kingdom  1442400887   \n",
              "1                        61      US        the United States  1534559102   \n",
              "2                     16439      SE                   Sweden  1583749182   \n",
              "3                       160      US        the United States  1436695015   \n",
              "4                       278      GB       the United Kingdom  1469605439   \n",
              "\n",
              "                                             creator currency currency_symbol  \\\n",
              "0  {\"id\":1738742206,\"name\":\"VWLulabelle\",\"is_regi...      GBP               £   \n",
              "1  {\"id\":1595095675,\"name\":\"Diamarie Saavedra\",\"s...      USD               $   \n",
              "2  {\"id\":791598010,\"name\":\"Patrik Blomberg Book\",...      SEK              kr   \n",
              "3  {\"id\":212092138,\"name\":\"Raven Jiang\",\"is_regis...      USD               $   \n",
              "4  {\"id\":1235898470,\"name\":\"David Bochenski\",\"is_...      GBP               £   \n",
              "\n",
              "   currency_trailing_code current_currency    deadline  disable_communication  \\\n",
              "0                   False              USD  1444950000                  False   \n",
              "1                    True              USD  1539219970                  False   \n",
              "2                    True              USD  1587643203                  False   \n",
              "3                    True              USD  1440053074                  False   \n",
              "4                   False              USD  1475249400                  False   \n",
              "\n",
              "  friends   fx_rate      goal          id is_backing  is_starrable is_starred  \\\n",
              "0     NaN  1.291356   17500.0  1117886645        NaN         False        NaN   \n",
              "1     NaN  1.000000   10000.0   923000422        NaN         False        NaN   \n",
              "2     NaN  0.112924  150000.0    18333200        NaN         False        NaN   \n",
              "3     NaN  1.000000    1200.0  2083394396        NaN         False        NaN   \n",
              "4     NaN  1.291356    3500.0  1196260883        NaN         False        NaN   \n",
              "\n",
              "   launched_at                                           location  \\\n",
              "0   1442507907  {\"id\":22514,\"name\":\"Harrogate\",\"slug\":\"harroga...   \n",
              "1   1536627970  {\"id\":161597,\"name\":\"Quebradillas\",\"slug\":\"que...   \n",
              "2   1585051203  {\"id\":898091,\"name\":\"Malmö\",\"slug\":\"malmo-se\",...   \n",
              "3   1437461074  {\"id\":2487956,\"name\":\"San Francisco\",\"slug\":\"s...   \n",
              "4   1472729297  {\"id\":12602189,\"name\":\"Staffordshire\",\"slug\":\"...   \n",
              "\n",
              "                                                name permissions  \\\n",
              "0                                  Lulabelles Legacy         NaN   \n",
              "1  Revolutionary and affordable 3D / VR software ...         NaN   \n",
              "2                                  Düsseldorf, Skåne         NaN   \n",
              "3                    Recreate the Great Wave in LEGO         NaN   \n",
              "4  Securing Systems with Hashicorp Vault - Online...         NaN   \n",
              "\n",
              "                                               photo    pledged  \\\n",
              "0  {\"key\":\"assets/012/254/532/629fc23e3cc09c31101...     450.00   \n",
              "1  {\"key\":\"assets/022/265/538/1ed2529a867c6455c0a...      61.00   \n",
              "2  {\"key\":\"assets/028/410/975/0321124bda5c7ce0ff4...  166273.71   \n",
              "3  {\"key\":\"assets/012/194/667/01064f5208350eee8fe...     160.10   \n",
              "4  {\"key\":\"assets/013/379/014/41c6a1ea013c011d5b1...     215.00   \n",
              "\n",
              "                                             profile  \\\n",
              "0  {\"id\":2125303,\"project_id\":2125303,\"state\":\"in...   \n",
              "1  {\"id\":3450727,\"project_id\":3450727,\"state\":\"in...   \n",
              "2  {\"id\":3949606,\"project_id\":3949606,\"state\":\"ac...   \n",
              "3  {\"id\":2010313,\"project_id\":2010313,\"state\":\"in...   \n",
              "4  {\"id\":2615957,\"project_id\":2615957,\"state\":\"in...   \n",
              "\n",
              "                                                slug  \\\n",
              "0                                  lulabelles-legacy   \n",
              "1  revolutionary-and-affordable-3d-vr-software-an...   \n",
              "2                                   dusseldorf-skane   \n",
              "3                    recreate-the-great-wave-in-lego   \n",
              "4  securing-systems-with-hashicorp-vault-online-v...   \n",
              "\n",
              "                                          source_url  spotlight  staff_pick  \\\n",
              "0  https://www.kickstarter.com/discover/categorie...      False       False   \n",
              "1  https://www.kickstarter.com/discover/categorie...      False       False   \n",
              "2  https://www.kickstarter.com/discover/categorie...       True       False   \n",
              "3  https://www.kickstarter.com/discover/categorie...      False       False   \n",
              "4  https://www.kickstarter.com/discover/categorie...      False       False   \n",
              "\n",
              "        state  state_changed_at  static_usd_rate  \\\n",
              "0      failed        1444950018         1.534846   \n",
              "1      failed        1539219970         1.000000   \n",
              "2  successful        1587643203         0.095886   \n",
              "3      failed        1440053115         1.000000   \n",
              "4      failed        1475249402         1.310662   \n",
              "\n",
              "                                                urls   usd_pledged  usd_type  \n",
              "0  {\"web\":{\"project\":\"https://www.kickstarter.com...    690.680871  domestic  \n",
              "1  {\"web\":{\"project\":\"https://www.kickstarter.com...     61.000000  domestic  \n",
              "2  {\"web\":{\"project\":\"https://www.kickstarter.com...  15943.252785  domestic  \n",
              "3  {\"web\":{\"project\":\"https://www.kickstarter.com...    160.100000  domestic  \n",
              "4  {\"web\":{\"project\":\"https://www.kickstarter.com...    281.792410  domestic  "
            ]
          },
          "metadata": {
            "tags": []
          },
          "execution_count": 6
        }
      ]
    },
    {
      "cell_type": "code",
      "metadata": {
        "id": "UGutqH2KZ0T7",
        "colab": {
          "base_uri": "https://localhost:8080/"
        },
        "outputId": "a31ca734-02d4-49c9-feb7-8ef517a906e2"
      },
      "source": [
        "df.shape"
      ],
      "execution_count": null,
      "outputs": [
        {
          "output_type": "execute_result",
          "data": {
            "text/plain": [
              "(219688, 38)"
            ]
          },
          "metadata": {
            "tags": []
          },
          "execution_count": 7
        }
      ]
    },
    {
      "cell_type": "code",
      "metadata": {
        "id": "5G7uxuO_Z0T_",
        "colab": {
          "base_uri": "https://localhost:8080/"
        },
        "outputId": "e9751a0a-b441-42d2-eb44-20928bb886bf"
      },
      "source": [
        "x = len(df[df.duplicated(subset='id')])\n",
        "print(f'There are {x} duplicated instances in the dateset')"
      ],
      "execution_count": null,
      "outputs": [
        {
          "output_type": "stream",
          "text": [
            "There are 27669 duplicated instances in the dateset\n"
          ],
          "name": "stdout"
        }
      ]
    },
    {
      "cell_type": "markdown",
      "metadata": {
        "id": "wzg4vWm-Z0UC"
      },
      "source": [
        "#### Droping 27669 duplicated instances from the dataset"
      ]
    },
    {
      "cell_type": "code",
      "metadata": {
        "id": "AsX-KjpIZ0UD",
        "scrolled": true,
        "colab": {
          "base_uri": "https://localhost:8080/",
          "height": 1000
        },
        "outputId": "da5213cf-5f3d-4cb5-dd23-171102c101cb"
      },
      "source": [
        "df.drop_duplicates(subset = 'id',keep = 'first',inplace = True)\n",
        "df.reset_index(drop = True) "
      ],
      "execution_count": null,
      "outputs": [
        {
          "output_type": "execute_result",
          "data": {
            "text/html": [
              "<div>\n",
              "<style scoped>\n",
              "    .dataframe tbody tr th:only-of-type {\n",
              "        vertical-align: middle;\n",
              "    }\n",
              "\n",
              "    .dataframe tbody tr th {\n",
              "        vertical-align: top;\n",
              "    }\n",
              "\n",
              "    .dataframe thead th {\n",
              "        text-align: right;\n",
              "    }\n",
              "</style>\n",
              "<table border=\"1\" class=\"dataframe\">\n",
              "  <thead>\n",
              "    <tr style=\"text-align: right;\">\n",
              "      <th></th>\n",
              "      <th>backers_count</th>\n",
              "      <th>blurb</th>\n",
              "      <th>category</th>\n",
              "      <th>converted_pledged_amount</th>\n",
              "      <th>country</th>\n",
              "      <th>country_displayable_name</th>\n",
              "      <th>created_at</th>\n",
              "      <th>creator</th>\n",
              "      <th>currency</th>\n",
              "      <th>currency_symbol</th>\n",
              "      <th>currency_trailing_code</th>\n",
              "      <th>current_currency</th>\n",
              "      <th>deadline</th>\n",
              "      <th>disable_communication</th>\n",
              "      <th>friends</th>\n",
              "      <th>fx_rate</th>\n",
              "      <th>goal</th>\n",
              "      <th>id</th>\n",
              "      <th>is_backing</th>\n",
              "      <th>is_starrable</th>\n",
              "      <th>is_starred</th>\n",
              "      <th>launched_at</th>\n",
              "      <th>location</th>\n",
              "      <th>name</th>\n",
              "      <th>permissions</th>\n",
              "      <th>photo</th>\n",
              "      <th>pledged</th>\n",
              "      <th>profile</th>\n",
              "      <th>slug</th>\n",
              "      <th>source_url</th>\n",
              "      <th>spotlight</th>\n",
              "      <th>staff_pick</th>\n",
              "      <th>state</th>\n",
              "      <th>state_changed_at</th>\n",
              "      <th>static_usd_rate</th>\n",
              "      <th>urls</th>\n",
              "      <th>usd_pledged</th>\n",
              "      <th>usd_type</th>\n",
              "    </tr>\n",
              "  </thead>\n",
              "  <tbody>\n",
              "    <tr>\n",
              "      <th>0</th>\n",
              "      <td>6</td>\n",
              "      <td>Lulabelle needs to rest, she's pleaded with me...</td>\n",
              "      <td>{\"id\":312,\"name\":\"Restaurants\",\"slug\":\"food/re...</td>\n",
              "      <td>696</td>\n",
              "      <td>GB</td>\n",
              "      <td>the United Kingdom</td>\n",
              "      <td>1442400887</td>\n",
              "      <td>{\"id\":1738742206,\"name\":\"VWLulabelle\",\"is_regi...</td>\n",
              "      <td>GBP</td>\n",
              "      <td>£</td>\n",
              "      <td>False</td>\n",
              "      <td>USD</td>\n",
              "      <td>1444950000</td>\n",
              "      <td>False</td>\n",
              "      <td>NaN</td>\n",
              "      <td>1.291356</td>\n",
              "      <td>17500.0</td>\n",
              "      <td>1117886645</td>\n",
              "      <td>NaN</td>\n",
              "      <td>False</td>\n",
              "      <td>NaN</td>\n",
              "      <td>1442507907</td>\n",
              "      <td>{\"id\":22514,\"name\":\"Harrogate\",\"slug\":\"harroga...</td>\n",
              "      <td>Lulabelles Legacy</td>\n",
              "      <td>NaN</td>\n",
              "      <td>{\"key\":\"assets/012/254/532/629fc23e3cc09c31101...</td>\n",
              "      <td>450.00</td>\n",
              "      <td>{\"id\":2125303,\"project_id\":2125303,\"state\":\"in...</td>\n",
              "      <td>lulabelles-legacy</td>\n",
              "      <td>https://www.kickstarter.com/discover/categorie...</td>\n",
              "      <td>False</td>\n",
              "      <td>False</td>\n",
              "      <td>failed</td>\n",
              "      <td>1444950018</td>\n",
              "      <td>1.534846</td>\n",
              "      <td>{\"web\":{\"project\":\"https://www.kickstarter.com...</td>\n",
              "      <td>690.680871</td>\n",
              "      <td>domestic</td>\n",
              "    </tr>\n",
              "    <tr>\n",
              "      <th>1</th>\n",
              "      <td>3</td>\n",
              "      <td>EducaDots is an educative multimedia software ...</td>\n",
              "      <td>{\"id\":51,\"name\":\"Software\",\"slug\":\"technology/...</td>\n",
              "      <td>61</td>\n",
              "      <td>US</td>\n",
              "      <td>the United States</td>\n",
              "      <td>1534559102</td>\n",
              "      <td>{\"id\":1595095675,\"name\":\"Diamarie Saavedra\",\"s...</td>\n",
              "      <td>USD</td>\n",
              "      <td>$</td>\n",
              "      <td>True</td>\n",
              "      <td>USD</td>\n",
              "      <td>1539219970</td>\n",
              "      <td>False</td>\n",
              "      <td>NaN</td>\n",
              "      <td>1.000000</td>\n",
              "      <td>10000.0</td>\n",
              "      <td>923000422</td>\n",
              "      <td>NaN</td>\n",
              "      <td>False</td>\n",
              "      <td>NaN</td>\n",
              "      <td>1536627970</td>\n",
              "      <td>{\"id\":161597,\"name\":\"Quebradillas\",\"slug\":\"que...</td>\n",
              "      <td>Revolutionary and affordable 3D / VR software ...</td>\n",
              "      <td>NaN</td>\n",
              "      <td>{\"key\":\"assets/022/265/538/1ed2529a867c6455c0a...</td>\n",
              "      <td>61.00</td>\n",
              "      <td>{\"id\":3450727,\"project_id\":3450727,\"state\":\"in...</td>\n",
              "      <td>revolutionary-and-affordable-3d-vr-software-an...</td>\n",
              "      <td>https://www.kickstarter.com/discover/categorie...</td>\n",
              "      <td>False</td>\n",
              "      <td>False</td>\n",
              "      <td>failed</td>\n",
              "      <td>1539219970</td>\n",
              "      <td>1.000000</td>\n",
              "      <td>{\"web\":{\"project\":\"https://www.kickstarter.com...</td>\n",
              "      <td>61.000000</td>\n",
              "      <td>domestic</td>\n",
              "    </tr>\n",
              "    <tr>\n",
              "      <th>2</th>\n",
              "      <td>123</td>\n",
              "      <td>A feature film about love, death, teenage emot...</td>\n",
              "      <td>{\"id\":293,\"name\":\"Drama\",\"slug\":\"film &amp; video/...</td>\n",
              "      <td>16439</td>\n",
              "      <td>SE</td>\n",
              "      <td>Sweden</td>\n",
              "      <td>1583749182</td>\n",
              "      <td>{\"id\":791598010,\"name\":\"Patrik Blomberg Book\",...</td>\n",
              "      <td>SEK</td>\n",
              "      <td>kr</td>\n",
              "      <td>True</td>\n",
              "      <td>USD</td>\n",
              "      <td>1587643203</td>\n",
              "      <td>False</td>\n",
              "      <td>NaN</td>\n",
              "      <td>0.112924</td>\n",
              "      <td>150000.0</td>\n",
              "      <td>18333200</td>\n",
              "      <td>NaN</td>\n",
              "      <td>False</td>\n",
              "      <td>NaN</td>\n",
              "      <td>1585051203</td>\n",
              "      <td>{\"id\":898091,\"name\":\"Malmö\",\"slug\":\"malmo-se\",...</td>\n",
              "      <td>Düsseldorf, Skåne</td>\n",
              "      <td>NaN</td>\n",
              "      <td>{\"key\":\"assets/028/410/975/0321124bda5c7ce0ff4...</td>\n",
              "      <td>166273.71</td>\n",
              "      <td>{\"id\":3949606,\"project_id\":3949606,\"state\":\"ac...</td>\n",
              "      <td>dusseldorf-skane</td>\n",
              "      <td>https://www.kickstarter.com/discover/categorie...</td>\n",
              "      <td>True</td>\n",
              "      <td>False</td>\n",
              "      <td>successful</td>\n",
              "      <td>1587643203</td>\n",
              "      <td>0.095886</td>\n",
              "      <td>{\"web\":{\"project\":\"https://www.kickstarter.com...</td>\n",
              "      <td>15943.252785</td>\n",
              "      <td>domestic</td>\n",
              "    </tr>\n",
              "    <tr>\n",
              "      <th>3</th>\n",
              "      <td>8</td>\n",
              "      <td>I made a tool to turn images into LEGO mosaics...</td>\n",
              "      <td>{\"id\":288,\"name\":\"Installations\",\"slug\":\"art/i...</td>\n",
              "      <td>160</td>\n",
              "      <td>US</td>\n",
              "      <td>the United States</td>\n",
              "      <td>1436695015</td>\n",
              "      <td>{\"id\":212092138,\"name\":\"Raven Jiang\",\"is_regis...</td>\n",
              "      <td>USD</td>\n",
              "      <td>$</td>\n",
              "      <td>True</td>\n",
              "      <td>USD</td>\n",
              "      <td>1440053074</td>\n",
              "      <td>False</td>\n",
              "      <td>NaN</td>\n",
              "      <td>1.000000</td>\n",
              "      <td>1200.0</td>\n",
              "      <td>2083394396</td>\n",
              "      <td>NaN</td>\n",
              "      <td>False</td>\n",
              "      <td>NaN</td>\n",
              "      <td>1437461074</td>\n",
              "      <td>{\"id\":2487956,\"name\":\"San Francisco\",\"slug\":\"s...</td>\n",
              "      <td>Recreate the Great Wave in LEGO</td>\n",
              "      <td>NaN</td>\n",
              "      <td>{\"key\":\"assets/012/194/667/01064f5208350eee8fe...</td>\n",
              "      <td>160.10</td>\n",
              "      <td>{\"id\":2010313,\"project_id\":2010313,\"state\":\"in...</td>\n",
              "      <td>recreate-the-great-wave-in-lego</td>\n",
              "      <td>https://www.kickstarter.com/discover/categorie...</td>\n",
              "      <td>False</td>\n",
              "      <td>False</td>\n",
              "      <td>failed</td>\n",
              "      <td>1440053115</td>\n",
              "      <td>1.000000</td>\n",
              "      <td>{\"web\":{\"project\":\"https://www.kickstarter.com...</td>\n",
              "      <td>160.100000</td>\n",
              "      <td>domestic</td>\n",
              "    </tr>\n",
              "    <tr>\n",
              "      <th>4</th>\n",
              "      <td>2</td>\n",
              "      <td>21m breaches in 2016 alone. Presenting a video...</td>\n",
              "      <td>{\"id\":51,\"name\":\"Software\",\"slug\":\"technology/...</td>\n",
              "      <td>278</td>\n",
              "      <td>GB</td>\n",
              "      <td>the United Kingdom</td>\n",
              "      <td>1469605439</td>\n",
              "      <td>{\"id\":1235898470,\"name\":\"David Bochenski\",\"is_...</td>\n",
              "      <td>GBP</td>\n",
              "      <td>£</td>\n",
              "      <td>False</td>\n",
              "      <td>USD</td>\n",
              "      <td>1475249400</td>\n",
              "      <td>False</td>\n",
              "      <td>NaN</td>\n",
              "      <td>1.291356</td>\n",
              "      <td>3500.0</td>\n",
              "      <td>1196260883</td>\n",
              "      <td>NaN</td>\n",
              "      <td>False</td>\n",
              "      <td>NaN</td>\n",
              "      <td>1472729297</td>\n",
              "      <td>{\"id\":12602189,\"name\":\"Staffordshire\",\"slug\":\"...</td>\n",
              "      <td>Securing Systems with Hashicorp Vault - Online...</td>\n",
              "      <td>NaN</td>\n",
              "      <td>{\"key\":\"assets/013/379/014/41c6a1ea013c011d5b1...</td>\n",
              "      <td>215.00</td>\n",
              "      <td>{\"id\":2615957,\"project_id\":2615957,\"state\":\"in...</td>\n",
              "      <td>securing-systems-with-hashicorp-vault-online-v...</td>\n",
              "      <td>https://www.kickstarter.com/discover/categorie...</td>\n",
              "      <td>False</td>\n",
              "      <td>False</td>\n",
              "      <td>failed</td>\n",
              "      <td>1475249402</td>\n",
              "      <td>1.310662</td>\n",
              "      <td>{\"web\":{\"project\":\"https://www.kickstarter.com...</td>\n",
              "      <td>281.792410</td>\n",
              "      <td>domestic</td>\n",
              "    </tr>\n",
              "    <tr>\n",
              "      <th>...</th>\n",
              "      <td>...</td>\n",
              "      <td>...</td>\n",
              "      <td>...</td>\n",
              "      <td>...</td>\n",
              "      <td>...</td>\n",
              "      <td>...</td>\n",
              "      <td>...</td>\n",
              "      <td>...</td>\n",
              "      <td>...</td>\n",
              "      <td>...</td>\n",
              "      <td>...</td>\n",
              "      <td>...</td>\n",
              "      <td>...</td>\n",
              "      <td>...</td>\n",
              "      <td>...</td>\n",
              "      <td>...</td>\n",
              "      <td>...</td>\n",
              "      <td>...</td>\n",
              "      <td>...</td>\n",
              "      <td>...</td>\n",
              "      <td>...</td>\n",
              "      <td>...</td>\n",
              "      <td>...</td>\n",
              "      <td>...</td>\n",
              "      <td>...</td>\n",
              "      <td>...</td>\n",
              "      <td>...</td>\n",
              "      <td>...</td>\n",
              "      <td>...</td>\n",
              "      <td>...</td>\n",
              "      <td>...</td>\n",
              "      <td>...</td>\n",
              "      <td>...</td>\n",
              "      <td>...</td>\n",
              "      <td>...</td>\n",
              "      <td>...</td>\n",
              "      <td>...</td>\n",
              "      <td>...</td>\n",
              "    </tr>\n",
              "    <tr>\n",
              "      <th>192014</th>\n",
              "      <td>29</td>\n",
              "      <td>Small boutique retreats &amp; farmstay experiences...</td>\n",
              "      <td>{\"id\":309,\"name\":\"Farms\",\"slug\":\"food/farms\",\"...</td>\n",
              "      <td>9751</td>\n",
              "      <td>US</td>\n",
              "      <td>the United States</td>\n",
              "      <td>1449363535</td>\n",
              "      <td>{\"id\":1234268676,\"name\":\"Tessa, Ian &amp; Aza Chit...</td>\n",
              "      <td>USD</td>\n",
              "      <td>$</td>\n",
              "      <td>True</td>\n",
              "      <td>USD</td>\n",
              "      <td>1466740800</td>\n",
              "      <td>False</td>\n",
              "      <td>NaN</td>\n",
              "      <td>1.000000</td>\n",
              "      <td>50000.0</td>\n",
              "      <td>72354880</td>\n",
              "      <td>NaN</td>\n",
              "      <td>False</td>\n",
              "      <td>NaN</td>\n",
              "      <td>1462630138</td>\n",
              "      <td>{\"id\":2410101,\"name\":\"Gig Harbor\",\"slug\":\"gig-...</td>\n",
              "      <td>The Chittle Homestead Tiny House Farmstay</td>\n",
              "      <td>NaN</td>\n",
              "      <td>{\"key\":\"assets/012/325/344/b2264b2d9246a0b6beb...</td>\n",
              "      <td>9751.00</td>\n",
              "      <td>{\"id\":2263645,\"project_id\":2263645,\"state\":\"in...</td>\n",
              "      <td>the-chittle-homestead-tiny-house-farmstay</td>\n",
              "      <td>https://www.kickstarter.com/discover/categorie...</td>\n",
              "      <td>False</td>\n",
              "      <td>False</td>\n",
              "      <td>failed</td>\n",
              "      <td>1466740802</td>\n",
              "      <td>1.000000</td>\n",
              "      <td>{\"web\":{\"project\":\"https://www.kickstarter.com...</td>\n",
              "      <td>9751.000000</td>\n",
              "      <td>domestic</td>\n",
              "    </tr>\n",
              "    <tr>\n",
              "      <th>192015</th>\n",
              "      <td>1</td>\n",
              "      <td>Raising, growing, and producing beneficial, or...</td>\n",
              "      <td>{\"id\":309,\"name\":\"Farms\",\"slug\":\"food/farms\",\"...</td>\n",
              "      <td>1</td>\n",
              "      <td>US</td>\n",
              "      <td>the United States</td>\n",
              "      <td>1487286249</td>\n",
              "      <td>{\"id\":1016315597,\"name\":\"Amber Charles\",\"is_re...</td>\n",
              "      <td>USD</td>\n",
              "      <td>$</td>\n",
              "      <td>True</td>\n",
              "      <td>USD</td>\n",
              "      <td>1490805888</td>\n",
              "      <td>False</td>\n",
              "      <td>NaN</td>\n",
              "      <td>1.000000</td>\n",
              "      <td>50000.0</td>\n",
              "      <td>773356130</td>\n",
              "      <td>NaN</td>\n",
              "      <td>False</td>\n",
              "      <td>NaN</td>\n",
              "      <td>1488217488</td>\n",
              "      <td>{\"id\":2412843,\"name\":\"Grand Rapids\",\"slug\":\"gr...</td>\n",
              "      <td>Happy Animal Productions Mini Farm organic hea...</td>\n",
              "      <td>NaN</td>\n",
              "      <td>{\"key\":\"assets/015/535/568/d9d20d07f91f0ebcec9...</td>\n",
              "      <td>1.00</td>\n",
              "      <td>{\"id\":2882302,\"project_id\":2882302,\"state\":\"in...</td>\n",
              "      <td>happy-animal-productions-mini-farm-organic-health</td>\n",
              "      <td>https://www.kickstarter.com/discover/categorie...</td>\n",
              "      <td>False</td>\n",
              "      <td>False</td>\n",
              "      <td>failed</td>\n",
              "      <td>1490805888</td>\n",
              "      <td>1.000000</td>\n",
              "      <td>{\"web\":{\"project\":\"https://www.kickstarter.com...</td>\n",
              "      <td>1.000000</td>\n",
              "      <td>domestic</td>\n",
              "    </tr>\n",
              "    <tr>\n",
              "      <th>192016</th>\n",
              "      <td>33</td>\n",
              "      <td>A dungeon-crawler rogue like game, with magic,...</td>\n",
              "      <td>{\"id\":35,\"name\":\"Video Games\",\"slug\":\"games/vi...</td>\n",
              "      <td>531</td>\n",
              "      <td>US</td>\n",
              "      <td>the United States</td>\n",
              "      <td>1581947516</td>\n",
              "      <td>{\"id\":701247715,\"name\":\"Andrew Starkey\",\"slug\"...</td>\n",
              "      <td>USD</td>\n",
              "      <td>$</td>\n",
              "      <td>True</td>\n",
              "      <td>USD</td>\n",
              "      <td>1584739717</td>\n",
              "      <td>False</td>\n",
              "      <td>NaN</td>\n",
              "      <td>1.000000</td>\n",
              "      <td>160.0</td>\n",
              "      <td>87295810</td>\n",
              "      <td>NaN</td>\n",
              "      <td>False</td>\n",
              "      <td>NaN</td>\n",
              "      <td>1582151317</td>\n",
              "      <td>{\"id\":2367105,\"name\":\"Boston\",\"slug\":\"boston-m...</td>\n",
              "      <td>Wizodd</td>\n",
              "      <td>NaN</td>\n",
              "      <td>{\"key\":\"assets/028/151/723/76ecc73bbf175253e2f...</td>\n",
              "      <td>531.00</td>\n",
              "      <td>{\"id\":3935843,\"project_id\":3935843,\"state\":\"in...</td>\n",
              "      <td>wizodd</td>\n",
              "      <td>https://www.kickstarter.com/discover/categorie...</td>\n",
              "      <td>True</td>\n",
              "      <td>False</td>\n",
              "      <td>successful</td>\n",
              "      <td>1584739718</td>\n",
              "      <td>1.000000</td>\n",
              "      <td>{\"web\":{\"project\":\"https://www.kickstarter.com...</td>\n",
              "      <td>531.000000</td>\n",
              "      <td>domestic</td>\n",
              "    </tr>\n",
              "    <tr>\n",
              "      <th>192017</th>\n",
              "      <td>28</td>\n",
              "      <td>I've decided! It's time to record a solo piano...</td>\n",
              "      <td>{\"id\":41,\"name\":\"Jazz\",\"slug\":\"music/jazz\",\"po...</td>\n",
              "      <td>1596</td>\n",
              "      <td>US</td>\n",
              "      <td>the United States</td>\n",
              "      <td>1436298934</td>\n",
              "      <td>{\"id\":373806588,\"name\":\"Reggie Berg\",\"is_regis...</td>\n",
              "      <td>USD</td>\n",
              "      <td>$</td>\n",
              "      <td>True</td>\n",
              "      <td>USD</td>\n",
              "      <td>1438056000</td>\n",
              "      <td>False</td>\n",
              "      <td>NaN</td>\n",
              "      <td>1.000000</td>\n",
              "      <td>1500.0</td>\n",
              "      <td>1125176807</td>\n",
              "      <td>NaN</td>\n",
              "      <td>False</td>\n",
              "      <td>NaN</td>\n",
              "      <td>1436811744</td>\n",
              "      <td>{\"id\":2391279,\"name\":\"Denver\",\"slug\":\"denver-c...</td>\n",
              "      <td>Reggie Berg's Solo Piano Album</td>\n",
              "      <td>NaN</td>\n",
              "      <td>{\"key\":\"assets/012/190/287/50ffa9199ea4c807b63...</td>\n",
              "      <td>1596.00</td>\n",
              "      <td>{\"id\":2002261,\"project_id\":2002261,\"state\":\"in...</td>\n",
              "      <td>reggie-bergs-solo-piano-album</td>\n",
              "      <td>https://www.kickstarter.com/discover/categorie...</td>\n",
              "      <td>True</td>\n",
              "      <td>False</td>\n",
              "      <td>successful</td>\n",
              "      <td>1438056016</td>\n",
              "      <td>1.000000</td>\n",
              "      <td>{\"web\":{\"project\":\"https://www.kickstarter.com...</td>\n",
              "      <td>1596.000000</td>\n",
              "      <td>domestic</td>\n",
              "    </tr>\n",
              "    <tr>\n",
              "      <th>192018</th>\n",
              "      <td>158</td>\n",
              "      <td>A fun and action packed comics magazine for ki...</td>\n",
              "      <td>{\"id\":3,\"name\":\"Comics\",\"slug\":\"comics\",\"posit...</td>\n",
              "      <td>1618</td>\n",
              "      <td>GB</td>\n",
              "      <td>the United Kingdom</td>\n",
              "      <td>1567061530</td>\n",
              "      <td>{\"id\":174026540,\"name\":\"Fair Spark Books\",\"slu...</td>\n",
              "      <td>GBP</td>\n",
              "      <td>£</td>\n",
              "      <td>False</td>\n",
              "      <td>USD</td>\n",
              "      <td>1569844740</td>\n",
              "      <td>False</td>\n",
              "      <td>NaN</td>\n",
              "      <td>1.290304</td>\n",
              "      <td>1050.0</td>\n",
              "      <td>636469881</td>\n",
              "      <td>NaN</td>\n",
              "      <td>False</td>\n",
              "      <td>NaN</td>\n",
              "      <td>1567597367</td>\n",
              "      <td>{\"id\":44418,\"name\":\"London\",\"slug\":\"london-gb\"...</td>\n",
              "      <td>The Spark : The New All-Ages Monthly Comic Mag...</td>\n",
              "      <td>NaN</td>\n",
              "      <td>{\"key\":\"assets/026/293/196/63e3f49fd210db47a29...</td>\n",
              "      <td>1317.00</td>\n",
              "      <td>{\"id\":3802872,\"project_id\":3802872,\"state\":\"ac...</td>\n",
              "      <td>the-spark-the-new-all-ages-monthly-comic-magazine</td>\n",
              "      <td>https://www.kickstarter.com/discover/categorie...</td>\n",
              "      <td>True</td>\n",
              "      <td>False</td>\n",
              "      <td>successful</td>\n",
              "      <td>1569844740</td>\n",
              "      <td>1.203275</td>\n",
              "      <td>{\"web\":{\"project\":\"https://www.kickstarter.com...</td>\n",
              "      <td>1584.713596</td>\n",
              "      <td>domestic</td>\n",
              "    </tr>\n",
              "  </tbody>\n",
              "</table>\n",
              "<p>192019 rows × 38 columns</p>\n",
              "</div>"
            ],
            "text/plain": [
              "        backers_count                                              blurb  \\\n",
              "0                   6  Lulabelle needs to rest, she's pleaded with me...   \n",
              "1                   3  EducaDots is an educative multimedia software ...   \n",
              "2                 123  A feature film about love, death, teenage emot...   \n",
              "3                   8  I made a tool to turn images into LEGO mosaics...   \n",
              "4                   2  21m breaches in 2016 alone. Presenting a video...   \n",
              "...               ...                                                ...   \n",
              "192014             29  Small boutique retreats & farmstay experiences...   \n",
              "192015              1  Raising, growing, and producing beneficial, or...   \n",
              "192016             33  A dungeon-crawler rogue like game, with magic,...   \n",
              "192017             28  I've decided! It's time to record a solo piano...   \n",
              "192018            158  A fun and action packed comics magazine for ki...   \n",
              "\n",
              "                                                 category  \\\n",
              "0       {\"id\":312,\"name\":\"Restaurants\",\"slug\":\"food/re...   \n",
              "1       {\"id\":51,\"name\":\"Software\",\"slug\":\"technology/...   \n",
              "2       {\"id\":293,\"name\":\"Drama\",\"slug\":\"film & video/...   \n",
              "3       {\"id\":288,\"name\":\"Installations\",\"slug\":\"art/i...   \n",
              "4       {\"id\":51,\"name\":\"Software\",\"slug\":\"technology/...   \n",
              "...                                                   ...   \n",
              "192014  {\"id\":309,\"name\":\"Farms\",\"slug\":\"food/farms\",\"...   \n",
              "192015  {\"id\":309,\"name\":\"Farms\",\"slug\":\"food/farms\",\"...   \n",
              "192016  {\"id\":35,\"name\":\"Video Games\",\"slug\":\"games/vi...   \n",
              "192017  {\"id\":41,\"name\":\"Jazz\",\"slug\":\"music/jazz\",\"po...   \n",
              "192018  {\"id\":3,\"name\":\"Comics\",\"slug\":\"comics\",\"posit...   \n",
              "\n",
              "        converted_pledged_amount country country_displayable_name  created_at  \\\n",
              "0                            696      GB       the United Kingdom  1442400887   \n",
              "1                             61      US        the United States  1534559102   \n",
              "2                          16439      SE                   Sweden  1583749182   \n",
              "3                            160      US        the United States  1436695015   \n",
              "4                            278      GB       the United Kingdom  1469605439   \n",
              "...                          ...     ...                      ...         ...   \n",
              "192014                      9751      US        the United States  1449363535   \n",
              "192015                         1      US        the United States  1487286249   \n",
              "192016                       531      US        the United States  1581947516   \n",
              "192017                      1596      US        the United States  1436298934   \n",
              "192018                      1618      GB       the United Kingdom  1567061530   \n",
              "\n",
              "                                                  creator currency  \\\n",
              "0       {\"id\":1738742206,\"name\":\"VWLulabelle\",\"is_regi...      GBP   \n",
              "1       {\"id\":1595095675,\"name\":\"Diamarie Saavedra\",\"s...      USD   \n",
              "2       {\"id\":791598010,\"name\":\"Patrik Blomberg Book\",...      SEK   \n",
              "3       {\"id\":212092138,\"name\":\"Raven Jiang\",\"is_regis...      USD   \n",
              "4       {\"id\":1235898470,\"name\":\"David Bochenski\",\"is_...      GBP   \n",
              "...                                                   ...      ...   \n",
              "192014  {\"id\":1234268676,\"name\":\"Tessa, Ian & Aza Chit...      USD   \n",
              "192015  {\"id\":1016315597,\"name\":\"Amber Charles\",\"is_re...      USD   \n",
              "192016  {\"id\":701247715,\"name\":\"Andrew Starkey\",\"slug\"...      USD   \n",
              "192017  {\"id\":373806588,\"name\":\"Reggie Berg\",\"is_regis...      USD   \n",
              "192018  {\"id\":174026540,\"name\":\"Fair Spark Books\",\"slu...      GBP   \n",
              "\n",
              "       currency_symbol  currency_trailing_code current_currency    deadline  \\\n",
              "0                    £                   False              USD  1444950000   \n",
              "1                    $                    True              USD  1539219970   \n",
              "2                   kr                    True              USD  1587643203   \n",
              "3                    $                    True              USD  1440053074   \n",
              "4                    £                   False              USD  1475249400   \n",
              "...                ...                     ...              ...         ...   \n",
              "192014               $                    True              USD  1466740800   \n",
              "192015               $                    True              USD  1490805888   \n",
              "192016               $                    True              USD  1584739717   \n",
              "192017               $                    True              USD  1438056000   \n",
              "192018               £                   False              USD  1569844740   \n",
              "\n",
              "        disable_communication friends   fx_rate      goal          id  \\\n",
              "0                       False     NaN  1.291356   17500.0  1117886645   \n",
              "1                       False     NaN  1.000000   10000.0   923000422   \n",
              "2                       False     NaN  0.112924  150000.0    18333200   \n",
              "3                       False     NaN  1.000000    1200.0  2083394396   \n",
              "4                       False     NaN  1.291356    3500.0  1196260883   \n",
              "...                       ...     ...       ...       ...         ...   \n",
              "192014                  False     NaN  1.000000   50000.0    72354880   \n",
              "192015                  False     NaN  1.000000   50000.0   773356130   \n",
              "192016                  False     NaN  1.000000     160.0    87295810   \n",
              "192017                  False     NaN  1.000000    1500.0  1125176807   \n",
              "192018                  False     NaN  1.290304    1050.0   636469881   \n",
              "\n",
              "       is_backing  is_starrable is_starred  launched_at  \\\n",
              "0             NaN         False        NaN   1442507907   \n",
              "1             NaN         False        NaN   1536627970   \n",
              "2             NaN         False        NaN   1585051203   \n",
              "3             NaN         False        NaN   1437461074   \n",
              "4             NaN         False        NaN   1472729297   \n",
              "...           ...           ...        ...          ...   \n",
              "192014        NaN         False        NaN   1462630138   \n",
              "192015        NaN         False        NaN   1488217488   \n",
              "192016        NaN         False        NaN   1582151317   \n",
              "192017        NaN         False        NaN   1436811744   \n",
              "192018        NaN         False        NaN   1567597367   \n",
              "\n",
              "                                                 location  \\\n",
              "0       {\"id\":22514,\"name\":\"Harrogate\",\"slug\":\"harroga...   \n",
              "1       {\"id\":161597,\"name\":\"Quebradillas\",\"slug\":\"que...   \n",
              "2       {\"id\":898091,\"name\":\"Malmö\",\"slug\":\"malmo-se\",...   \n",
              "3       {\"id\":2487956,\"name\":\"San Francisco\",\"slug\":\"s...   \n",
              "4       {\"id\":12602189,\"name\":\"Staffordshire\",\"slug\":\"...   \n",
              "...                                                   ...   \n",
              "192014  {\"id\":2410101,\"name\":\"Gig Harbor\",\"slug\":\"gig-...   \n",
              "192015  {\"id\":2412843,\"name\":\"Grand Rapids\",\"slug\":\"gr...   \n",
              "192016  {\"id\":2367105,\"name\":\"Boston\",\"slug\":\"boston-m...   \n",
              "192017  {\"id\":2391279,\"name\":\"Denver\",\"slug\":\"denver-c...   \n",
              "192018  {\"id\":44418,\"name\":\"London\",\"slug\":\"london-gb\"...   \n",
              "\n",
              "                                                     name permissions  \\\n",
              "0                                       Lulabelles Legacy         NaN   \n",
              "1       Revolutionary and affordable 3D / VR software ...         NaN   \n",
              "2                                       Düsseldorf, Skåne         NaN   \n",
              "3                         Recreate the Great Wave in LEGO         NaN   \n",
              "4       Securing Systems with Hashicorp Vault - Online...         NaN   \n",
              "...                                                   ...         ...   \n",
              "192014          The Chittle Homestead Tiny House Farmstay         NaN   \n",
              "192015  Happy Animal Productions Mini Farm organic hea...         NaN   \n",
              "192016                                             Wizodd         NaN   \n",
              "192017                     Reggie Berg's Solo Piano Album         NaN   \n",
              "192018  The Spark : The New All-Ages Monthly Comic Mag...         NaN   \n",
              "\n",
              "                                                    photo    pledged  \\\n",
              "0       {\"key\":\"assets/012/254/532/629fc23e3cc09c31101...     450.00   \n",
              "1       {\"key\":\"assets/022/265/538/1ed2529a867c6455c0a...      61.00   \n",
              "2       {\"key\":\"assets/028/410/975/0321124bda5c7ce0ff4...  166273.71   \n",
              "3       {\"key\":\"assets/012/194/667/01064f5208350eee8fe...     160.10   \n",
              "4       {\"key\":\"assets/013/379/014/41c6a1ea013c011d5b1...     215.00   \n",
              "...                                                   ...        ...   \n",
              "192014  {\"key\":\"assets/012/325/344/b2264b2d9246a0b6beb...    9751.00   \n",
              "192015  {\"key\":\"assets/015/535/568/d9d20d07f91f0ebcec9...       1.00   \n",
              "192016  {\"key\":\"assets/028/151/723/76ecc73bbf175253e2f...     531.00   \n",
              "192017  {\"key\":\"assets/012/190/287/50ffa9199ea4c807b63...    1596.00   \n",
              "192018  {\"key\":\"assets/026/293/196/63e3f49fd210db47a29...    1317.00   \n",
              "\n",
              "                                                  profile  \\\n",
              "0       {\"id\":2125303,\"project_id\":2125303,\"state\":\"in...   \n",
              "1       {\"id\":3450727,\"project_id\":3450727,\"state\":\"in...   \n",
              "2       {\"id\":3949606,\"project_id\":3949606,\"state\":\"ac...   \n",
              "3       {\"id\":2010313,\"project_id\":2010313,\"state\":\"in...   \n",
              "4       {\"id\":2615957,\"project_id\":2615957,\"state\":\"in...   \n",
              "...                                                   ...   \n",
              "192014  {\"id\":2263645,\"project_id\":2263645,\"state\":\"in...   \n",
              "192015  {\"id\":2882302,\"project_id\":2882302,\"state\":\"in...   \n",
              "192016  {\"id\":3935843,\"project_id\":3935843,\"state\":\"in...   \n",
              "192017  {\"id\":2002261,\"project_id\":2002261,\"state\":\"in...   \n",
              "192018  {\"id\":3802872,\"project_id\":3802872,\"state\":\"ac...   \n",
              "\n",
              "                                                     slug  \\\n",
              "0                                       lulabelles-legacy   \n",
              "1       revolutionary-and-affordable-3d-vr-software-an...   \n",
              "2                                        dusseldorf-skane   \n",
              "3                         recreate-the-great-wave-in-lego   \n",
              "4       securing-systems-with-hashicorp-vault-online-v...   \n",
              "...                                                   ...   \n",
              "192014          the-chittle-homestead-tiny-house-farmstay   \n",
              "192015  happy-animal-productions-mini-farm-organic-health   \n",
              "192016                                             wizodd   \n",
              "192017                      reggie-bergs-solo-piano-album   \n",
              "192018  the-spark-the-new-all-ages-monthly-comic-magazine   \n",
              "\n",
              "                                               source_url  spotlight  \\\n",
              "0       https://www.kickstarter.com/discover/categorie...      False   \n",
              "1       https://www.kickstarter.com/discover/categorie...      False   \n",
              "2       https://www.kickstarter.com/discover/categorie...       True   \n",
              "3       https://www.kickstarter.com/discover/categorie...      False   \n",
              "4       https://www.kickstarter.com/discover/categorie...      False   \n",
              "...                                                   ...        ...   \n",
              "192014  https://www.kickstarter.com/discover/categorie...      False   \n",
              "192015  https://www.kickstarter.com/discover/categorie...      False   \n",
              "192016  https://www.kickstarter.com/discover/categorie...       True   \n",
              "192017  https://www.kickstarter.com/discover/categorie...       True   \n",
              "192018  https://www.kickstarter.com/discover/categorie...       True   \n",
              "\n",
              "        staff_pick       state  state_changed_at  static_usd_rate  \\\n",
              "0            False      failed        1444950018         1.534846   \n",
              "1            False      failed        1539219970         1.000000   \n",
              "2            False  successful        1587643203         0.095886   \n",
              "3            False      failed        1440053115         1.000000   \n",
              "4            False      failed        1475249402         1.310662   \n",
              "...            ...         ...               ...              ...   \n",
              "192014       False      failed        1466740802         1.000000   \n",
              "192015       False      failed        1490805888         1.000000   \n",
              "192016       False  successful        1584739718         1.000000   \n",
              "192017       False  successful        1438056016         1.000000   \n",
              "192018       False  successful        1569844740         1.203275   \n",
              "\n",
              "                                                     urls   usd_pledged  \\\n",
              "0       {\"web\":{\"project\":\"https://www.kickstarter.com...    690.680871   \n",
              "1       {\"web\":{\"project\":\"https://www.kickstarter.com...     61.000000   \n",
              "2       {\"web\":{\"project\":\"https://www.kickstarter.com...  15943.252785   \n",
              "3       {\"web\":{\"project\":\"https://www.kickstarter.com...    160.100000   \n",
              "4       {\"web\":{\"project\":\"https://www.kickstarter.com...    281.792410   \n",
              "...                                                   ...           ...   \n",
              "192014  {\"web\":{\"project\":\"https://www.kickstarter.com...   9751.000000   \n",
              "192015  {\"web\":{\"project\":\"https://www.kickstarter.com...      1.000000   \n",
              "192016  {\"web\":{\"project\":\"https://www.kickstarter.com...    531.000000   \n",
              "192017  {\"web\":{\"project\":\"https://www.kickstarter.com...   1596.000000   \n",
              "192018  {\"web\":{\"project\":\"https://www.kickstarter.com...   1584.713596   \n",
              "\n",
              "        usd_type  \n",
              "0       domestic  \n",
              "1       domestic  \n",
              "2       domestic  \n",
              "3       domestic  \n",
              "4       domestic  \n",
              "...          ...  \n",
              "192014  domestic  \n",
              "192015  domestic  \n",
              "192016  domestic  \n",
              "192017  domestic  \n",
              "192018  domestic  \n",
              "\n",
              "[192019 rows x 38 columns]"
            ]
          },
          "metadata": {
            "tags": []
          },
          "execution_count": 9
        }
      ]
    },
    {
      "cell_type": "code",
      "metadata": {
        "id": "0hpvQ96IZ0UF",
        "colab": {
          "base_uri": "https://localhost:8080/"
        },
        "outputId": "51b5c22d-aef8-434a-f985-7873006c7da2"
      },
      "source": [
        "df.shape"
      ],
      "execution_count": null,
      "outputs": [
        {
          "output_type": "execute_result",
          "data": {
            "text/plain": [
              "(192019, 38)"
            ]
          },
          "metadata": {
            "tags": []
          },
          "execution_count": 10
        }
      ]
    },
    {
      "cell_type": "code",
      "metadata": {
        "id": "u2Phlh26Z0UM",
        "scrolled": true,
        "colab": {
          "base_uri": "https://localhost:8080/"
        },
        "outputId": "8568b043-b007-494e-8b67-7683983cdea8"
      },
      "source": [
        "df.isnull().sum()"
      ],
      "execution_count": null,
      "outputs": [
        {
          "output_type": "execute_result",
          "data": {
            "text/plain": [
              "backers_count                    0\n",
              "blurb                            8\n",
              "category                         0\n",
              "converted_pledged_amount         0\n",
              "country                          0\n",
              "country_displayable_name         0\n",
              "created_at                       0\n",
              "creator                          0\n",
              "currency                         0\n",
              "currency_symbol                  0\n",
              "currency_trailing_code           0\n",
              "current_currency                 0\n",
              "deadline                         0\n",
              "disable_communication            0\n",
              "friends                     191925\n",
              "fx_rate                          0\n",
              "goal                             0\n",
              "id                               0\n",
              "is_backing                  191925\n",
              "is_starrable                     0\n",
              "is_starred                  191925\n",
              "launched_at                      0\n",
              "location                       213\n",
              "name                             0\n",
              "permissions                 191925\n",
              "photo                            0\n",
              "pledged                          0\n",
              "profile                          0\n",
              "slug                             0\n",
              "source_url                       0\n",
              "spotlight                        0\n",
              "staff_pick                       0\n",
              "state                            0\n",
              "state_changed_at                 0\n",
              "static_usd_rate                  0\n",
              "urls                             0\n",
              "usd_pledged                      0\n",
              "usd_type                       180\n",
              "dtype: int64"
            ]
          },
          "metadata": {
            "tags": []
          },
          "execution_count": 11
        }
      ]
    },
    {
      "cell_type": "markdown",
      "metadata": {
        "id": "t4ni6NnrZ0UP"
      },
      "source": [
        "#### Droping columns and nan values\n",
        "#### 1.) There are around 99.8% missing values for friends, is_backing, is_starred, permissions and friends columns. Hence, dropping those columns\n",
        "#### 2.) Removing the rows for 8 projects for which there is no project name.\n",
        "#### 3.) Also, dropping creator, currency, currency_symbol, currency_trailing_code, fx_rate, disable_communication, id, location_json, photo, profile, slug, source_url, usd_type columns because those columns are not having much information to do analysis"
      ]
    },
    {
      "cell_type": "code",
      "metadata": {
        "id": "U9SzaTEZZ0UQ",
        "scrolled": true
      },
      "source": [
        "df.drop(['is_backing','current_currency','is_starred','permissions','friends','creator', 'currency', 'currency_symbol', 'currency_trailing_code', 'disable_communication', 'id', 'fx_rate', 'photo', 'profile', 'urls','slug', 'country_displayable_name','location','source_url', 'usd_type'], axis = 1, inplace = True)"
      ],
      "execution_count": null,
      "outputs": []
    },
    {
      "cell_type": "code",
      "metadata": {
        "id": "C-6las0ZZ0US",
        "colab": {
          "base_uri": "https://localhost:8080/",
          "height": 584
        },
        "outputId": "a4f8d24c-d5aa-4941-9b9b-7718c67af9ac"
      },
      "source": [
        "df = df[df['blurb'].notna()]\n",
        "df.reset_index(drop= True,inplace = True)\n",
        "df.head()"
      ],
      "execution_count": null,
      "outputs": [
        {
          "output_type": "execute_result",
          "data": {
            "text/html": [
              "<div>\n",
              "<style scoped>\n",
              "    .dataframe tbody tr th:only-of-type {\n",
              "        vertical-align: middle;\n",
              "    }\n",
              "\n",
              "    .dataframe tbody tr th {\n",
              "        vertical-align: top;\n",
              "    }\n",
              "\n",
              "    .dataframe thead th {\n",
              "        text-align: right;\n",
              "    }\n",
              "</style>\n",
              "<table border=\"1\" class=\"dataframe\">\n",
              "  <thead>\n",
              "    <tr style=\"text-align: right;\">\n",
              "      <th></th>\n",
              "      <th>backers_count</th>\n",
              "      <th>blurb</th>\n",
              "      <th>category</th>\n",
              "      <th>converted_pledged_amount</th>\n",
              "      <th>country</th>\n",
              "      <th>created_at</th>\n",
              "      <th>deadline</th>\n",
              "      <th>goal</th>\n",
              "      <th>is_starrable</th>\n",
              "      <th>launched_at</th>\n",
              "      <th>name</th>\n",
              "      <th>pledged</th>\n",
              "      <th>spotlight</th>\n",
              "      <th>staff_pick</th>\n",
              "      <th>state</th>\n",
              "      <th>state_changed_at</th>\n",
              "      <th>static_usd_rate</th>\n",
              "      <th>usd_pledged</th>\n",
              "    </tr>\n",
              "  </thead>\n",
              "  <tbody>\n",
              "    <tr>\n",
              "      <th>0</th>\n",
              "      <td>6</td>\n",
              "      <td>Lulabelle needs to rest, she's pleaded with me...</td>\n",
              "      <td>{\"id\":312,\"name\":\"Restaurants\",\"slug\":\"food/re...</td>\n",
              "      <td>696</td>\n",
              "      <td>GB</td>\n",
              "      <td>1442400887</td>\n",
              "      <td>1444950000</td>\n",
              "      <td>17500.0</td>\n",
              "      <td>False</td>\n",
              "      <td>1442507907</td>\n",
              "      <td>Lulabelles Legacy</td>\n",
              "      <td>450.00</td>\n",
              "      <td>False</td>\n",
              "      <td>False</td>\n",
              "      <td>failed</td>\n",
              "      <td>1444950018</td>\n",
              "      <td>1.534846</td>\n",
              "      <td>690.680871</td>\n",
              "    </tr>\n",
              "    <tr>\n",
              "      <th>1</th>\n",
              "      <td>3</td>\n",
              "      <td>EducaDots is an educative multimedia software ...</td>\n",
              "      <td>{\"id\":51,\"name\":\"Software\",\"slug\":\"technology/...</td>\n",
              "      <td>61</td>\n",
              "      <td>US</td>\n",
              "      <td>1534559102</td>\n",
              "      <td>1539219970</td>\n",
              "      <td>10000.0</td>\n",
              "      <td>False</td>\n",
              "      <td>1536627970</td>\n",
              "      <td>Revolutionary and affordable 3D / VR software ...</td>\n",
              "      <td>61.00</td>\n",
              "      <td>False</td>\n",
              "      <td>False</td>\n",
              "      <td>failed</td>\n",
              "      <td>1539219970</td>\n",
              "      <td>1.000000</td>\n",
              "      <td>61.000000</td>\n",
              "    </tr>\n",
              "    <tr>\n",
              "      <th>2</th>\n",
              "      <td>123</td>\n",
              "      <td>A feature film about love, death, teenage emot...</td>\n",
              "      <td>{\"id\":293,\"name\":\"Drama\",\"slug\":\"film &amp; video/...</td>\n",
              "      <td>16439</td>\n",
              "      <td>SE</td>\n",
              "      <td>1583749182</td>\n",
              "      <td>1587643203</td>\n",
              "      <td>150000.0</td>\n",
              "      <td>False</td>\n",
              "      <td>1585051203</td>\n",
              "      <td>Düsseldorf, Skåne</td>\n",
              "      <td>166273.71</td>\n",
              "      <td>True</td>\n",
              "      <td>False</td>\n",
              "      <td>successful</td>\n",
              "      <td>1587643203</td>\n",
              "      <td>0.095886</td>\n",
              "      <td>15943.252785</td>\n",
              "    </tr>\n",
              "    <tr>\n",
              "      <th>3</th>\n",
              "      <td>8</td>\n",
              "      <td>I made a tool to turn images into LEGO mosaics...</td>\n",
              "      <td>{\"id\":288,\"name\":\"Installations\",\"slug\":\"art/i...</td>\n",
              "      <td>160</td>\n",
              "      <td>US</td>\n",
              "      <td>1436695015</td>\n",
              "      <td>1440053074</td>\n",
              "      <td>1200.0</td>\n",
              "      <td>False</td>\n",
              "      <td>1437461074</td>\n",
              "      <td>Recreate the Great Wave in LEGO</td>\n",
              "      <td>160.10</td>\n",
              "      <td>False</td>\n",
              "      <td>False</td>\n",
              "      <td>failed</td>\n",
              "      <td>1440053115</td>\n",
              "      <td>1.000000</td>\n",
              "      <td>160.100000</td>\n",
              "    </tr>\n",
              "    <tr>\n",
              "      <th>4</th>\n",
              "      <td>2</td>\n",
              "      <td>21m breaches in 2016 alone. Presenting a video...</td>\n",
              "      <td>{\"id\":51,\"name\":\"Software\",\"slug\":\"technology/...</td>\n",
              "      <td>278</td>\n",
              "      <td>GB</td>\n",
              "      <td>1469605439</td>\n",
              "      <td>1475249400</td>\n",
              "      <td>3500.0</td>\n",
              "      <td>False</td>\n",
              "      <td>1472729297</td>\n",
              "      <td>Securing Systems with Hashicorp Vault - Online...</td>\n",
              "      <td>215.00</td>\n",
              "      <td>False</td>\n",
              "      <td>False</td>\n",
              "      <td>failed</td>\n",
              "      <td>1475249402</td>\n",
              "      <td>1.310662</td>\n",
              "      <td>281.792410</td>\n",
              "    </tr>\n",
              "  </tbody>\n",
              "</table>\n",
              "</div>"
            ],
            "text/plain": [
              "   backers_count                                              blurb  \\\n",
              "0              6  Lulabelle needs to rest, she's pleaded with me...   \n",
              "1              3  EducaDots is an educative multimedia software ...   \n",
              "2            123  A feature film about love, death, teenage emot...   \n",
              "3              8  I made a tool to turn images into LEGO mosaics...   \n",
              "4              2  21m breaches in 2016 alone. Presenting a video...   \n",
              "\n",
              "                                            category  \\\n",
              "0  {\"id\":312,\"name\":\"Restaurants\",\"slug\":\"food/re...   \n",
              "1  {\"id\":51,\"name\":\"Software\",\"slug\":\"technology/...   \n",
              "2  {\"id\":293,\"name\":\"Drama\",\"slug\":\"film & video/...   \n",
              "3  {\"id\":288,\"name\":\"Installations\",\"slug\":\"art/i...   \n",
              "4  {\"id\":51,\"name\":\"Software\",\"slug\":\"technology/...   \n",
              "\n",
              "   converted_pledged_amount country  created_at    deadline      goal  \\\n",
              "0                       696      GB  1442400887  1444950000   17500.0   \n",
              "1                        61      US  1534559102  1539219970   10000.0   \n",
              "2                     16439      SE  1583749182  1587643203  150000.0   \n",
              "3                       160      US  1436695015  1440053074    1200.0   \n",
              "4                       278      GB  1469605439  1475249400    3500.0   \n",
              "\n",
              "   is_starrable  launched_at  \\\n",
              "0         False   1442507907   \n",
              "1         False   1536627970   \n",
              "2         False   1585051203   \n",
              "3         False   1437461074   \n",
              "4         False   1472729297   \n",
              "\n",
              "                                                name    pledged  spotlight  \\\n",
              "0                                  Lulabelles Legacy     450.00      False   \n",
              "1  Revolutionary and affordable 3D / VR software ...      61.00      False   \n",
              "2                                  Düsseldorf, Skåne  166273.71       True   \n",
              "3                    Recreate the Great Wave in LEGO     160.10      False   \n",
              "4  Securing Systems with Hashicorp Vault - Online...     215.00      False   \n",
              "\n",
              "   staff_pick       state  state_changed_at  static_usd_rate   usd_pledged  \n",
              "0       False      failed        1444950018         1.534846    690.680871  \n",
              "1       False      failed        1539219970         1.000000     61.000000  \n",
              "2       False  successful        1587643203         0.095886  15943.252785  \n",
              "3       False      failed        1440053115         1.000000    160.100000  \n",
              "4       False      failed        1475249402         1.310662    281.792410  "
            ]
          },
          "metadata": {
            "tags": []
          },
          "execution_count": 13
        }
      ]
    },
    {
      "cell_type": "markdown",
      "metadata": {
        "id": "YvbrtsCvZ0UV"
      },
      "source": [
        "#### Representing the goal amount in the USD currency format"
      ]
    },
    {
      "cell_type": "code",
      "metadata": {
        "id": "zu_1HTWSZ0UV"
      },
      "source": [
        "df['usd_goal'] = round(df['goal'] * df['static_usd_rate'], 2)"
      ],
      "execution_count": null,
      "outputs": []
    },
    {
      "cell_type": "markdown",
      "metadata": {
        "id": "bXedCTxqZ0UX"
      },
      "source": [
        "#### Converting the Unix time stamp to standard timestamp"
      ]
    },
    {
      "cell_type": "code",
      "metadata": {
        "id": "RIgal4xiZ0UY"
      },
      "source": [
        "df['created_at'] = pd.to_datetime(df['created_at'], unit='s')\n",
        "df['launched_at'] = pd.to_datetime(df['launched_at'], unit='s')\n",
        "df['deadline'] = pd.to_datetime(df['deadline'], unit='s')\n",
        "df['state_changed_at'] = pd.to_datetime(df['state_changed_at'], unit='s')"
      ],
      "execution_count": null,
      "outputs": []
    },
    {
      "cell_type": "code",
      "metadata": {
        "id": "93_Di2DlXg-P"
      },
      "source": [
        "df['launch_to_deadline'] = df['deadline'] - df['launched_at']\n",
        "df['launch_to_deadline'] = df['launch_to_deadline'].dt.round('d').dt.days\n",
        "\n",
        "df['creation_to_launch'] = df['launched_at'] - df['created_at']\n",
        "df['creation_to_launch'] = df['creation_to_launch'].dt.round('d').dt.days\n",
        "\n",
        "df['launch_year'] = df['launched_at'].dt.year\n",
        "df['launch_month'] = df['launched_at'].dt.month\n",
        "\n",
        "df['deadline_year'] = df['launched_at'].dt.year\n",
        "df['deadline_month'] = df['deadline'].dt.month"
      ],
      "execution_count": null,
      "outputs": []
    },
    {
      "cell_type": "markdown",
      "metadata": {
        "id": "DcogLtUQXg-P"
      },
      "source": [
        "### Extracting the main_category column"
      ]
    },
    {
      "cell_type": "code",
      "metadata": {
        "id": "58Jj8Wm0Xg-P"
      },
      "source": [
        "json_list = []    # Extracting the sub-category names of the projects\n",
        "for i in range(len(df)):\n",
        "    json_list.append(json.loads(df['category'][i]))\n",
        "\n",
        "# json_list[0]['parent_name']\n",
        "\n",
        "category = []\n",
        "for i in range(len(json_list)):\n",
        "    category.append(json_list[i]['name'])\n",
        "\n",
        "df.rename(columns={'category':'category_json', 'location': 'location_json'}, inplace=True)\n",
        "\n",
        "df['category'] = category # Adding sub-category name column as category to the dataframe\n",
        "\n",
        "main_category = []   # Extracting the main-category names of the projects\n",
        "for i in range(len(json_list)):\n",
        "    main_category.append(json_list[i].get('parent_name', 'None'))\n",
        "\n",
        "df['main_category'] = main_category  # Adding main-category name column as main-category to the dataframe\n",
        "\n",
        "df.drop(['category_json'], axis=1, inplace=True)\n",
        "df.reset_index(inplace = True)\n",
        "for i in range(0,len(df)):\n",
        "    if df.loc[i,'main_category']=='None':\n",
        "        df.loc[i,'main_category'] = df.loc[i,'category']"
      ],
      "execution_count": null,
      "outputs": []
    },
    {
      "cell_type": "markdown",
      "metadata": {
        "id": "xQdwYaoRd6Hz"
      },
      "source": [
        "#### Exculding the live and cancelled projects for the analysis"
      ]
    },
    {
      "cell_type": "code",
      "metadata": {
        "id": "mWbJNhRxdz_e"
      },
      "source": [
        "df = df[(df['state'] != 'live') & (df['state'] !='canceled')]\n",
        "viz_df = df.copy()"
      ],
      "execution_count": null,
      "outputs": []
    },
    {
      "cell_type": "markdown",
      "metadata": {
        "id": "olziRWs0Z0Ua"
      },
      "source": [
        "# Data Exploration"
      ]
    },
    {
      "cell_type": "markdown",
      "metadata": {
        "id": "H06R80FUcd5l"
      },
      "source": [
        "Out of all projects in kickstarters around 55% of projects were successful, 40% of projects failed and remaining 5% projects were cancelled"
      ]
    },
    {
      "cell_type": "code",
      "metadata": {
        "id": "lghrQ03HcdZ6",
        "colab": {
          "base_uri": "https://localhost:8080/",
          "height": 337
        },
        "outputId": "8f3f2c1a-2d8b-460e-b132-83a4798ff959"
      },
      "source": [
        "viz_df.groupby('state').staff_pick.count().plot(kind = 'bar', color = ['midnightblue','firebrick'])"
      ],
      "execution_count": null,
      "outputs": [
        {
          "output_type": "execute_result",
          "data": {
            "text/plain": [
              "<matplotlib.axes._subplots.AxesSubplot at 0x7f45aafb4e48>"
            ]
          },
          "metadata": {
            "tags": []
          },
          "execution_count": 19
        },
        {
          "output_type": "display_data",
          "data": {
            "image/png": "[encoded data removed]",
            "text/plain": [
              "<Figure size 432x288 with 1 Axes>"
            ]
          },
          "metadata": {
            "tags": [],
            "needs_background": "light"
          }
        }
      ]
    },
    {
      "cell_type": "markdown",
      "metadata": {
        "id": "u9r8VdODhwQj"
      },
      "source": [
        "## Examining dates of creation, launch, and deadline of campaigns"
      ]
    },
    {
      "cell_type": "markdown",
      "metadata": {
        "id": "CrRxNNRHjDO1"
      },
      "source": [
        "#### Comparing campaign creation and launch dates"
      ]
    },
    {
      "cell_type": "code",
      "metadata": {
        "id": "76VXKr9miFnL",
        "colab": {
          "base_uri": "https://localhost:8080/",
          "height": 297
        },
        "outputId": "187b90d0-4043-4852-be70-00cae0d970a4"
      },
      "source": [
        "bins = [_*5 for _ in range(0,20)]\n",
        "sns.histplot(viz_df['creation_to_launch'], bins = bins )"
      ],
      "execution_count": null,
      "outputs": [
        {
          "output_type": "execute_result",
          "data": {
            "text/plain": [
              "<matplotlib.axes._subplots.AxesSubplot at 0x7f45aaefcda0>"
            ]
          },
          "metadata": {
            "tags": []
          },
          "execution_count": 20
        },
        {
          "output_type": "display_data",
          "data": {
            "image/png": "[encoded data removed]",
            "text/plain": [
              "<Figure size 432x288 with 1 Axes>"
            ]
          },
          "metadata": {
            "tags": [],
            "needs_background": "light"
          }
        }
      ]
    },
    {
      "cell_type": "markdown",
      "metadata": {
        "id": "c2hV_jlyjPne"
      },
      "source": [
        "We see that, most of the time, creating and launching a kickstarter campaign happens on the same day! The distribution is basically an exponential one that approaches 0 as the number of days increases."
      ]
    },
    {
      "cell_type": "markdown",
      "metadata": {
        "id": "UxAYJrlYjZQJ"
      },
      "source": [
        "#### Examining how many days are present, on average, between a campaign launch and its deadline"
      ]
    },
    {
      "cell_type": "code",
      "metadata": {
        "id": "AiQ2W2DSjTlJ",
        "colab": {
          "base_uri": "https://localhost:8080/",
          "height": 295
        },
        "outputId": "c3d79765-f398-4e9f-f6c4-706810bb287f"
      },
      "source": [
        "plt.title('Number of days between launch and deadline')\n",
        "plt.hist(viz_df['launch_to_deadline'], bins = [0,10,20,30,40,50,60,70])\n",
        "plt.xlabel('Number of days');\n",
        "plt.ylabel('Frequency');"
      ],
      "execution_count": null,
      "outputs": [
        {
          "output_type": "display_data",
          "data": {
            "image/png": "[encoded data removed]",
            "text/plain": [
              "<Figure size 432x288 with 1 Axes>"
            ]
          },
          "metadata": {
            "tags": [],
            "needs_background": "light"
          }
        }
      ]
    },
    {
      "cell_type": "markdown",
      "metadata": {
        "id": "3xcBmkbWjjYA"
      },
      "source": [
        "We see that, on average, most campaigns have a month (between 30 and 40 days) between when they launch and when they set their deadline. This allows for momentum to be maintained and for people to bid immediately rather than losing steam."
      ]
    },
    {
      "cell_type": "markdown",
      "metadata": {
        "id": "BNQJEJRakLDh"
      },
      "source": [
        "#### Examining campaign launch dates"
      ]
    },
    {
      "cell_type": "code",
      "metadata": {
        "id": "oPGrkWEcjYdM",
        "colab": {
          "base_uri": "https://localhost:8080/",
          "height": 295
        },
        "outputId": "9973265f-d98a-4333-edcb-8cece4121b1e"
      },
      "source": [
        "plt.title('Number of campaign launches by year')\n",
        "viz_df['launch_year'].value_counts(sort=False).plot(kind='bar', rot=0);\n",
        "plt.xlabel('Year');\n",
        "plt.ylabel('Frequency');"
      ],
      "execution_count": null,
      "outputs": [
        {
          "output_type": "display_data",
          "data": {
            "image/png": "[encoded data removed]",
            "text/plain": [
              "<Figure size 432x288 with 1 Axes>"
            ]
          },
          "metadata": {
            "tags": [],
            "needs_background": "light"
          }
        }
      ]
    },
    {
      "cell_type": "markdown",
      "metadata": {
        "id": "nO3FyBAwkXR1"
      },
      "source": [
        "We see that 2015 saw the greatest number of Kickstarter campaigns being launched. The number of campaigns launched from 2016-2020 outnumbers the number of campaigns from 2009-2014. This makes sense because Kickstarter began only in 2009 and needed a few years to become popular and establish itself as a good medium to use for crowdsourcing."
      ]
    },
    {
      "cell_type": "code",
      "metadata": {
        "id": "eI3DTBmdjmX9",
        "colab": {
          "base_uri": "https://localhost:8080/",
          "height": 281
        },
        "outputId": "b5219063-bfda-4359-c60e-8b1052a586ba"
      },
      "source": [
        "plt.title('Number of campaign launches by month')\n",
        "viz_df['launch_month'].value_counts(sort=False).plot(kind='bar',rot=0);"
      ],
      "execution_count": null,
      "outputs": [
        {
          "output_type": "display_data",
          "data": {
            "image/png": "[encoded data removed]",
            "text/plain": [
              "<Figure size 432x288 with 1 Axes>"
            ]
          },
          "metadata": {
            "tags": [],
            "needs_background": "light"
          }
        }
      ]
    },
    {
      "cell_type": "markdown",
      "metadata": {
        "id": "w40fBFDak1sz"
      },
      "source": [
        "We see that July sees the greatest number of launches and December sees the fewest. Overall, several months have >15000 launches.\n"
      ]
    },
    {
      "cell_type": "code",
      "metadata": {
        "id": "TK2bFwAJjqVd",
        "colab": {
          "base_uri": "https://localhost:8080/",
          "height": 295
        },
        "outputId": "ea3e4c38-a019-4c1b-dfdd-5b591a460626"
      },
      "source": [
        "plt.title('Number of campaign deadlines by year')\n",
        "viz_df['deadline_year'].value_counts(sort=False).plot(kind='bar', rot=0);\n",
        "plt.xlabel('Year');\n",
        "plt.ylabel('Frequency');"
      ],
      "execution_count": null,
      "outputs": [
        {
          "output_type": "display_data",
          "data": {
            "image/png": "[encoded data removed]",
            "text/plain": [
              "<Figure size 432x288 with 1 Axes>"
            ]
          },
          "metadata": {
            "tags": [],
            "needs_background": "light"
          }
        }
      ]
    },
    {
      "cell_type": "markdown",
      "metadata": {
        "id": "2bswwwnSmcXh"
      },
      "source": [
        "We see that the maximum number of campaign deadlines was in 2015. This makes sense since we know that the maximum number of launches was in 2015 and the average period of time between a campaign launch and its deadline is between 30 and 40 days."
      ]
    },
    {
      "cell_type": "code",
      "metadata": {
        "id": "UQMm0NBdlfh-",
        "colab": {
          "base_uri": "https://localhost:8080/",
          "height": 295
        },
        "outputId": "97cce205-028b-4b35-cfd3-666a14489b1f"
      },
      "source": [
        "plt.title('Number of campaign deadlines by month')\n",
        "viz_df['deadline_month'].value_counts(sort=False).plot(kind='bar', rot=0);\n",
        "plt.xlabel('Month');\n",
        "plt.ylabel('Frequency');"
      ],
      "execution_count": null,
      "outputs": [
        {
          "output_type": "display_data",
          "data": {
            "image/png": "[encoded data removed]",
            "text/plain": [
              "<Figure size 432x288 with 1 Axes>"
            ]
          },
          "metadata": {
            "tags": [],
            "needs_background": "light"
          }
        }
      ]
    },
    {
      "cell_type": "markdown",
      "metadata": {
        "id": "QDcTqmPsmum0"
      },
      "source": [
        "The maximum number of campaign deadlines is in August. We can use the same logic as above to understand it - most campaign begin in July and since they take around 30 days on average to end, we can foresee that most campaigns will end in August."
      ]
    },
    {
      "cell_type": "code",
      "metadata": {
        "id": "OIXZ3GD2mr4s"
      },
      "source": [
        ""
      ],
      "execution_count": null,
      "outputs": []
    },
    {
      "cell_type": "markdown",
      "metadata": {
        "id": "SvJ7_FY5kT8w"
      },
      "source": [
        "#### Staff Picked projects Exploratory Analysis"
      ]
    },
    {
      "cell_type": "markdown",
      "metadata": {
        "id": "jFupqZZGeetN"
      },
      "source": [
        "If a project is picked by staff, there is only around 10% chance of failure of the project whereas, there is almost 45% chance of failure\n",
        "\n",
        "The average no of backers for staff picked projects are almost 8 times high when compared to the projects not picked by staff\n",
        "\n",
        "The median goal and pledged amount for staff picked projects are around 10,000 USD"
      ]
    },
    {
      "cell_type": "code",
      "metadata": {
        "id": "qnv3uuw_c87y",
        "colab": {
          "base_uri": "https://localhost:8080/",
          "height": 872
        },
        "outputId": "1498bff5-22fa-4f22-a7a0-ee85cdfec4de"
      },
      "source": [
        "fig, ((ax1, ax2),(ax3, ax4)) = plt.subplots(2, 2, figsize=(20,14))\n",
        "pick_df = pd.get_dummies(viz_df.set_index('staff_pick').state).groupby('staff_pick').sum()\n",
        "pick_df.plot(kind = 'bar', ax = ax1, color=['firebrick', 'seagreen'])\n",
        "ax1.set_title('Success/Failed based on staff_pick')\n",
        "\n",
        "viz_df.groupby('staff_pick').backers_count.median().plot(kind = 'bar', ax = ax2, color = ['firebrick', 'seagreen'])\n",
        "ax2.set_title('Median Backers count')\n",
        "ax2.set_ylim(0,160)\n",
        "\n",
        "viz_df.groupby('staff_pick').usd_goal.median().plot(kind = 'bar', ax = ax3, color = ['firebrick', 'seagreen'])\n",
        "ax3.set_title('Median Goal Amount')\n",
        "ax3.set_ylim(0,20000)\n",
        "\n",
        "viz_df.groupby('staff_pick').usd_pledged.median().plot(kind = 'bar', ax = ax4, color = ['firebrick', 'seagreen'])\n",
        "ax4.set_title('Median pledged Amount')\n",
        "ax4.set_ylim(0,12000)"
      ],
      "execution_count": null,
      "outputs": [
        {
          "output_type": "execute_result",
          "data": {
            "text/plain": [
              "(0.0, 12000.0)"
            ]
          },
          "metadata": {
            "tags": []
          },
          "execution_count": 27
        },
        {
          "output_type": "display_data",
          "data": {
            "image/png": "[encoded data removed]",
            "text/plain": [
              "<Figure size 1440x1008 with 4 Axes>"
            ]
          },
          "metadata": {
            "tags": [],
            "needs_background": "light"
          }
        }
      ]
    },
    {
      "cell_type": "markdown",
      "metadata": {
        "id": "j1D60BJkEmce"
      },
      "source": [
        "Generating word cloud based for blurb"
      ]
    },
    {
      "cell_type": "code",
      "metadata": {
        "id": "SHBfhagz74E1"
      },
      "source": [
        "from wordcloud import WordCloud,STOPWORDS,ImageColorGenerator"
      ],
      "execution_count": null,
      "outputs": []
    },
    {
      "cell_type": "code",
      "metadata": {
        "id": "vNpDHrSp8Dkz"
      },
      "source": [
        "text = \" \".join(desc for desc in viz_df.blurb)"
      ],
      "execution_count": null,
      "outputs": []
    },
    {
      "cell_type": "code",
      "metadata": {
        "id": "c4drM2jnDhPs"
      },
      "source": [
        "stopwords = set(STOPWORDS)\n",
        "stopwords.add('want')\n",
        "stopwords.add('will')\n",
        "stopwords.add('made')\n",
        "stopwords.add('need')"
      ],
      "execution_count": null,
      "outputs": []
    },
    {
      "cell_type": "code",
      "metadata": {
        "id": "f38h8bhX_jrF",
        "colab": {
          "base_uri": "https://localhost:8080/",
          "height": 215
        },
        "outputId": "aa89889c-ee17-42fe-d6e4-e3d5dc467bc2"
      },
      "source": [
        "print(\"Word Cloud of blurb for all projects\")\n",
        "wordcloud = WordCloud(stopwords=stopwords).generate(text)\n",
        "plt.imshow(wordcloud, interpolation='bilinear')\n",
        "plt.axis(\"off\")\n",
        "plt.show()"
      ],
      "execution_count": null,
      "outputs": [
        {
          "output_type": "stream",
          "text": [
            "Word Cloud of blurb for all projects\n"
          ],
          "name": "stdout"
        },
        {
          "output_type": "display_data",
          "data": {
            "image/png": "[encoded data removed]",
            "text/plain": [
              "<Figure size 432x288 with 1 Axes>"
            ]
          },
          "metadata": {
            "tags": [],
            "needs_background": "light"
          }
        }
      ]
    },
    {
      "cell_type": "code",
      "metadata": {
        "id": "606zje6V_-n_"
      },
      "source": [
        "success = \" \".join(desc for desc in viz_df[viz_df[\"state\"]=='successful'].blurb)\n",
        "fail = \" \".join(desc for desc in viz_df[viz_df[\"state\"]=='failed'].blurb)"
      ],
      "execution_count": null,
      "outputs": []
    },
    {
      "cell_type": "code",
      "metadata": {
        "id": "U8nFPsuoCLTe",
        "colab": {
          "base_uri": "https://localhost:8080/",
          "height": 215
        },
        "outputId": "13e6c8c5-1571-4c93-ce48-4061abb9182a"
      },
      "source": [
        "print(\"Word cloud of blurb for successful projects\")\n",
        "wordcloud = WordCloud(stopwords=stopwords).generate(success)\n",
        "plt.imshow(wordcloud, interpolation='bilinear')\n",
        "plt.axis(\"off\")\n",
        "plt.show()\n"
      ],
      "execution_count": null,
      "outputs": [
        {
          "output_type": "stream",
          "text": [
            "Word cloud of blurb for successful projects\n"
          ],
          "name": "stdout"
        },
        {
          "output_type": "display_data",
          "data": {
            "image/png": "[encoded data removed]",
            "text/plain": [
              "<Figure size 432x288 with 1 Axes>"
            ]
          },
          "metadata": {
            "tags": [],
            "needs_background": "light"
          }
        }
      ]
    },
    {
      "cell_type": "code",
      "metadata": {
        "id": "yAgnjlTTCp0R",
        "colab": {
          "base_uri": "https://localhost:8080/",
          "height": 215
        },
        "outputId": "970ee220-8623-40ed-f316-b663aab76c46"
      },
      "source": [
        "print(\"Word cloud of blurb for failed projects\")\n",
        "wordcloud = WordCloud(stopwords=stopwords).generate(fail)\n",
        "plt.imshow(wordcloud, interpolation='bilinear')\n",
        "plt.axis(\"off\")\n",
        "plt.show()\n"
      ],
      "execution_count": null,
      "outputs": [
        {
          "output_type": "stream",
          "text": [
            "Word cloud of blurb for failed projects\n"
          ],
          "name": "stdout"
        },
        {
          "output_type": "display_data",
          "data": {
            "image/png": "[encoded data removed]",
            "text/plain": [
              "<Figure size 432x288 with 1 Axes>"
            ]
          },
          "metadata": {
            "tags": [],
            "needs_background": "light"
          }
        }
      ]
    },
    {
      "cell_type": "code",
      "metadata": {
        "id": "OweTIsWKD2LB"
      },
      "source": [
        "# df.drop(columns=['level_0','index','backers_count', 'converted_pledged_amount', 'country_displayable_name','current_currency', 'goal', 'pledged', 'state_changed_at','static_usd_rate','urls','usd_pledged'],inplace = True)"
      ],
      "execution_count": null,
      "outputs": []
    },
    {
      "cell_type": "markdown",
      "metadata": {
        "id": "1RD06ULIWvfM"
      },
      "source": [
        "**NLP on Blurb**\n",
        "\n",
        "Objective: to use natural language processing to analyze the project blurb descriptions, here using TextBlob and SentimentIntensityAnalyzer from the NLTK package"
      ]
    },
    {
      "cell_type": "code",
      "metadata": {
        "id": "YL6G0StfWzs2"
      },
      "source": [
        "from textblob import TextBlob\n",
        "import nltk"
      ],
      "execution_count": null,
      "outputs": []
    },
    {
      "cell_type": "code",
      "metadata": {
        "id": "pkfmuNH2XKxZ",
        "colab": {
          "base_uri": "https://localhost:8080/"
        },
        "outputId": "a1faa0c3-70f8-4b0a-f51d-095ec91ac597"
      },
      "source": [
        "nltk.download('vader_lexicon')\n",
        "from nltk.sentiment.vader import SentimentIntensityAnalyzer\n",
        "sid = SentimentIntensityAnalyzer()"
      ],
      "execution_count": null,
      "outputs": [
        {
          "output_type": "stream",
          "text": [
            "[nltk_data] Downloading package vader_lexicon to /root/nltk_data...\n"
          ],
          "name": "stdout"
        },
        {
          "output_type": "stream",
          "text": [
            "/usr/local/lib/python3.6/dist-packages/nltk/twitter/__init__.py:20: UserWarning: The twython library has not been installed. Some functionality from the twitter package will not be available.\n",
            "  warnings.warn(\"The twython library has not been installed. \"\n"
          ],
          "name": "stderr"
        }
      ]
    },
    {
      "cell_type": "markdown",
      "metadata": {
        "id": "43AtxxcQXbSy"
      },
      "source": [
        "New columns are created to store the sentiment polarity, sentiment subjectivity, length, and sentiment intensity score for each project description/blurb, using TextBlob as well as SentimentIntensityAnalyzer from the NLTK package."
      ]
    },
    {
      "cell_type": "code",
      "metadata": {
        "id": "I6pQHGVfXMNV"
      },
      "source": [
        "df.reset_index(drop = True, inplace = True)\n",
        "df['polarity'] = 0.0\n",
        "df['subjectivity'] = 0.0\n",
        "df['blurb_length'] = 0\n",
        "df['sentiment_intensity'] = 0.0"
      ],
      "execution_count": null,
      "outputs": []
    },
    {
      "cell_type": "code",
      "metadata": {
        "id": "1J_ikZw-aJAs",
        "colab": {
          "base_uri": "https://localhost:8080/"
        },
        "outputId": "f2a5ea27-98e2-4c2f-9e80-87fdd9f914b3"
      },
      "source": [
        "nltk.download('stopwords')"
      ],
      "execution_count": null,
      "outputs": [
        {
          "output_type": "stream",
          "text": [
            "[nltk_data] Downloading package stopwords to /root/nltk_data...\n",
            "[nltk_data]   Unzipping corpora/stopwords.zip.\n"
          ],
          "name": "stdout"
        },
        {
          "output_type": "execute_result",
          "data": {
            "text/plain": [
              "True"
            ]
          },
          "metadata": {
            "tags": []
          },
          "execution_count": 39
        }
      ]
    },
    {
      "cell_type": "markdown",
      "metadata": {
        "id": "qxdoEFs6LcF3"
      },
      "source": [
        "* Combining Project name and blurb cloumns into a single column to do sentimental analysis.\r\n",
        "* Removing stopwords and puntuations.\r\n",
        "* Finding Polarity, Subjectivity, sentement intensity for each project."
      ]
    },
    {
      "cell_type": "code",
      "metadata": {
        "id": "deQ6B9lUX-yh"
      },
      "source": [
        "from nltk.corpus import stopwords\n",
        "import re\n",
        "import string\n",
        "def remove_stopwords(text):\n",
        "    final_text = []\n",
        "    for i in text.split():\n",
        "        if i.strip().lower() not in stop:\n",
        "            final_text.append(i.strip())\n",
        "    return \" \".join(final_text)\n",
        "stop = set(stopwords.words('english'))\n",
        "for i in range(len(df)):\n",
        "    blurb = df['name'][i]+df['blurb'][i]\n",
        "    blurb = blurb.lower()\n",
        "    blurb = remove_stopwords(blurb)\n",
        "    blurb = re.sub('\\[.*?\\]', '', blurb)\n",
        "    blurb = re.sub('[%s]' % re.escape(string.punctuation), '', blurb)\n",
        "    blurb = re.sub('\\w*\\d\\w*', '', blurb)\n",
        "    blurb = re.sub('[‘’“”…]', '', blurb)\n",
        "    if isinstance(blurb, str) :\n",
        "        blob = TextBlob(blurb)\n",
        "        df.loc[i,'polarity'] = blob.sentiment.polarity\n",
        "        df.loc[i,'subjectivity'] = blob.sentiment.subjectivity\n",
        "        df.loc[i,'blurb_length'] = len(blurb)\n",
        "        df.loc[i,'sentiment_intensity'] = sid.polarity_scores(blurb)['compound']"
      ],
      "execution_count": null,
      "outputs": []
    },
    {
      "cell_type": "code",
      "metadata": {
        "id": "9jmqwPmDXg-T"
      },
      "source": [
        "df.to_pickle(\"df_pickle.pkl\") # Converting to pickle format"
      ],
      "execution_count": null,
      "outputs": []
    },
    {
      "cell_type": "code",
      "metadata": {
        "id": "XA48H68lXg-T"
      },
      "source": [
        "df = pd.read_pickle(\"/content/drive/Shareddrives/ML project/Jupyter Notebooks/Final_ipynb file/df_pickle.pkl\")"
      ],
      "execution_count": null,
      "outputs": []
    },
    {
      "cell_type": "code",
      "metadata": {
        "id": "1ZNkeKakY-P1",
        "colab": {
          "base_uri": "https://localhost:8080/",
          "height": 584
        },
        "outputId": "b2d18e93-a410-47f0-fdb5-19eb7bda4d5e"
      },
      "source": [
        "df.head()"
      ],
      "execution_count": null,
      "outputs": [
        {
          "output_type": "execute_result",
          "data": {
            "text/html": [
              "<div>\n",
              "<style scoped>\n",
              "    .dataframe tbody tr th:only-of-type {\n",
              "        vertical-align: middle;\n",
              "    }\n",
              "\n",
              "    .dataframe tbody tr th {\n",
              "        vertical-align: top;\n",
              "    }\n",
              "\n",
              "    .dataframe thead th {\n",
              "        text-align: right;\n",
              "    }\n",
              "</style>\n",
              "<table border=\"1\" class=\"dataframe\">\n",
              "  <thead>\n",
              "    <tr style=\"text-align: right;\">\n",
              "      <th></th>\n",
              "      <th>index</th>\n",
              "      <th>backers_count</th>\n",
              "      <th>blurb</th>\n",
              "      <th>converted_pledged_amount</th>\n",
              "      <th>country</th>\n",
              "      <th>created_at</th>\n",
              "      <th>deadline</th>\n",
              "      <th>goal</th>\n",
              "      <th>is_starrable</th>\n",
              "      <th>launched_at</th>\n",
              "      <th>name</th>\n",
              "      <th>pledged</th>\n",
              "      <th>spotlight</th>\n",
              "      <th>staff_pick</th>\n",
              "      <th>state</th>\n",
              "      <th>state_changed_at</th>\n",
              "      <th>static_usd_rate</th>\n",
              "      <th>usd_pledged</th>\n",
              "      <th>usd_goal</th>\n",
              "      <th>launch_to_deadline</th>\n",
              "      <th>creation_to_launch</th>\n",
              "      <th>launch_year</th>\n",
              "      <th>launch_month</th>\n",
              "      <th>deadline_year</th>\n",
              "      <th>deadline_month</th>\n",
              "      <th>category</th>\n",
              "      <th>main_category</th>\n",
              "      <th>polarity</th>\n",
              "      <th>subjectivity</th>\n",
              "      <th>blurb_length</th>\n",
              "      <th>sentiment_intensity</th>\n",
              "    </tr>\n",
              "  </thead>\n",
              "  <tbody>\n",
              "    <tr>\n",
              "      <th>0</th>\n",
              "      <td>0</td>\n",
              "      <td>6</td>\n",
              "      <td>Lulabelle needs to rest, she's pleaded with me...</td>\n",
              "      <td>696</td>\n",
              "      <td>GB</td>\n",
              "      <td>2015-09-16 10:54:47</td>\n",
              "      <td>2015-10-15 23:00:00</td>\n",
              "      <td>17500.0</td>\n",
              "      <td>False</td>\n",
              "      <td>2015-09-17 16:38:27</td>\n",
              "      <td>Lulabelles Legacy</td>\n",
              "      <td>450.00</td>\n",
              "      <td>False</td>\n",
              "      <td>False</td>\n",
              "      <td>failed</td>\n",
              "      <td>2015-10-15 23:00:18</td>\n",
              "      <td>1.534846</td>\n",
              "      <td>690.680871</td>\n",
              "      <td>26859.81</td>\n",
              "      <td>28</td>\n",
              "      <td>1</td>\n",
              "      <td>2015</td>\n",
              "      <td>9</td>\n",
              "      <td>2015</td>\n",
              "      <td>10</td>\n",
              "      <td>Restaurants</td>\n",
              "      <td>Food</td>\n",
              "      <td>0.000000</td>\n",
              "      <td>0.000000</td>\n",
              "      <td>99</td>\n",
              "      <td>0.5267</td>\n",
              "    </tr>\n",
              "    <tr>\n",
              "      <th>1</th>\n",
              "      <td>1</td>\n",
              "      <td>3</td>\n",
              "      <td>EducaDots is an educative multimedia software ...</td>\n",
              "      <td>61</td>\n",
              "      <td>US</td>\n",
              "      <td>2018-08-18 02:25:02</td>\n",
              "      <td>2018-10-11 01:06:10</td>\n",
              "      <td>10000.0</td>\n",
              "      <td>False</td>\n",
              "      <td>2018-09-11 01:06:10</td>\n",
              "      <td>Revolutionary and affordable 3D / VR software ...</td>\n",
              "      <td>61.00</td>\n",
              "      <td>False</td>\n",
              "      <td>False</td>\n",
              "      <td>failed</td>\n",
              "      <td>2018-10-11 01:06:10</td>\n",
              "      <td>1.000000</td>\n",
              "      <td>61.000000</td>\n",
              "      <td>10000.00</td>\n",
              "      <td>30</td>\n",
              "      <td>24</td>\n",
              "      <td>2018</td>\n",
              "      <td>9</td>\n",
              "      <td>2018</td>\n",
              "      <td>10</td>\n",
              "      <td>Software</td>\n",
              "      <td>Technology</td>\n",
              "      <td>0.450000</td>\n",
              "      <td>0.300000</td>\n",
              "      <td>137</td>\n",
              "      <td>0.5106</td>\n",
              "    </tr>\n",
              "    <tr>\n",
              "      <th>2</th>\n",
              "      <td>2</td>\n",
              "      <td>123</td>\n",
              "      <td>A feature film about love, death, teenage emot...</td>\n",
              "      <td>16439</td>\n",
              "      <td>SE</td>\n",
              "      <td>2020-03-09 10:19:42</td>\n",
              "      <td>2020-04-23 12:00:03</td>\n",
              "      <td>150000.0</td>\n",
              "      <td>False</td>\n",
              "      <td>2020-03-24 12:00:03</td>\n",
              "      <td>Düsseldorf, Skåne</td>\n",
              "      <td>166273.71</td>\n",
              "      <td>True</td>\n",
              "      <td>False</td>\n",
              "      <td>successful</td>\n",
              "      <td>2020-04-23 12:00:03</td>\n",
              "      <td>0.095886</td>\n",
              "      <td>15943.252785</td>\n",
              "      <td>14382.84</td>\n",
              "      <td>30</td>\n",
              "      <td>15</td>\n",
              "      <td>2020</td>\n",
              "      <td>3</td>\n",
              "      <td>2020</td>\n",
              "      <td>4</td>\n",
              "      <td>Drama</td>\n",
              "      <td>Film &amp; Video</td>\n",
              "      <td>0.166667</td>\n",
              "      <td>0.200000</td>\n",
              "      <td>88</td>\n",
              "      <td>0.0772</td>\n",
              "    </tr>\n",
              "    <tr>\n",
              "      <th>3</th>\n",
              "      <td>3</td>\n",
              "      <td>8</td>\n",
              "      <td>I made a tool to turn images into LEGO mosaics...</td>\n",
              "      <td>160</td>\n",
              "      <td>US</td>\n",
              "      <td>2015-07-12 09:56:55</td>\n",
              "      <td>2015-08-20 06:44:34</td>\n",
              "      <td>1200.0</td>\n",
              "      <td>False</td>\n",
              "      <td>2015-07-21 06:44:34</td>\n",
              "      <td>Recreate the Great Wave in LEGO</td>\n",
              "      <td>160.10</td>\n",
              "      <td>False</td>\n",
              "      <td>False</td>\n",
              "      <td>failed</td>\n",
              "      <td>2015-08-20 06:45:15</td>\n",
              "      <td>1.000000</td>\n",
              "      <td>160.100000</td>\n",
              "      <td>1200.00</td>\n",
              "      <td>30</td>\n",
              "      <td>9</td>\n",
              "      <td>2015</td>\n",
              "      <td>7</td>\n",
              "      <td>2015</td>\n",
              "      <td>8</td>\n",
              "      <td>Installations</td>\n",
              "      <td>Art</td>\n",
              "      <td>0.700000</td>\n",
              "      <td>0.833333</td>\n",
              "      <td>118</td>\n",
              "      <td>0.9100</td>\n",
              "    </tr>\n",
              "    <tr>\n",
              "      <th>4</th>\n",
              "      <td>4</td>\n",
              "      <td>2</td>\n",
              "      <td>21m breaches in 2016 alone. Presenting a video...</td>\n",
              "      <td>278</td>\n",
              "      <td>GB</td>\n",
              "      <td>2016-07-27 07:43:59</td>\n",
              "      <td>2016-09-30 15:30:00</td>\n",
              "      <td>3500.0</td>\n",
              "      <td>False</td>\n",
              "      <td>2016-09-01 11:28:17</td>\n",
              "      <td>Securing Systems with Hashicorp Vault - Online...</td>\n",
              "      <td>215.00</td>\n",
              "      <td>False</td>\n",
              "      <td>False</td>\n",
              "      <td>failed</td>\n",
              "      <td>2016-09-30 15:30:02</td>\n",
              "      <td>1.310662</td>\n",
              "      <td>281.792410</td>\n",
              "      <td>4587.32</td>\n",
              "      <td>29</td>\n",
              "      <td>36</td>\n",
              "      <td>2016</td>\n",
              "      <td>9</td>\n",
              "      <td>2016</td>\n",
              "      <td>9</td>\n",
              "      <td>Software</td>\n",
              "      <td>Technology</td>\n",
              "      <td>0.000000</td>\n",
              "      <td>0.000000</td>\n",
              "      <td>149</td>\n",
              "      <td>0.3818</td>\n",
              "    </tr>\n",
              "  </tbody>\n",
              "</table>\n",
              "</div>"
            ],
            "text/plain": [
              "   index  backers_count                                              blurb  \\\n",
              "0      0              6  Lulabelle needs to rest, she's pleaded with me...   \n",
              "1      1              3  EducaDots is an educative multimedia software ...   \n",
              "2      2            123  A feature film about love, death, teenage emot...   \n",
              "3      3              8  I made a tool to turn images into LEGO mosaics...   \n",
              "4      4              2  21m breaches in 2016 alone. Presenting a video...   \n",
              "\n",
              "   converted_pledged_amount country          created_at            deadline  \\\n",
              "0                       696      GB 2015-09-16 10:54:47 2015-10-15 23:00:00   \n",
              "1                        61      US 2018-08-18 02:25:02 2018-10-11 01:06:10   \n",
              "2                     16439      SE 2020-03-09 10:19:42 2020-04-23 12:00:03   \n",
              "3                       160      US 2015-07-12 09:56:55 2015-08-20 06:44:34   \n",
              "4                       278      GB 2016-07-27 07:43:59 2016-09-30 15:30:00   \n",
              "\n",
              "       goal  is_starrable         launched_at  \\\n",
              "0   17500.0         False 2015-09-17 16:38:27   \n",
              "1   10000.0         False 2018-09-11 01:06:10   \n",
              "2  150000.0         False 2020-03-24 12:00:03   \n",
              "3    1200.0         False 2015-07-21 06:44:34   \n",
              "4    3500.0         False 2016-09-01 11:28:17   \n",
              "\n",
              "                                                name    pledged  spotlight  \\\n",
              "0                                  Lulabelles Legacy     450.00      False   \n",
              "1  Revolutionary and affordable 3D / VR software ...      61.00      False   \n",
              "2                                  Düsseldorf, Skåne  166273.71       True   \n",
              "3                    Recreate the Great Wave in LEGO     160.10      False   \n",
              "4  Securing Systems with Hashicorp Vault - Online...     215.00      False   \n",
              "\n",
              "   staff_pick       state    state_changed_at  static_usd_rate   usd_pledged  \\\n",
              "0       False      failed 2015-10-15 23:00:18         1.534846    690.680871   \n",
              "1       False      failed 2018-10-11 01:06:10         1.000000     61.000000   \n",
              "2       False  successful 2020-04-23 12:00:03         0.095886  15943.252785   \n",
              "3       False      failed 2015-08-20 06:45:15         1.000000    160.100000   \n",
              "4       False      failed 2016-09-30 15:30:02         1.310662    281.792410   \n",
              "\n",
              "   usd_goal  launch_to_deadline  creation_to_launch  launch_year  \\\n",
              "0  26859.81                  28                   1         2015   \n",
              "1  10000.00                  30                  24         2018   \n",
              "2  14382.84                  30                  15         2020   \n",
              "3   1200.00                  30                   9         2015   \n",
              "4   4587.32                  29                  36         2016   \n",
              "\n",
              "   launch_month  deadline_year  deadline_month       category main_category  \\\n",
              "0             9           2015              10    Restaurants          Food   \n",
              "1             9           2018              10       Software    Technology   \n",
              "2             3           2020               4          Drama  Film & Video   \n",
              "3             7           2015               8  Installations           Art   \n",
              "4             9           2016               9       Software    Technology   \n",
              "\n",
              "   polarity  subjectivity  blurb_length  sentiment_intensity  \n",
              "0  0.000000      0.000000            99               0.5267  \n",
              "1  0.450000      0.300000           137               0.5106  \n",
              "2  0.166667      0.200000            88               0.0772  \n",
              "3  0.700000      0.833333           118               0.9100  \n",
              "4  0.000000      0.000000           149               0.3818  "
            ]
          },
          "metadata": {
            "tags": []
          },
          "execution_count": 43
        }
      ]
    },
    {
      "cell_type": "code",
      "metadata": {
        "id": "yvq4eHs4Xg-T"
      },
      "source": [
        "from sklearn.preprocessing import MinMaxScaler\n",
        "def preprocessing (df):\n",
        "  df.drop(columns= ['backers_count','blurb','converted_pledged_amount','created_at','deadline_year','launch_year','deadline','goal','is_starrable','launched_at','name','pledged','spotlight','staff_pick','state_changed_at','static_usd_rate','usd_pledged'],axis = 1,inplace = True)\n",
        "  df['launch_qtr'] = pd.cut(df['launch_month'], bins=[0,3,6,9,12], labels=['Q1', 'Q2', 'Q3', 'Q4']) # binning the months to Q1, Q2, Q3, Q4\n",
        "  df['deadline_qtr'] = pd.cut(df['deadline_month'], bins=[0,3,6,9,12], labels=['Q1', 'Q2', 'Q3', 'Q4']) # binning the months to Q1, Q2, Q3, Q4\n",
        "  df = pd.get_dummies(df,columns = ['launch_qtr','deadline_qtr'], drop_first = True) \n",
        "  # Frequency encoding for country and main category features\n",
        "  country_map = df['country'].value_counts().to_dict()\n",
        "  mc_map = df['main_category'].value_counts().to_dict()\n",
        "  df['encoded_country'] = df['country'].map(country_map)\n",
        "  df['encoded_main_cat'] = df['main_category'].map(mc_map)\n",
        "  df['encoded_country'] = df['encoded_country']/len(df)\n",
        "  df['encoded_main_cat'] = df['encoded_main_cat']/len(df)\n",
        "  # Encoding launch_to_deadline and creation_to_launch features\n",
        "  ld_map = df['launch_to_deadline'].value_counts().to_dict()\n",
        "  lc_map = df['creation_to_launch'].value_counts().to_dict()\n",
        "  df['encode_launch_deadline'] = df['launch_to_deadline'].map(ld_map)\n",
        "  df['encoded_creation_launch'] = df['creation_to_launch'].map(lc_map)\n",
        "  df['encode_launch_deadline'] = df['encode_launch_deadline']/len(df)\n",
        "  df['encoded_creation_launch'] = df['encoded_creation_launch']/len(df)\n",
        "  # Scaling the usd_goal feature using min-max scaler\n",
        "  min_ = df['usd_goal'].min()\n",
        "  max_ = df['usd_goal'].max()\n",
        "  df['scaled_used_goal'] = df['usd_goal'].map(lambda x: (x-min_)/(max_- min_))\n",
        "  df.drop(columns=['usd_goal','launch_to_deadline','creation_to_launch','country','category','launch_month','deadline_month','main_category'],axis = 1, inplace = True)\n",
        "  return df"
      ],
      "execution_count": null,
      "outputs": []
    },
    {
      "cell_type": "code",
      "metadata": {
        "id": "MfKFBUi8Xg-U"
      },
      "source": [
        "df.drop(columns = ['index'], axis = 1,inplace = True)\n",
        "df.reset_index(drop = True,inplace = True)\n",
        "df['state'].replace({'failed': 0, 'successful': 1},inplace = True)"
      ],
      "execution_count": null,
      "outputs": []
    },
    {
      "cell_type": "code",
      "metadata": {
        "id": "e2XPFb03ZKyq",
        "colab": {
          "base_uri": "https://localhost:8080/",
          "height": 584
        },
        "outputId": "6e7eb66f-ff32-40ce-a850-14a1c7fc8bd3"
      },
      "source": [
        "df.head()"
      ],
      "execution_count": null,
      "outputs": [
        {
          "output_type": "execute_result",
          "data": {
            "text/html": [
              "<div>\n",
              "<style scoped>\n",
              "    .dataframe tbody tr th:only-of-type {\n",
              "        vertical-align: middle;\n",
              "    }\n",
              "\n",
              "    .dataframe tbody tr th {\n",
              "        vertical-align: top;\n",
              "    }\n",
              "\n",
              "    .dataframe thead th {\n",
              "        text-align: right;\n",
              "    }\n",
              "</style>\n",
              "<table border=\"1\" class=\"dataframe\">\n",
              "  <thead>\n",
              "    <tr style=\"text-align: right;\">\n",
              "      <th></th>\n",
              "      <th>backers_count</th>\n",
              "      <th>blurb</th>\n",
              "      <th>converted_pledged_amount</th>\n",
              "      <th>country</th>\n",
              "      <th>created_at</th>\n",
              "      <th>deadline</th>\n",
              "      <th>goal</th>\n",
              "      <th>is_starrable</th>\n",
              "      <th>launched_at</th>\n",
              "      <th>name</th>\n",
              "      <th>pledged</th>\n",
              "      <th>spotlight</th>\n",
              "      <th>staff_pick</th>\n",
              "      <th>state</th>\n",
              "      <th>state_changed_at</th>\n",
              "      <th>static_usd_rate</th>\n",
              "      <th>usd_pledged</th>\n",
              "      <th>usd_goal</th>\n",
              "      <th>launch_to_deadline</th>\n",
              "      <th>creation_to_launch</th>\n",
              "      <th>launch_year</th>\n",
              "      <th>launch_month</th>\n",
              "      <th>deadline_year</th>\n",
              "      <th>deadline_month</th>\n",
              "      <th>category</th>\n",
              "      <th>main_category</th>\n",
              "      <th>polarity</th>\n",
              "      <th>subjectivity</th>\n",
              "      <th>blurb_length</th>\n",
              "      <th>sentiment_intensity</th>\n",
              "    </tr>\n",
              "  </thead>\n",
              "  <tbody>\n",
              "    <tr>\n",
              "      <th>0</th>\n",
              "      <td>6</td>\n",
              "      <td>Lulabelle needs to rest, she's pleaded with me...</td>\n",
              "      <td>696</td>\n",
              "      <td>GB</td>\n",
              "      <td>2015-09-16 10:54:47</td>\n",
              "      <td>2015-10-15 23:00:00</td>\n",
              "      <td>17500.0</td>\n",
              "      <td>False</td>\n",
              "      <td>2015-09-17 16:38:27</td>\n",
              "      <td>Lulabelles Legacy</td>\n",
              "      <td>450.00</td>\n",
              "      <td>False</td>\n",
              "      <td>False</td>\n",
              "      <td>0</td>\n",
              "      <td>2015-10-15 23:00:18</td>\n",
              "      <td>1.534846</td>\n",
              "      <td>690.680871</td>\n",
              "      <td>26859.81</td>\n",
              "      <td>28</td>\n",
              "      <td>1</td>\n",
              "      <td>2015</td>\n",
              "      <td>9</td>\n",
              "      <td>2015</td>\n",
              "      <td>10</td>\n",
              "      <td>Restaurants</td>\n",
              "      <td>Food</td>\n",
              "      <td>0.000000</td>\n",
              "      <td>0.000000</td>\n",
              "      <td>99</td>\n",
              "      <td>0.5267</td>\n",
              "    </tr>\n",
              "    <tr>\n",
              "      <th>1</th>\n",
              "      <td>3</td>\n",
              "      <td>EducaDots is an educative multimedia software ...</td>\n",
              "      <td>61</td>\n",
              "      <td>US</td>\n",
              "      <td>2018-08-18 02:25:02</td>\n",
              "      <td>2018-10-11 01:06:10</td>\n",
              "      <td>10000.0</td>\n",
              "      <td>False</td>\n",
              "      <td>2018-09-11 01:06:10</td>\n",
              "      <td>Revolutionary and affordable 3D / VR software ...</td>\n",
              "      <td>61.00</td>\n",
              "      <td>False</td>\n",
              "      <td>False</td>\n",
              "      <td>0</td>\n",
              "      <td>2018-10-11 01:06:10</td>\n",
              "      <td>1.000000</td>\n",
              "      <td>61.000000</td>\n",
              "      <td>10000.00</td>\n",
              "      <td>30</td>\n",
              "      <td>24</td>\n",
              "      <td>2018</td>\n",
              "      <td>9</td>\n",
              "      <td>2018</td>\n",
              "      <td>10</td>\n",
              "      <td>Software</td>\n",
              "      <td>Technology</td>\n",
              "      <td>0.450000</td>\n",
              "      <td>0.300000</td>\n",
              "      <td>137</td>\n",
              "      <td>0.5106</td>\n",
              "    </tr>\n",
              "    <tr>\n",
              "      <th>2</th>\n",
              "      <td>123</td>\n",
              "      <td>A feature film about love, death, teenage emot...</td>\n",
              "      <td>16439</td>\n",
              "      <td>SE</td>\n",
              "      <td>2020-03-09 10:19:42</td>\n",
              "      <td>2020-04-23 12:00:03</td>\n",
              "      <td>150000.0</td>\n",
              "      <td>False</td>\n",
              "      <td>2020-03-24 12:00:03</td>\n",
              "      <td>Düsseldorf, Skåne</td>\n",
              "      <td>166273.71</td>\n",
              "      <td>True</td>\n",
              "      <td>False</td>\n",
              "      <td>1</td>\n",
              "      <td>2020-04-23 12:00:03</td>\n",
              "      <td>0.095886</td>\n",
              "      <td>15943.252785</td>\n",
              "      <td>14382.84</td>\n",
              "      <td>30</td>\n",
              "      <td>15</td>\n",
              "      <td>2020</td>\n",
              "      <td>3</td>\n",
              "      <td>2020</td>\n",
              "      <td>4</td>\n",
              "      <td>Drama</td>\n",
              "      <td>Film &amp; Video</td>\n",
              "      <td>0.166667</td>\n",
              "      <td>0.200000</td>\n",
              "      <td>88</td>\n",
              "      <td>0.0772</td>\n",
              "    </tr>\n",
              "    <tr>\n",
              "      <th>3</th>\n",
              "      <td>8</td>\n",
              "      <td>I made a tool to turn images into LEGO mosaics...</td>\n",
              "      <td>160</td>\n",
              "      <td>US</td>\n",
              "      <td>2015-07-12 09:56:55</td>\n",
              "      <td>2015-08-20 06:44:34</td>\n",
              "      <td>1200.0</td>\n",
              "      <td>False</td>\n",
              "      <td>2015-07-21 06:44:34</td>\n",
              "      <td>Recreate the Great Wave in LEGO</td>\n",
              "      <td>160.10</td>\n",
              "      <td>False</td>\n",
              "      <td>False</td>\n",
              "      <td>0</td>\n",
              "      <td>2015-08-20 06:45:15</td>\n",
              "      <td>1.000000</td>\n",
              "      <td>160.100000</td>\n",
              "      <td>1200.00</td>\n",
              "      <td>30</td>\n",
              "      <td>9</td>\n",
              "      <td>2015</td>\n",
              "      <td>7</td>\n",
              "      <td>2015</td>\n",
              "      <td>8</td>\n",
              "      <td>Installations</td>\n",
              "      <td>Art</td>\n",
              "      <td>0.700000</td>\n",
              "      <td>0.833333</td>\n",
              "      <td>118</td>\n",
              "      <td>0.9100</td>\n",
              "    </tr>\n",
              "    <tr>\n",
              "      <th>4</th>\n",
              "      <td>2</td>\n",
              "      <td>21m breaches in 2016 alone. Presenting a video...</td>\n",
              "      <td>278</td>\n",
              "      <td>GB</td>\n",
              "      <td>2016-07-27 07:43:59</td>\n",
              "      <td>2016-09-30 15:30:00</td>\n",
              "      <td>3500.0</td>\n",
              "      <td>False</td>\n",
              "      <td>2016-09-01 11:28:17</td>\n",
              "      <td>Securing Systems with Hashicorp Vault - Online...</td>\n",
              "      <td>215.00</td>\n",
              "      <td>False</td>\n",
              "      <td>False</td>\n",
              "      <td>0</td>\n",
              "      <td>2016-09-30 15:30:02</td>\n",
              "      <td>1.310662</td>\n",
              "      <td>281.792410</td>\n",
              "      <td>4587.32</td>\n",
              "      <td>29</td>\n",
              "      <td>36</td>\n",
              "      <td>2016</td>\n",
              "      <td>9</td>\n",
              "      <td>2016</td>\n",
              "      <td>9</td>\n",
              "      <td>Software</td>\n",
              "      <td>Technology</td>\n",
              "      <td>0.000000</td>\n",
              "      <td>0.000000</td>\n",
              "      <td>149</td>\n",
              "      <td>0.3818</td>\n",
              "    </tr>\n",
              "  </tbody>\n",
              "</table>\n",
              "</div>"
            ],
            "text/plain": [
              "   backers_count                                              blurb  \\\n",
              "0              6  Lulabelle needs to rest, she's pleaded with me...   \n",
              "1              3  EducaDots is an educative multimedia software ...   \n",
              "2            123  A feature film about love, death, teenage emot...   \n",
              "3              8  I made a tool to turn images into LEGO mosaics...   \n",
              "4              2  21m breaches in 2016 alone. Presenting a video...   \n",
              "\n",
              "   converted_pledged_amount country          created_at            deadline  \\\n",
              "0                       696      GB 2015-09-16 10:54:47 2015-10-15 23:00:00   \n",
              "1                        61      US 2018-08-18 02:25:02 2018-10-11 01:06:10   \n",
              "2                     16439      SE 2020-03-09 10:19:42 2020-04-23 12:00:03   \n",
              "3                       160      US 2015-07-12 09:56:55 2015-08-20 06:44:34   \n",
              "4                       278      GB 2016-07-27 07:43:59 2016-09-30 15:30:00   \n",
              "\n",
              "       goal  is_starrable         launched_at  \\\n",
              "0   17500.0         False 2015-09-17 16:38:27   \n",
              "1   10000.0         False 2018-09-11 01:06:10   \n",
              "2  150000.0         False 2020-03-24 12:00:03   \n",
              "3    1200.0         False 2015-07-21 06:44:34   \n",
              "4    3500.0         False 2016-09-01 11:28:17   \n",
              "\n",
              "                                                name    pledged  spotlight  \\\n",
              "0                                  Lulabelles Legacy     450.00      False   \n",
              "1  Revolutionary and affordable 3D / VR software ...      61.00      False   \n",
              "2                                  Düsseldorf, Skåne  166273.71       True   \n",
              "3                    Recreate the Great Wave in LEGO     160.10      False   \n",
              "4  Securing Systems with Hashicorp Vault - Online...     215.00      False   \n",
              "\n",
              "   staff_pick  state    state_changed_at  static_usd_rate   usd_pledged  \\\n",
              "0       False      0 2015-10-15 23:00:18         1.534846    690.680871   \n",
              "1       False      0 2018-10-11 01:06:10         1.000000     61.000000   \n",
              "2       False      1 2020-04-23 12:00:03         0.095886  15943.252785   \n",
              "3       False      0 2015-08-20 06:45:15         1.000000    160.100000   \n",
              "4       False      0 2016-09-30 15:30:02         1.310662    281.792410   \n",
              "\n",
              "   usd_goal  launch_to_deadline  creation_to_launch  launch_year  \\\n",
              "0  26859.81                  28                   1         2015   \n",
              "1  10000.00                  30                  24         2018   \n",
              "2  14382.84                  30                  15         2020   \n",
              "3   1200.00                  30                   9         2015   \n",
              "4   4587.32                  29                  36         2016   \n",
              "\n",
              "   launch_month  deadline_year  deadline_month       category main_category  \\\n",
              "0             9           2015              10    Restaurants          Food   \n",
              "1             9           2018              10       Software    Technology   \n",
              "2             3           2020               4          Drama  Film & Video   \n",
              "3             7           2015               8  Installations           Art   \n",
              "4             9           2016               9       Software    Technology   \n",
              "\n",
              "   polarity  subjectivity  blurb_length  sentiment_intensity  \n",
              "0  0.000000      0.000000            99               0.5267  \n",
              "1  0.450000      0.300000           137               0.5106  \n",
              "2  0.166667      0.200000            88               0.0772  \n",
              "3  0.700000      0.833333           118               0.9100  \n",
              "4  0.000000      0.000000           149               0.3818  "
            ]
          },
          "metadata": {
            "tags": []
          },
          "execution_count": 46
        }
      ]
    },
    {
      "cell_type": "code",
      "metadata": {
        "id": "dF03EOdlZIZf"
      },
      "source": [
        "X = df.drop(columns = ['state'],axis = 1)\n",
        "y = df[['state']]\n",
        "from sklearn.model_selection import train_test_split\n",
        "X_train, X_test, y_train, y_test= train_test_split(X,y,test_size = 0.2, random_state = 42)"
      ],
      "execution_count": null,
      "outputs": []
    },
    {
      "cell_type": "code",
      "metadata": {
        "id": "_kka6EGyXg-U"
      },
      "source": [
        "import warnings\n",
        "warnings.filterwarnings('ignore')\n",
        "X_train = preprocessing(X_train)\n",
        "X_test = preprocessing(X_test)"
      ],
      "execution_count": null,
      "outputs": []
    },
    {
      "cell_type": "code",
      "metadata": {
        "id": "ZfG6dd01Z_qv",
        "colab": {
          "base_uri": "https://localhost:8080/",
          "height": 217
        },
        "outputId": "8db50d3b-d19c-42ee-c841-53d8c31cbe96"
      },
      "source": [
        "X_train.head(5)"
      ],
      "execution_count": null,
      "outputs": [
        {
          "output_type": "execute_result",
          "data": {
            "text/html": [
              "<div>\n",
              "<style scoped>\n",
              "    .dataframe tbody tr th:only-of-type {\n",
              "        vertical-align: middle;\n",
              "    }\n",
              "\n",
              "    .dataframe tbody tr th {\n",
              "        vertical-align: top;\n",
              "    }\n",
              "\n",
              "    .dataframe thead th {\n",
              "        text-align: right;\n",
              "    }\n",
              "</style>\n",
              "<table border=\"1\" class=\"dataframe\">\n",
              "  <thead>\n",
              "    <tr style=\"text-align: right;\">\n",
              "      <th></th>\n",
              "      <th>polarity</th>\n",
              "      <th>subjectivity</th>\n",
              "      <th>blurb_length</th>\n",
              "      <th>sentiment_intensity</th>\n",
              "      <th>launch_qtr_Q2</th>\n",
              "      <th>launch_qtr_Q3</th>\n",
              "      <th>launch_qtr_Q4</th>\n",
              "      <th>deadline_qtr_Q2</th>\n",
              "      <th>deadline_qtr_Q3</th>\n",
              "      <th>deadline_qtr_Q4</th>\n",
              "      <th>encoded_country</th>\n",
              "      <th>encoded_main_cat</th>\n",
              "      <th>encode_launch_deadline</th>\n",
              "      <th>encoded_creation_launch</th>\n",
              "      <th>scaled_used_goal</th>\n",
              "    </tr>\n",
              "  </thead>\n",
              "  <tbody>\n",
              "    <tr>\n",
              "      <th>139014</th>\n",
              "      <td>-0.250000</td>\n",
              "      <td>0.466667</td>\n",
              "      <td>171</td>\n",
              "      <td>0.0000</td>\n",
              "      <td>0</td>\n",
              "      <td>0</td>\n",
              "      <td>1</td>\n",
              "      <td>0</td>\n",
              "      <td>0</td>\n",
              "      <td>1</td>\n",
              "      <td>0.699605</td>\n",
              "      <td>0.104485</td>\n",
              "      <td>0.438724</td>\n",
              "      <td>0.057414</td>\n",
              "      <td>0.000049</td>\n",
              "    </tr>\n",
              "    <tr>\n",
              "      <th>9326</th>\n",
              "      <td>0.568182</td>\n",
              "      <td>0.750000</td>\n",
              "      <td>110</td>\n",
              "      <td>0.9153</td>\n",
              "      <td>1</td>\n",
              "      <td>0</td>\n",
              "      <td>0</td>\n",
              "      <td>0</td>\n",
              "      <td>1</td>\n",
              "      <td>0</td>\n",
              "      <td>0.699605</td>\n",
              "      <td>0.140286</td>\n",
              "      <td>0.089426</td>\n",
              "      <td>0.030473</td>\n",
              "      <td>0.000131</td>\n",
              "    </tr>\n",
              "    <tr>\n",
              "      <th>123776</th>\n",
              "      <td>0.000000</td>\n",
              "      <td>0.000000</td>\n",
              "      <td>94</td>\n",
              "      <td>0.0000</td>\n",
              "      <td>0</td>\n",
              "      <td>1</td>\n",
              "      <td>0</td>\n",
              "      <td>0</td>\n",
              "      <td>1</td>\n",
              "      <td>0</td>\n",
              "      <td>0.699605</td>\n",
              "      <td>0.104485</td>\n",
              "      <td>0.438724</td>\n",
              "      <td>0.011277</td>\n",
              "      <td>0.000131</td>\n",
              "    </tr>\n",
              "    <tr>\n",
              "      <th>149881</th>\n",
              "      <td>0.000000</td>\n",
              "      <td>0.000000</td>\n",
              "      <td>51</td>\n",
              "      <td>0.0000</td>\n",
              "      <td>1</td>\n",
              "      <td>0</td>\n",
              "      <td>0</td>\n",
              "      <td>0</td>\n",
              "      <td>1</td>\n",
              "      <td>0</td>\n",
              "      <td>0.699605</td>\n",
              "      <td>0.142661</td>\n",
              "      <td>0.438724</td>\n",
              "      <td>0.004569</td>\n",
              "      <td>0.000049</td>\n",
              "    </tr>\n",
              "    <tr>\n",
              "      <th>125977</th>\n",
              "      <td>0.000000</td>\n",
              "      <td>0.000000</td>\n",
              "      <td>124</td>\n",
              "      <td>0.8271</td>\n",
              "      <td>0</td>\n",
              "      <td>0</td>\n",
              "      <td>0</td>\n",
              "      <td>1</td>\n",
              "      <td>0</td>\n",
              "      <td>0</td>\n",
              "      <td>0.699605</td>\n",
              "      <td>0.142661</td>\n",
              "      <td>0.033677</td>\n",
              "      <td>0.042105</td>\n",
              "      <td>0.000023</td>\n",
              "    </tr>\n",
              "  </tbody>\n",
              "</table>\n",
              "</div>"
            ],
            "text/plain": [
              "        polarity  subjectivity  blurb_length  sentiment_intensity  \\\n",
              "139014 -0.250000      0.466667           171               0.0000   \n",
              "9326    0.568182      0.750000           110               0.9153   \n",
              "123776  0.000000      0.000000            94               0.0000   \n",
              "149881  0.000000      0.000000            51               0.0000   \n",
              "125977  0.000000      0.000000           124               0.8271   \n",
              "\n",
              "        launch_qtr_Q2  launch_qtr_Q3  launch_qtr_Q4  deadline_qtr_Q2  \\\n",
              "139014              0              0              1                0   \n",
              "9326                1              0              0                0   \n",
              "123776              0              1              0                0   \n",
              "149881              1              0              0                0   \n",
              "125977              0              0              0                1   \n",
              "\n",
              "        deadline_qtr_Q3  deadline_qtr_Q4  encoded_country  encoded_main_cat  \\\n",
              "139014                0                1         0.699605          0.104485   \n",
              "9326                  1                0         0.699605          0.140286   \n",
              "123776                1                0         0.699605          0.104485   \n",
              "149881                1                0         0.699605          0.142661   \n",
              "125977                0                0         0.699605          0.142661   \n",
              "\n",
              "        encode_launch_deadline  encoded_creation_launch  scaled_used_goal  \n",
              "139014                0.438724                 0.057414          0.000049  \n",
              "9326                  0.089426                 0.030473          0.000131  \n",
              "123776                0.438724                 0.011277          0.000131  \n",
              "149881                0.438724                 0.004569          0.000049  \n",
              "125977                0.033677                 0.042105          0.000023  "
            ]
          },
          "metadata": {
            "tags": []
          },
          "execution_count": 49
        }
      ]
    },
    {
      "cell_type": "code",
      "metadata": {
        "id": "LIqTkJ0xHCXz"
      },
      "source": [
        "from sklearn.model_selection import RandomizedSearchCV\r\n",
        "from sklearn.metrics import classification_report\r\n",
        "from sklearn.metrics import confusion_matrix"
      ],
      "execution_count": null,
      "outputs": []
    },
    {
      "cell_type": "markdown",
      "metadata": {
        "id": "ZApGB9DsBJ1h"
      },
      "source": [
        "# Dummy Classifier:"
      ]
    },
    {
      "cell_type": "code",
      "metadata": {
        "id": "R4OxHwA1Burn",
        "colab": {
          "base_uri": "https://localhost:8080/"
        },
        "outputId": "e2a31f28-a6d7-4704-ab39-02fd95b686df"
      },
      "source": [
        "from sklearn.dummy import DummyClassifier\r\n",
        "from sklearn.metrics import confusion_matrix,f1_score\r\n",
        "dummy = DummyClassifier(strategy = 'most_frequent', random_state = 42)\r\n",
        "dummy.fit(X_train, y_train)\r\n",
        "# dummy.score(X_test, y_test)\r\n",
        "y_pred = dummy.predict(X_test)\r\n",
        "print(\"\\nClassification report:\")\r\n",
        "print(classification_report(y_test, y_pred))\r\n",
        "f1_score(y_test, y_pred)"
      ],
      "execution_count": null,
      "outputs": [
        {
          "output_type": "stream",
          "text": [
            "\n",
            "Classification report:\n",
            "              precision    recall  f1-score   support\n",
            "\n",
            "           0       0.00      0.00      0.00     15090\n",
            "           1       0.58      1.00      0.73     20803\n",
            "\n",
            "    accuracy                           0.58     35893\n",
            "   macro avg       0.29      0.50      0.37     35893\n",
            "weighted avg       0.34      0.58      0.43     35893\n",
            "\n"
          ],
          "name": "stdout"
        },
        {
          "output_type": "execute_result",
          "data": {
            "text/plain": [
              "0.7338436574008749"
            ]
          },
          "metadata": {
            "tags": []
          },
          "execution_count": 51
        }
      ]
    },
    {
      "cell_type": "code",
      "metadata": {
        "id": "lm4P1kdrB4Yr",
        "colab": {
          "base_uri": "https://localhost:8080/"
        },
        "outputId": "eb874a16-0875-4975-b44a-23e8fd6786ad"
      },
      "source": [
        "print(f'Confusion matrix for Dummy Classifier :\\n',confusion_matrix(y_test, y_pred))"
      ],
      "execution_count": null,
      "outputs": [
        {
          "output_type": "stream",
          "text": [
            "Confusion matrix for Dummy Classifier :\n",
            " [[    0 15090]\n",
            " [    0 20803]]\n"
          ],
          "name": "stdout"
        }
      ]
    },
    {
      "cell_type": "markdown",
      "metadata": {
        "id": "aVvtImJlIFum"
      },
      "source": [
        "# Model: Naive Bayes"
      ]
    },
    {
      "cell_type": "markdown",
      "metadata": {
        "id": "3ees-If6aZZs"
      },
      "source": [
        "Naive Bayes works on the Bayes theorem of probability to predict the target variable. Among all the classification models Naive Bayes model is extremly fast."
      ]
    },
    {
      "cell_type": "code",
      "metadata": {
        "id": "BAzyquwtFksO",
        "colab": {
          "base_uri": "https://localhost:8080/"
        },
        "outputId": "7309c03e-6d2e-4dfa-d8ab-d1d1960d4db2"
      },
      "source": [
        "from sklearn.naive_bayes import GaussianNB\r\n",
        "from sklearn.naive_bayes import MultinomialNB\r\n",
        "from sklearn.naive_bayes import BernoulliNB\r\n",
        "\r\n",
        "from sklearn.metrics import accuracy_score\r\n",
        "\r\n",
        "gnb = GaussianNB()\r\n",
        "gnb.fit(X_train, y_train)\r\n",
        "y_pred = gnb.predict(X_test)\r\n",
        "\r\n",
        "print(\"Naive-Bayes accuracy : \",accuracy_score(y_test, y_pred, normalize = True))\r\n",
        "print(classification_report(y_test, y_pred))\r\n",
        "f1_score(y_test, y_pred)"
      ],
      "execution_count": null,
      "outputs": [
        {
          "output_type": "stream",
          "text": [
            "Naive-Bayes accuracy :  0.5907837182737581\n",
            "              precision    recall  f1-score   support\n",
            "\n",
            "           0       0.95      0.03      0.05     15090\n",
            "           1       0.59      1.00      0.74     20803\n",
            "\n",
            "    accuracy                           0.59     35893\n",
            "   macro avg       0.77      0.51      0.40     35893\n",
            "weighted avg       0.74      0.59      0.45     35893\n",
            "\n"
          ],
          "name": "stdout"
        },
        {
          "output_type": "execute_result",
          "data": {
            "text/plain": [
              "0.7388707154032143"
            ]
          },
          "metadata": {
            "tags": []
          },
          "execution_count": 53
        }
      ]
    },
    {
      "cell_type": "code",
      "metadata": {
        "id": "OG_G6txWHFsh",
        "colab": {
          "base_uri": "https://localhost:8080/",
          "height": 282
        },
        "outputId": "f38b9533-9525-4a81-ad57-47c4b745aea8"
      },
      "source": [
        "cf_matrix = confusion_matrix(y_test, y_pred,labels=[0,1])\r\n",
        "group_names = ['True Pos','False Neg','False Pos','True Neg']\r\n",
        "group_counts = ['{0:0.0f}'.format(value) for value in\r\n",
        "                cf_matrix.flatten()]\r\n",
        "group_percentages = ['{0:.2%}'.format(value) for value in\r\n",
        "                     cf_matrix.flatten()/np.sum(cf_matrix)]\r\n",
        "labels = [f'{v1}\\n{v2}\\n{v3}' for v1, v2, v3 in\r\n",
        "          zip(group_names,group_counts,group_percentages)]\r\n",
        "labels = np.asarray(labels).reshape(2,2)\r\n",
        "sns.heatmap(cf_matrix, annot=labels, fmt='', cmap='Blues')"
      ],
      "execution_count": null,
      "outputs": [
        {
          "output_type": "execute_result",
          "data": {
            "text/plain": [
              "<matplotlib.axes._subplots.AxesSubplot at 0x7f45a45df9b0>"
            ]
          },
          "metadata": {
            "tags": []
          },
          "execution_count": 54
        },
        {
          "output_type": "display_data",
          "data": {
            "image/png": "[encoded data removed]",
            "text/plain": [
              "<Figure size 432x288 with 2 Axes>"
            ]
          },
          "metadata": {
            "tags": [],
            "needs_background": "light"
          }
        }
      ]
    },
    {
      "cell_type": "markdown",
      "metadata": {
        "id": "I_FsAiRARk5Y"
      },
      "source": [
        "The accuracy and f1 score of Naive bayes model is almost same as Dummy model performance. Hence, the Naive bayes model is not performing well for this dataset and not considersing for Ensemble stacking method."
      ]
    },
    {
      "cell_type": "markdown",
      "metadata": {
        "id": "C2t_Jt4w85uT"
      },
      "source": [
        "# Model 1: KNN"
      ]
    },
    {
      "cell_type": "markdown",
      "metadata": {
        "id": "m-RRsra6Brvx"
      },
      "source": [
        "The prediction of a crowdfunding campaign involves two possible outcomes, success and failure,\r\n",
        "and as such, the prediction task is regarded as binary classification.KNN algorithm is a\r\n",
        "widely used classifier with high performance on a wide range of real datasets.\r\n",
        "Principally, KNN works\r\n",
        "by comparing distance of each data instance in the testing set to all data instances in the training set.\r\n",
        "Then, for each data instance in the testing set, the K nearest neighbors are examined. The class labels of\r\n",
        "the majority from the K nearest neighbors is thus taken to be the predicted class label of the respective\r\n",
        "data instance in the testing set The predicted class of each data instance in the testing set is then\r\n",
        "compared to its real class label (its hidden class values). The prediction accuracy is then computed by\r\n",
        "considering the number of times the model is right in prediction. Here we tried different n_neighbour values but the best result was obtained when n is 19 and weights as uniform with minkowski distance."
      ]
    },
    {
      "cell_type": "code",
      "metadata": {
        "id": "NPuES3WKSY_o",
        "colab": {
          "base_uri": "https://localhost:8080/"
        },
        "outputId": "e64a9e19-34c7-430a-a49d-fcfaf6785d60"
      },
      "source": [
        "from sklearn.neighbors import KNeighborsClassifier\r\n",
        "knn_grid = [    \r\n",
        "    {'n_neighbors' : [3,5,7,9,11,13,15,17,19],\r\n",
        "    'weights' : ['uniform','distance']\r\n",
        "    }\r\n",
        "]\r\n",
        "knn = KNeighborsClassifier()\r\n",
        "knn_random = RandomizedSearchCV(estimator = knn, param_distributions = knn_grid, n_iter = 25, cv = 3, verbose=2, random_state=42, n_jobs = -1)\r\n",
        "knn_random.fit(X_train,y_train)"
      ],
      "execution_count": null,
      "outputs": [
        {
          "output_type": "stream",
          "text": [
            "Fitting 3 folds for each of 18 candidates, totalling 54 fits\n"
          ],
          "name": "stdout"
        },
        {
          "output_type": "stream",
          "text": [
            "[Parallel(n_jobs=-1)]: Using backend LokyBackend with 2 concurrent workers.\n",
            "[Parallel(n_jobs=-1)]: Done  37 tasks      | elapsed:  3.0min\n",
            "[Parallel(n_jobs=-1)]: Done  54 out of  54 | elapsed:  4.3min finished\n"
          ],
          "name": "stderr"
        },
        {
          "output_type": "execute_result",
          "data": {
            "text/plain": [
              "RandomizedSearchCV(cv=3, error_score=nan,\n",
              "                   estimator=KNeighborsClassifier(algorithm='auto',\n",
              "                                                  leaf_size=30,\n",
              "                                                  metric='minkowski',\n",
              "                                                  metric_params=None,\n",
              "                                                  n_jobs=None, n_neighbors=5,\n",
              "                                                  p=2, weights='uniform'),\n",
              "                   iid='deprecated', n_iter=25, n_jobs=-1,\n",
              "                   param_distributions=[{'n_neighbors': [3, 5, 7, 9, 11, 13, 15,\n",
              "                                                         17, 19],\n",
              "                                         'weights': ['uniform', 'distance']}],\n",
              "                   pre_dispatch='2*n_jobs', random_state=42, refit=True,\n",
              "                   return_train_score=False, scoring=None, verbose=2)"
            ]
          },
          "metadata": {
            "tags": []
          },
          "execution_count": 55
        }
      ]
    },
    {
      "cell_type": "code",
      "metadata": {
        "id": "b5zXQ3bf-OSR",
        "colab": {
          "base_uri": "https://localhost:8080/"
        },
        "outputId": "fb518eea-8d3c-4d8f-f2c9-7c3f9fde96fb"
      },
      "source": [
        "knn_random.best_params_"
      ],
      "execution_count": null,
      "outputs": [
        {
          "output_type": "execute_result",
          "data": {
            "text/plain": [
              "{'n_neighbors': 19, 'weights': 'uniform'}"
            ]
          },
          "metadata": {
            "tags": []
          },
          "execution_count": 56
        }
      ]
    },
    {
      "cell_type": "code",
      "metadata": {
        "id": "Yde-JiBs-VpU",
        "colab": {
          "base_uri": "https://localhost:8080/"
        },
        "outputId": "eae2a938-5983-4312-956f-3760ced6211d"
      },
      "source": [
        "knn_csf = knn_random.best_estimator_\r\n",
        "knn_csf.fit(X_train,y_train)"
      ],
      "execution_count": null,
      "outputs": [
        {
          "output_type": "execute_result",
          "data": {
            "text/plain": [
              "KNeighborsClassifier(algorithm='auto', leaf_size=30, metric='minkowski',\n",
              "                     metric_params=None, n_jobs=None, n_neighbors=19, p=2,\n",
              "                     weights='uniform')"
            ]
          },
          "metadata": {
            "tags": []
          },
          "execution_count": 57
        }
      ]
    },
    {
      "cell_type": "code",
      "metadata": {
        "id": "u5pkGAet-Wvl"
      },
      "source": [
        "y_pred = knn_csf.predict(X_test)\r\n",
        "knn_score = knn_csf.score(X_test,y_test)\r\n",
        "knn_f1 = f1_score(y_test, y_pred, average = 'weighted')"
      ],
      "execution_count": null,
      "outputs": []
    },
    {
      "cell_type": "code",
      "metadata": {
        "id": "pbRLB1zl-Wkb",
        "colab": {
          "base_uri": "https://localhost:8080/"
        },
        "outputId": "ebe549c3-b731-41e6-b4b6-6c158193935c"
      },
      "source": [
        "print(\"\\nClassification report:\")\r\n",
        "print(classification_report(y_test, y_pred))\r\n",
        "cf_matrix = confusion_matrix(y_test, y_pred,labels=[0,1])\r\n",
        "cf_matrix"
      ],
      "execution_count": null,
      "outputs": [
        {
          "output_type": "stream",
          "text": [
            "\n",
            "Classification report:\n",
            "              precision    recall  f1-score   support\n",
            "\n",
            "           0       0.46      0.28      0.35     15090\n",
            "           1       0.59      0.76      0.67     20803\n",
            "\n",
            "    accuracy                           0.56     35893\n",
            "   macro avg       0.53      0.52      0.51     35893\n",
            "weighted avg       0.54      0.56      0.53     35893\n",
            "\n"
          ],
          "name": "stdout"
        },
        {
          "output_type": "execute_result",
          "data": {
            "text/plain": [
              "array([[ 4277, 10813],\n",
              "       [ 5046, 15757]])"
            ]
          },
          "metadata": {
            "tags": []
          },
          "execution_count": 59
        }
      ]
    },
    {
      "cell_type": "code",
      "metadata": {
        "id": "nguWprfmFuGh",
        "colab": {
          "base_uri": "https://localhost:8080/",
          "height": 282
        },
        "outputId": "a395461b-e254-48a3-f4ec-f3b83ccb8a5b"
      },
      "source": [
        "group_names = ['True Pos','False Neg','False Pos','True Neg']\r\n",
        "group_counts = ['{0:0.0f}'.format(value) for value in\r\n",
        "                cf_matrix.flatten()]\r\n",
        "group_percentages = ['{0:.2%}'.format(value) for value in\r\n",
        "                     cf_matrix.flatten()/np.sum(cf_matrix)]\r\n",
        "labels = [f'{v1}\\n{v2}\\n{v3}' for v1, v2, v3 in\r\n",
        "          zip(group_names,group_counts,group_percentages)]\r\n",
        "labels = np.asarray(labels).reshape(2,2)\r\n",
        "sns.heatmap(cf_matrix, annot=labels, fmt='', cmap='Blues')"
      ],
      "execution_count": null,
      "outputs": [
        {
          "output_type": "execute_result",
          "data": {
            "text/plain": [
              "<matplotlib.axes._subplots.AxesSubplot at 0x7f45a3cbea90>"
            ]
          },
          "metadata": {
            "tags": []
          },
          "execution_count": 60
        },
        {
          "output_type": "display_data",
          "data": {
            "image/png": "[encoded data removed]",
            "text/plain": [
              "<Figure size 432x288 with 2 Axes>"
            ]
          },
          "metadata": {
            "tags": [],
            "needs_background": "light"
          }
        }
      ]
    },
    {
      "cell_type": "markdown",
      "metadata": {
        "id": "RuvU_YLWWRN_"
      },
      "source": [
        "# Model 2: Logistic Regression"
      ]
    },
    {
      "cell_type": "markdown",
      "metadata": {
        "id": "X7bzapZmhfPg"
      },
      "source": [
        "Logistic Regression is generally used for classification purposes. Unlike Linear Regression, the dependent variable can take a limited number of values only i.e, the dependent variable is categorical. When the number of possible outcomes is only two it is called Binary Logistic Regression.\r\n",
        "In our project we have success and failure as target or dependent variable."
      ]
    },
    {
      "cell_type": "code",
      "metadata": {
        "id": "6GaY8oTIzwY4",
        "colab": {
          "base_uri": "https://localhost:8080/"
        },
        "outputId": "90537a15-e879-4494-f7c9-ec43bbaa7277"
      },
      "source": [
        "from sklearn.linear_model import LogisticRegression\n",
        "log_grid = [    \n",
        "    {'penalty' : ['l1', 'l2', 'elasticnet', 'none'],\n",
        "    'C' : np.logspace(-4, 4, 20),\n",
        "    'solver' : ['lbfgs','newton-cg','liblinear','sag','saga'],\n",
        "    'max_iter' : [100, 1000,2500, 5000]\n",
        "    }\n",
        "]\n",
        "logreg = LogisticRegression()\n",
        "logistic_random = RandomizedSearchCV(estimator = logreg, param_distributions = log_grid, n_iter = 25, cv = 3, verbose=2, random_state=42, n_jobs = -1)\n",
        "logistic_random.fit(X_train,y_train)"
      ],
      "execution_count": null,
      "outputs": [
        {
          "output_type": "stream",
          "text": [
            "Fitting 3 folds for each of 25 candidates, totalling 75 fits\n"
          ],
          "name": "stdout"
        },
        {
          "output_type": "stream",
          "text": [
            "[Parallel(n_jobs=-1)]: Using backend LokyBackend with 2 concurrent workers.\n",
            "[Parallel(n_jobs=-1)]: Done  37 tasks      | elapsed:  4.7min\n",
            "[Parallel(n_jobs=-1)]: Done  75 out of  75 | elapsed: 14.1min finished\n"
          ],
          "name": "stderr"
        },
        {
          "output_type": "execute_result",
          "data": {
            "text/plain": [
              "RandomizedSearchCV(cv=3, error_score=nan,\n",
              "                   estimator=LogisticRegression(C=1.0, class_weight=None,\n",
              "                                                dual=False, fit_intercept=True,\n",
              "                                                intercept_scaling=1,\n",
              "                                                l1_ratio=None, max_iter=100,\n",
              "                                                multi_class='auto', n_jobs=None,\n",
              "                                                penalty='l2', random_state=None,\n",
              "                                                solver='lbfgs', tol=0.0001,\n",
              "                                                verbose=0, warm_start=False),\n",
              "                   iid='deprecated', n_iter=25, n_jobs=-1,\n",
              "                   param_distributions=[{'C': a...\n",
              "       1.12883789e+01, 2.97635144e+01, 7.84759970e+01, 2.06913808e+02,\n",
              "       5.45559478e+02, 1.43844989e+03, 3.79269019e+03, 1.00000000e+04]),\n",
              "                                         'max_iter': [100, 1000, 2500, 5000],\n",
              "                                         'penalty': ['l1', 'l2', 'elasticnet',\n",
              "                                                     'none'],\n",
              "                                         'solver': ['lbfgs', 'newton-cg',\n",
              "                                                    'liblinear', 'sag',\n",
              "                                                    'saga']}],\n",
              "                   pre_dispatch='2*n_jobs', random_state=42, refit=True,\n",
              "                   return_train_score=False, scoring=None, verbose=2)"
            ]
          },
          "metadata": {
            "tags": []
          },
          "execution_count": 61
        }
      ]
    },
    {
      "cell_type": "code",
      "metadata": {
        "id": "Qj_ZUnlwu87i",
        "colab": {
          "base_uri": "https://localhost:8080/"
        },
        "outputId": "9952bad5-9995-434e-c582-e807e3b1ba30"
      },
      "source": [
        "logistic_random.best_params_"
      ],
      "execution_count": null,
      "outputs": [
        {
          "output_type": "execute_result",
          "data": {
            "text/plain": [
              "{'C': 3792.690190732246,\n",
              " 'max_iter': 2500,\n",
              " 'penalty': 'l2',\n",
              " 'solver': 'liblinear'}"
            ]
          },
          "metadata": {
            "tags": []
          },
          "execution_count": 62
        }
      ]
    },
    {
      "cell_type": "code",
      "metadata": {
        "id": "HhrSJc-Lxfly"
      },
      "source": [
        "logreg = logistic_random.best_estimator_"
      ],
      "execution_count": null,
      "outputs": []
    },
    {
      "cell_type": "code",
      "metadata": {
        "id": "3aUZj5A4yeH_"
      },
      "source": [
        "y_pred = logreg.predict(X_test)\r\n",
        "log_score = logreg.score(X_test,y_test)\r\n",
        "log_f1 = f1_score(y_test, y_pred, average = 'weighted')"
      ],
      "execution_count": null,
      "outputs": []
    },
    {
      "cell_type": "code",
      "metadata": {
        "id": "WtUeDTIeymNx",
        "colab": {
          "base_uri": "https://localhost:8080/"
        },
        "outputId": "5178cbeb-d5b7-4b29-ec6e-89ac21ae27b0"
      },
      "source": [
        "print(\"\\nClassification report:\")\r\n",
        "print(classification_report(y_test, y_pred))"
      ],
      "execution_count": null,
      "outputs": [
        {
          "output_type": "stream",
          "text": [
            "\n",
            "Classification report:\n",
            "              precision    recall  f1-score   support\n",
            "\n",
            "           0       0.61      0.35      0.45     15090\n",
            "           1       0.64      0.84      0.73     20803\n",
            "\n",
            "    accuracy                           0.63     35893\n",
            "   macro avg       0.63      0.60      0.59     35893\n",
            "weighted avg       0.63      0.63      0.61     35893\n",
            "\n"
          ],
          "name": "stdout"
        }
      ]
    },
    {
      "cell_type": "code",
      "metadata": {
        "id": "BupyUIlOzIw1",
        "colab": {
          "base_uri": "https://localhost:8080/",
          "height": 282
        },
        "outputId": "6364a074-c4c1-4e43-aa04-e047e6fa53b5"
      },
      "source": [
        "cf_matrix = confusion_matrix(y_test, y_pred,labels=[0,1])\r\n",
        "group_names = ['True Pos','False Neg','False Pos','True Neg']\r\n",
        "group_counts = ['{0:0.0f}'.format(value) for value in\r\n",
        "                cf_matrix.flatten()]\r\n",
        "group_percentages = ['{0:.2%}'.format(value) for value in\r\n",
        "                     cf_matrix.flatten()/np.sum(cf_matrix)]\r\n",
        "labels = [f'{v1}\\n{v2}\\n{v3}' for v1, v2, v3 in\r\n",
        "          zip(group_names,group_counts,group_percentages)]\r\n",
        "labels = np.asarray(labels).reshape(2,2)\r\n",
        "sns.heatmap(cf_matrix, annot=labels, fmt='', cmap='Blues')"
      ],
      "execution_count": null,
      "outputs": [
        {
          "output_type": "execute_result",
          "data": {
            "text/plain": [
              "<matplotlib.axes._subplots.AxesSubplot at 0x7f45a395cf28>"
            ]
          },
          "metadata": {
            "tags": []
          },
          "execution_count": 66
        },
        {
          "output_type": "display_data",
          "data": {
            "image/png": "[encoded data removed]",
            "text/plain": [
              "<Figure size 432x288 with 2 Axes>"
            ]
          },
          "metadata": {
            "tags": [],
            "needs_background": "light"
          }
        }
      ]
    },
    {
      "cell_type": "code",
      "metadata": {
        "id": "7v_2gqMAip72",
        "colab": {
          "base_uri": "https://localhost:8080/",
          "height": 295
        },
        "outputId": "018f086b-7455-46fa-e289-f714e40cdb7c"
      },
      "source": [
        "from sklearn.metrics import roc_curve,auc\r\n",
        "fpr, tpr, thresholds = roc_curve(y_test,y_pred)\r\n",
        "roc_auc = auc(fpr, tpr)\r\n",
        "\r\n",
        "plt.title('Receiver Operating Characteristic')\r\n",
        "plt.plot(fpr, tpr, 'b', label = 'AUC = %0.2f' % roc_auc)\r\n",
        "plt.legend(loc = 'lower right')\r\n",
        "plt.plot([0, 1], [0, 1],'r--')\r\n",
        "plt.xlim([0, 1])\r\n",
        "plt.ylim([0, 1])\r\n",
        "plt.ylabel('True Positive Rate')\r\n",
        "plt.xlabel('False Positive Rate')\r\n",
        "plt.show()"
      ],
      "execution_count": null,
      "outputs": [
        {
          "output_type": "display_data",
          "data": {
            "image/png": "[encoded data removed]",
            "text/plain": [
              "<Figure size 432x288 with 1 Axes>"
            ]
          },
          "metadata": {
            "tags": [],
            "needs_background": "light"
          }
        }
      ]
    },
    {
      "cell_type": "markdown",
      "metadata": {
        "id": "-6vyZln-Wtkj"
      },
      "source": [
        "# Model 3: Random Forest Classifier\r\n",
        "\r\n",
        "\r\n"
      ]
    },
    {
      "cell_type": "markdown",
      "metadata": {
        "id": "ee88cYLAf7uP"
      },
      "source": [
        "\r\n",
        "The random forest is a classification algorithm consisting of many decisions trees. It uses bagging and feature randomness when building each individual tree to try to create an uncorrelated forest of trees whose prediction by committee is more accurate than that of any individual tree. In this project we are able to get 71% of accuracy."
      ]
    },
    {
      "cell_type": "code",
      "metadata": {
        "id": "RdbjMU77mAA_",
        "colab": {
          "base_uri": "https://localhost:8080/"
        },
        "outputId": "c67bbb41-9854-4680-fbac-6ed8af9fb2c2"
      },
      "source": [
        "from sklearn.ensemble import RandomForestClassifier\r\n",
        "\r\n",
        "# parameters\r\n",
        "random_grid = {\r\n",
        "    'bootstrap': [True],\r\n",
        "    'max_depth': [80, 90, 100, 110],\r\n",
        "    'min_samples_leaf': [3, 4, 5],\r\n",
        "    'min_samples_split': [8, 10, 12],\r\n",
        "    'n_estimators': [50, 100, 200]\r\n",
        "}\r\n",
        "# based model\r\n",
        "rf = RandomForestClassifier()\r\n",
        "# Random search model\r\n",
        "rf_random = RandomizedSearchCV(estimator = rf, param_distributions = random_grid, n_iter = 25, cv = 3, verbose=2, random_state=42, n_jobs = -1)\r\n",
        "rf_random.fit(X_train,y_train)"
      ],
      "execution_count": null,
      "outputs": [
        {
          "output_type": "stream",
          "text": [
            "Fitting 3 folds for each of 25 candidates, totalling 75 fits\n"
          ],
          "name": "stdout"
        },
        {
          "output_type": "stream",
          "text": [
            "[Parallel(n_jobs=-1)]: Using backend LokyBackend with 2 concurrent workers.\n",
            "[Parallel(n_jobs=-1)]: Done  37 tasks      | elapsed:  9.5min\n",
            "[Parallel(n_jobs=-1)]: Done  75 out of  75 | elapsed: 17.3min finished\n"
          ],
          "name": "stderr"
        },
        {
          "output_type": "execute_result",
          "data": {
            "text/plain": [
              "RandomizedSearchCV(cv=3, error_score=nan,\n",
              "                   estimator=RandomForestClassifier(bootstrap=True,\n",
              "                                                    ccp_alpha=0.0,\n",
              "                                                    class_weight=None,\n",
              "                                                    criterion='gini',\n",
              "                                                    max_depth=None,\n",
              "                                                    max_features='auto',\n",
              "                                                    max_leaf_nodes=None,\n",
              "                                                    max_samples=None,\n",
              "                                                    min_impurity_decrease=0.0,\n",
              "                                                    min_impurity_split=None,\n",
              "                                                    min_samples_leaf=1,\n",
              "                                                    min_samples_split=2,\n",
              "                                                    min_weight_fraction_leaf=0.0,\n",
              "                                                    n_estimators=100,\n",
              "                                                    n_jobs...\n",
              "                                                    oob_score=False,\n",
              "                                                    random_state=None,\n",
              "                                                    verbose=0,\n",
              "                                                    warm_start=False),\n",
              "                   iid='deprecated', n_iter=25, n_jobs=-1,\n",
              "                   param_distributions={'bootstrap': [True],\n",
              "                                        'max_depth': [80, 90, 100, 110],\n",
              "                                        'min_samples_leaf': [3, 4, 5],\n",
              "                                        'min_samples_split': [8, 10, 12],\n",
              "                                        'n_estimators': [50, 100, 200]},\n",
              "                   pre_dispatch='2*n_jobs', random_state=42, refit=True,\n",
              "                   return_train_score=False, scoring=None, verbose=2)"
            ]
          },
          "metadata": {
            "tags": []
          },
          "execution_count": 68
        }
      ]
    },
    {
      "cell_type": "code",
      "metadata": {
        "id": "zxiI5HOQngA9",
        "colab": {
          "base_uri": "https://localhost:8080/"
        },
        "outputId": "1745787c-2370-4d4e-d052-b5d42591c50d"
      },
      "source": [
        "rf_random.best_params_"
      ],
      "execution_count": null,
      "outputs": [
        {
          "output_type": "execute_result",
          "data": {
            "text/plain": [
              "{'bootstrap': True,\n",
              " 'max_depth': 110,\n",
              " 'min_samples_leaf': 3,\n",
              " 'min_samples_split': 8,\n",
              " 'n_estimators': 200}"
            ]
          },
          "metadata": {
            "tags": []
          },
          "execution_count": 69
        }
      ]
    },
    {
      "cell_type": "code",
      "metadata": {
        "id": "m2kjzxIErSvf"
      },
      "source": [
        "classifier = rf_random.best_estimator_"
      ],
      "execution_count": null,
      "outputs": []
    },
    {
      "cell_type": "code",
      "metadata": {
        "id": "hjA9FRzqroJ8"
      },
      "source": [
        "# Predicting the test set results\r\n",
        "y_pred = classifier.predict(X_test)\r\n",
        "rf_score = classifier.score(X_test,y_test)\r\n",
        "rf_f1 = f1_score(y_test, y_pred, average = 'weighted')"
      ],
      "execution_count": null,
      "outputs": []
    },
    {
      "cell_type": "code",
      "metadata": {
        "id": "ut5DyDyfrrpT",
        "colab": {
          "base_uri": "https://localhost:8080/"
        },
        "outputId": "30ae4585-42ab-4262-92cb-c018305ad61d"
      },
      "source": [
        "print(\"\\nClassification report:\")\r\n",
        "print(classification_report(y_test, y_pred))\r\n",
        "f1_score(y_test,y_pred, average = 'weighted')"
      ],
      "execution_count": null,
      "outputs": [
        {
          "output_type": "stream",
          "text": [
            "\n",
            "Classification report:\n",
            "              precision    recall  f1-score   support\n",
            "\n",
            "           0       0.67      0.58      0.63     15090\n",
            "           1       0.72      0.80      0.76     20803\n",
            "\n",
            "    accuracy                           0.71     35893\n",
            "   macro avg       0.70      0.69      0.69     35893\n",
            "weighted avg       0.70      0.71      0.70     35893\n",
            "\n"
          ],
          "name": "stdout"
        },
        {
          "output_type": "execute_result",
          "data": {
            "text/plain": [
              "0.7029677854277885"
            ]
          },
          "metadata": {
            "tags": []
          },
          "execution_count": 72
        }
      ]
    },
    {
      "cell_type": "code",
      "metadata": {
        "id": "eAvcUHfwWjyA",
        "colab": {
          "base_uri": "https://localhost:8080/",
          "height": 282
        },
        "outputId": "da8fd434-675e-4de8-bceb-a07ace6b7ab5"
      },
      "source": [
        "cf_matrix = confusion_matrix(y_test, y_pred,labels=[0,1])\r\n",
        "group_names = ['True Pos','False Neg','False Pos','True Neg']\r\n",
        "group_counts = ['{0:0.0f}'.format(value) for value in\r\n",
        "                cf_matrix.flatten()]\r\n",
        "group_percentages = ['{0:.2%}'.format(value) for value in\r\n",
        "                     cf_matrix.flatten()/np.sum(cf_matrix)]\r\n",
        "labels = [f'{v1}\\n{v2}\\n{v3}' for v1, v2, v3 in\r\n",
        "          zip(group_names,group_counts,group_percentages)]\r\n",
        "labels = np.asarray(labels).reshape(2,2)\r\n",
        "sns.heatmap(cf_matrix, annot=labels, fmt='', cmap='Blues')"
      ],
      "execution_count": null,
      "outputs": [
        {
          "output_type": "execute_result",
          "data": {
            "text/plain": [
              "<matplotlib.axes._subplots.AxesSubplot at 0x7f45a3716240>"
            ]
          },
          "metadata": {
            "tags": []
          },
          "execution_count": 73
        },
        {
          "output_type": "display_data",
          "data": {
            "image/png": "[encoded data removed]",
            "text/plain": [
              "<Figure size 432x288 with 2 Axes>"
            ]
          },
          "metadata": {
            "tags": [],
            "needs_background": "light"
          }
        }
      ]
    },
    {
      "cell_type": "markdown",
      "metadata": {
        "id": "g7PVEPBoXkF9"
      },
      "source": [
        "# Model 4: Ensemble stacking classifier"
      ]
    },
    {
      "cell_type": "markdown",
      "metadata": {
        "id": "a_sCunF1CvZJ"
      },
      "source": [
        "Ensemble Stacking Classifier uses a meta classifier to make predictions by combining the predictions of more than one heterogeneous machine learning algorithms. The base classifiers models will fit on the entire training dataset to make predictions and the meta classifier combines the predictions from the base classifier for the best prediction. Overall, the meta classifier will reduce generalization errors.\r\n",
        "\r\n",
        "For this project, Logistic regression, Random Forest and KNN algorithms are considered as the base classifiers and Logistic regression is taken as meta classifier to make the final prediction from the results of the base classifiers.\r\n",
        "![hvh.jpg](data:image/jpeg;base64,/9j/4AAQSkZJRgABAQAAAQABAAD/2wCEAAMCAgcICAgICAcICAgHCAgICAgGCAYHBwYGCAgICAgIBggICAYIBggICAgICAoICAgICQkJCAgLDQoIDQgICQgBAwQEBgUGCAYGCAgICAgICAgICAgICAgICAgICAgICAgICAgICAgICAgICAgICAgICAgICAgICAgICAgICAgICP/AABEIAZ4CAAMBEQACEQEDEQH/xAAdAAEAAQUBAQEAAAAAAAAAAAAABgECBQcIBAMJ/8QAUhAAAQQBAQIGDAkICAYCAwAAAAECAwQFEQYSBxMhMVXUCBQXQVFUdZSVs7TTFhgiNDVWc3STFSMyMzZhcdIkJZGhsbLR8CZCcoG14UVSU8Hx/8QAGwEBAAIDAQEAAAAAAAAAAAAAAAECAwQGBQf/xAA2EQEAAQIDBgYCAAYCAQUAAAAAAQIDERRRBBITITEzBRUyQVJxYZEicoGhweFC8NE0YrGy8f/aAAwDAQACEQMRAD8A/VMAAAAAAAAAAAAAAAAAAAAAAAAAAAAAAAAAAAAAAAAAAAAAAAAAAAAAAAAAAAAAAAAAAAAAAAAAAAAAAAAAAAAAAAAAAAAAAAAAAAAAAAAAAAAAAAAAAAAAAAAAAAAAAAAAAAAAAAAAAAAAAAAAAAAAAAAAAAAAAAAAAAAAAAAAAAAAAAAAAAAPDnMzFXhlnmekcUEbpZZHro2OJiK57nL3kRqKqkDT9bsoIZGo+LD5uWJ6I6OVlJrWyxrytexHzMduvbo5quaiqiounKbHBq0a837ccpqfT4yreg875nD78cGrRGYtfI+Mq3oPO+Zw+/HBq0Mxa+R8ZVvQed8zh9+ODVoZi18j4yreg875nD78cGrQzFr5HxlW9B53zOH344NWhmLXyPjKt6DzvmcPvxwatDMWvkfGVb0HnfM4ffjg1aGYtfI+Mq3oPO+Zw+/HBq0Mxa+R8ZVvQed8zh9+ODVoZi18j4yreg875nD78cGrQzFr5HxlW9B53zOH344NWhmLXyPjKt6DzvmcPvxwatDMWvkfGVb0HnfM4ffjg1aGYtfI+Mq3oPO+Zw+/HBq0Mxa+R8ZVvQed8zh9+ODVoZi18j4yreg875nD78cGrQzFr5HxlW9B53zOH344NWhmLXyPjKt6DzvmcPvxwatDMWvkfGVb0HnfM4ffjg1aGYtfI+Mq3oPO+Zw+/HBq0Mxa+R8ZVvQed8zh9+ODVoZi18j4yreg875nD78cGrQzFr5HxlW9B53zOH344NWhmLXyPjKt6DzvmcPvxwatDMWvkfGVb0HnfM4ffjg1aGYtfI+Mq3oPO+Zw+/HBq0Mxa+R8ZVvQed8zh9+ODVoZi18j4yreg875nD78cGrQzFr5HxlW9B53zOH344NWhmLXyF7JZvQed5PBSicun7kSdVX+CJqpE2qtCL9uf+TZOwm3FbI1Y7dWRXwy7yJvNVj2PY5WPjlYujo5GPRWua7lRU76aKuvOOOHRsfmEhLJAAAAAAAAAAAAAAAAAAAAAAAAAAAAAAAAAAAav7Jt3/D+X+4zf4CPVH/fdSrpP0xGM/VR/Zs/yodLRGFMOTuRhVP29WpdjNQGoDUBqA1AagNQGoDUCm8RjC27PVXUvyR09liTJru6pvIiKqapqjV10VU50RdF5V5ORfAow+jH8CzJqiapq7XRNU1dppronf0RUVdOZFIwMfwuGBj+FU/3pyieSuP4NP8AfeIxiV/booik4K4/hVSP0czUBqA1AagNQGoDUBqA1AagUIlLydi783yqd5M7kNE7ya8S5dPBqqqv8VU52765dTY7cN0mJsgAAAAAAAAAAAAAAAAAAAAAAAAAAAAAAAAAANXdk5+z+X+4zf4IKfVH/fdWrp/RicZ+rj+zZ/lQ6WjpDk7nqn7ekuxAAAAAAAAAABprIcGGKdtBWR2OpqkuMv2JEWCHSS02/jUbM/5PypUSWTR6orkR7tOfRcFUc8W1TV/Aj1bhFvJSxrpsjN2xk2W7SvhjxVWGvWqIxFas9tjo4kRZYnObxViaxIr9ztaJjlZhmuYhliinHD8YsXhOFvI2YaczJoYbN2pso2eVlaLeinyF+xWvaMejntc1UfxcMqqkEqKi88utoqmZ5FVER+3u2o4Rr1ZLrePbNLi259sNieGrxz0rYmpdrufuRRsa5jrG47i2Rtkaxu83XVCu9MStFuMMZejaThByVSzYpSZHWN0Gzs7700NNjscmVv5KpbWNqRshSFG0ouJWdsnEvkc57pk00TXP9VptUxET+Z/th/5bB4FtqprS5FslpLbaeUfVgsNbA3jKzK1WRqrxLWRyO35Xo6RqIj3I5URrVa1L0zMxzYK8ImP00hwbRUosNsw7HOhZmbKYPebTexLFyu59f8qLkY2O/PQtpOtSPfYa5GStY5FbJxWqJjGV92Z+uTK2+GW5NJIyO1PxeQp55YWvTGxzV5aTZFpvrQQtsTVHOWKVjY7k0strRz0jgdDJGzHNcskW6X02o4Yp6sMbq9+SVlGjipnvldiW17fbL3rJvvVrrF78wx6KtaOsyukW8ss7kmVkRVKNyOf9XTOqd7lTvKioqKnhRU50XvKb0c3mzyCQAAAAAAAAAP8A0RKXk7F79RlfLt//ACwHO3fXLqbHbhukxNkAAAAAAAAAAAAAAAAAAAAAAAAAAAAAAAAAABq7snP2fy/3Gb/BBT6o/wC+6tXT+jE4z9XH9mz/ACodLR0hydz1T9vSXYgAAAAAAAAAAs4hu8j91N9EVqO0TeRqqiq1Haa7qqiKqa6KrU8BExin2wfB+JhVGNWKJWxKjo28XHuxPTVUdGmioxUVV0VETTVdOdVK7kYLb84iYmH/APDEnK1dUjjRd5rle1ddOdr3Oei86Pcrk5VXWYpiCapn3VmxULtVdFGu9vb29Gxd/fajH7+qfK32IjHa/pNa1F1REQbsG9Orx7QbOR2IpI1V0SysaxZa/Ftma1jt+NEV7JGPaxyuVIpWSRLvuRzHo5UImiJTFcxOLzbFbHR0YVibLLM+SR0009jiEmsTuRqLJI2CKtBH8ljGJHBDDExjGtaxqJyqaYpLle/OPT8Mjj8FXh1WGvDDvc/ExRR738dxrde9yc3J3iYpiPZE1VT7r4sRC1VVsMSK5/GuVscaK6bTTjFXTVX6apvqqu0VeUTTE+yN6cMMViYOvyLxEOrWOjRUijRzY3/psaqN1Rr+dzU5FVV8JG5Cd+cMMXsYxETRE0RORETkRETkRETvIicn7k5ORERC0clJ5qkgAAAAAAAAAESmHk7F79RlfLt//CA56965dVY7cN0mFsAAAAAAAAAAAAAAAAAAAAAAAAAAAAAAAAAAAILw37MTXcRkasCIs1ipNHEjl3Wulc35DVX/AJd5yI3Xva6kUz/ErV0aTx3DLCyNjLFDLV5mMa2SGTFZN6xvam65EfHBJHI3VF3XscrXN0VFVFQ9unaaIiMeTwK9krqmZj3l6O7dS8XyfojMdWL5q3qpk7mi2Th0oN03ock3VUam9issmrlXRETWsmqqvIiJyqozVvUydzRd3b6Xi+T9EZjqxGat6mTuaHdupeL5P0RmOrE5q3qZO5od26l4vk/RGY6sRmrepk7mh3bqXi+T9EZjqwzVvUydzQ7t1LxfJ+iMx1YnNW9TJ3NDu3UvF8n6IzHViM1b1Mnc0O7dS8XyfojMdWGat6mTuaHdupeL5P0RmOrE5q3qZO5od26l4vk/RGY6sRmrepk7mh3bqXi+T9EZjqwzVvUydzQ7t1LxfJ+iMx1YnNW9TJ3NDu3UvF8n6IzHViM1b1Mnc0fN3Dvj0VG8Vkd5yKrWrissjnNaqI5Wp2tqqNVzUcqJo1XN1/SbrOat6mTuaPp3b6Xi+T9EZjqwzVvUydzQ7t1LxfJ+iMx1YjNW9TJ3NDu3UvF8n6IzHVhmrepk7mh3bqXi+T9EZjqxOat6mTuaHdupeL5P0RmOrEZq3qZO5od26l4vk/RGY6sM1b1Mnc0O7dS8XyfojMdWJzVvUydzQ7t1LxfJ+iMx1YjNW9TJ3NDu3UvF8n6IzHVic1b1Mnc0O7dS8XyfojMdWGat6mTuaHdupeL5T0RmOrEZq3qZO5o+buHfHoqN4rI7yorkauKyyOc1qojnIna2qtarmo5dNGq9iL+k3Wc1b1Mnc0fTu3UvF8n6IzHVhmrepk7mh3bqXi+T9EZjqxGao1Mnc0F4bKf/AC1cq93eazEZdXPXvNbrXRNV5k1VBO1UYckxsdyJ5w2L2Nuz9mCjPJZhdXlv5C3e7Xl0SWtFO9qRMmRNd2TimMe5uqq1XK1dFRUTxrtWNWL3bUYU4S2yUZgAAAAAAAAAAAAAAAAAAAAAAAAAAAAAAAAAAFqtBhCqIBUCC8Ln6qn5VxftsRAnKBCoAAAAAAAAAAAoSNeZ5v8AX2L8l5v++1ghhCWw0CFSAAAAAAAAAAUJGuc2z/iDGeRs5/fe2e/0HJLYyBCpAoo5pW7hJhC8AAAAAAAAAAAAAAAAAAAAAAAAAAAAAAAAAKANQGoTgagwNQYOQezruZevLjJqVuxHDYkSBYYnfITIwytmqSNbov516uciLy/qW8igwdTbI42WGrXhmldPLFBEyWaRdXzzNYiSSOXwvfvO8CcycgMGY1BgagwNQYGoMFN8IXAU1AbwDUJwNQYGoMHFfCxFmk2zp1YchaZBbRkkG49USvjpFjdkYY3aatR76Kv0ReT83+jut3hg7URQYGoMDUGBqDA1CFQKbwBHANQnA1BgagwcY7V18ym3FWq2/aStJrZi0emkOKekc9ys1d1dIpLFJkSt05mxJqnOpDs5FCcDUGBqDA1BgbwQahGKoSAAAAAAAAAAAAAAAAAAAAAAAAAAAAAAIxwk7cR42jZvSNc9lWNZFYzTelXmZGxV5GrI9WsRy8jd7VeRCMVqKd6YjVpyPhr2lciOTFYxm9y7kl6057EX/lerK26rk7+7yamjVtdETg96nwa5VETrGKvdk2l6NxPnt3qxGbo0X8luandk2l6NxPnt3qwzdGh5Lc1O7JtL0bifPbvViM3RoeS3NWE2r2yzt1IG2MViXpWtQ24/6bc+TYgcro3fNl5tVRU77VVO+Tm6NDyW5qzfdl2l6NxPnt3qwzdGh5Lc1O7JtL0bifPbvViM3RoeS3NTuybS9G4nz271YnN0aHktzU7sm0vRuJ89u9WGbo0PJbmp3ZNpejcT57d6sRm6NDyW5q9OC4e8nHaqwZHH1YoL0zasdijZlm4m3IjlibYjlhhXclVqsR7HfJcqaoZ7e0RcnD3edtXh92xG9XzjVv1yqbTzXOzeyHy9p0smPxtRabZpoYZchamiltcTI6J0qRxQScUxz2uRqOcrlRNV07+pc2mimcMOb2dm8Mrv070TynovThk2l6NxPnt3qxhzlGjYjwS5r/39ndk2l6NxPnt3qxObo0W8luandk2l6NxPnt3qxGbo0PJbmp3ZNpejcT57d6sTm6NDyW5qwV3a/OyXK952KxK2KsFiCJ3btzRGWXQueq/0b9JvEo1q68iPl/8AuM3RoeS3NWd7sm0vRuJ89u9WGbo0PJbmp3ZNpejcT57d6sM3RoeS3NTuybS9G4nz271YZujQ8luandk2l6NxPnt3qxGbo0J8FuavNkeH3aCvG+ebFUJIYWukmZUu2O2OJYm9I6FJa7WPexiK5GOVN7TTXXTW9O1UTywa9zwm7RRvYt/7O52OzBDYiVVisRRzRqqaKscrUe1VTvLuqmqeH+BvPEam4RuGy9Dfkx+PowWJK8UU1mW5O+vDDx6v4qJiMjmklkc1iyKvyWtRUTlUwXL0W+rd2bY7m0T/AAMEnDHtL0bifPbvVjWzlOj1vJbvvJ3ZNpejcT57d6sM3RoeS3NTuybS9G4nz271YjN0aHktzU7sm0vRuJ89u9WJzdGh5Lc1YG1tjnX3YcguLxXbMFaeox3bt3TiLEteV2qdrcrmurojV7zZJU5N9dWbo0PJbmrPJwybS9G4nz271YjN0aHktzU7sm0vRuJ89u9WJzdGh5Lc1O7JtL0bifPbvViM3RoeS3NTuybS9G4nz271YnN0aHktzVXuy7S9G4nz271UZuhHkt3Vsvgd4TVylZ8r4FrT155Ktmur2ycRai03kZIiNSWNzXNex+63VruZNFN6KomMY6PCu25tzuz1TxCzEqAAAAAAAAAAAAAAAAAAAAAAAAAAAAAA1H2Vn7P5L7OL2mEx1dJ+mex3KftGFOaq6y+pW/RH1AVZAAAAAAAAASIjwh/pYvy3i/aEN7Ze457xjsur3Ke44NyLwLfR0P21z22wc9tHcl9E8K7FKcoasPYgCQAAAAAAAEsXtUv9Fs/d51/sicZrfqpaG1dmr6ba4BW/1JiPJtP1EZ0r5lPVqLMr/wAQ5r7DFeomPK23rDrvA+ksueVLrYCEgAAAAAAABAMj2MH/AM35Zl9lqnQWO3D5nt3fqbxQ23nKgAAAAAAAAAAAAAAAAAAAAAAAAAAAAANR9lZ+z+S+zh9phKV+mfr/AAzWe5T9wjBzM9X1O36Y+oCrIAAAAAAAACREeEL9LF+W8X7QhvbJ3HP+L9l1c/vHuOCcicDC/wBWxfa3fbbBz+0dyX0PwrsW/tO0NR7QAAAAAAAAAxe1PzWz92seqcZrXrpaG1dmptvgG+hMR5Np+ojOlfMp6tQZr9oc19hivUzHk7b1h13gXSr7Zg8uXXQEAAAAAAAAAAyPYwc+c8sy+yVDoLPbh8z8Q79TeKG285UAAAAAAGPzGfgrojp5ooWuXdas8kcSOdyrutV6tRV0RV0Tl0A+9G+yRqPY5r2ORFa+NzXsei99rmqqKn70UD0gAPFk8xFC10ksjIo26bz5XsjY3Xm3nOVGpr+9QPjHtHXV0TUni3rCOWBqSRq6w1iIr3QIi6zIxqo5ys1RqKiroiooGTAARvJ8I2Ph1429UiRtllJVls140TISo1Yqi7z00tStexWV/wBa9HsVGrvIBm8dkY5o45YpGSRSsbJHJE5skcsT2o5j43tVWyMc1Uc1zVVHIqKirqB6QAAAAAAAAAABqPsrP2fyX2cPtMJSv0z9f4ZrPcp+4Rg5mer6nb9MfUGhWI5rThHOXlfkI0bvrIxGao3eV7EZvq7dRu9rpvK9UZprqrl05+RbzSrFyl6UUrhgvGHsqQS80+SiYujpGNVGOkVHOa1UhYqI+RUVU0jaqoiv/RTVNVTUnCZ6MXEj39ijkopUVYpGSNRdFdE9kjUVWteiKrVciKrXNdpr+i5q8zkVWEx1TRcivo9JDKtWREVEVURXa6Iqpq7RNV3U7+icq6cyEsc1xE4LgyIjwhfpYvy3i/aEN7ZO45/xfsurn949xwTkTgY+jYvtbvttg5/aO5L6H4V/6e39p0aj15jDm+azpqrdU3moiq3VN5qLzKqc6IveVecvETPRj4kY4Y4LaVpr2o5jmva7la5jmvY5PC1zVVHJ+9FImJjqzR+Jxfcql8bVxjERXvaxHOaxFe5rUdI9d1jU1VNXOdo1rU1VVVERFJiJnopVVEdXxr5mF71jZNG6Ru9vMZJG57VYrUejmoquarFc1Hap8lXNRdN5CZpmOqKaomcIewqyLJpUaiqqoiJzq5UaifxVdETlVE/iqJ30JYpuRHKVyKQmJiejGbU/NbP3ax6pxmteulqbV2am2+Ab6ExHk2n6iM6V8ynq1Bmv2hzX2GK9TMeTtvWHXeBdKvtmDy5ddD5yzNRURVRFcujdVRN5efRuqpvLpy6J3kUtETPRiqqiJ6rYrbFVzUc1XMVEe1HNVzFVEciPaiqrVVqo5EVE1RUXmVFImJjqtTV/V9iq6170TlXkTvqvMiJzqvgQc/ZWqcGP+EdbVidsQ6ytY6NONi1ljkcjI3xJvayNke5Gsc3VHOVETVVRCd2Y5yw8WnHCOrJEM0TjzAmqYiMZ6LIpUcmqKip4Wqioqoui6KmqaoqL/YpO6x01xPReQysh2MHPnPLMvstQ6Cz24fNPEe/U3khtvNVAAAAAABo3smpEbLgnOsVKzW5OXWfJwds1ItcZfRFmjWaoi7yruNVZmaPc3nXRFDVuI2rdTqPhjciMsbQW0W9UsOwWHvRyUu3HyRSNr3p6NfjnLWjjqcc+zervVLEiTybwfGThVvrRx9qxfl42CrabYossz43Jy24LckUctTjKfa+av8SxjH4q1HWR3GtmWONZImASLH7YZeTNSRrcihdHmWRNq2r15sj8Jxca7sOJjxksMrJYd6duRW6m7ZVWumibG6uBOeFCWrFmcfZybWfk+KlcZBLZar6VTLulrqr7W9vRQSyVGyMrzyNYjUSxGj0WZrXBCto9oaFdK9zE1Z2VoYdpLEaUIOK7YsJVhc+fGRztWHdll3nMfxTYJZGySIyRrlc8IphOEvJSflSouSjrxRx4SzTsyZDIW6tp01i6zKV0zKUIZKsLuIrwy2oIJYqEllN17eMiijD3bQcJ9jtCtZS9ajjgiy29UlyPa9y/JWuPigsYTJNqPrZ1WpErKdO2je3IZ4ZJ0c9qq4JBfgkuZGvLPJaVaGdyHam8+SFazPg02VEc1m6mqSSzRu3kd8mWaLlbI9qhEZtvc5JJCnb8deb8nYKSj29evVG2pZ4Y3WpEpV8XeTNvmnc+CwxZt+BjY1a2rqs8gTLLZG8la3PJmJI1dnrldjMhZsUKSY2Ce3uVUvVK00mJRzVRW3Xo5z+Kig3tHNRQ3RwM59bWMqzqlnV7Hovbz45Z13JHs1dLGyJlhjkbvRzoxOOiVki8r1AmoAAAAAAAADUfZWfs/kvs4faYSlfpn6/wzWe5T9wjBzM9X1O36Y+oQLhoT+hs4xHLU7bqdvoxHqq43jU49JEZq50Ou5x6aK1a6y68mpkt8+TT2mZjDCJ/KCbVWcI+KwuMWs56vxaTyYzcWnuNydZIWTPgVarrCaruo7WZI+8jVTXJTjjg165oiP4cejz0uFmd2RY1tpzYZ7WUqyR2ZK8zqawQ2X1lkpwV96nvSVkbA2W26e0xztYlcreLzTTTg1ou148sXnxG3lt1exF+VY+2IW4x8ltblObGTJNLMkrKt6Omj8bPabCqOit1tIUdBxbk4xzmVmmnCF4uV8+vsxe2O077lCaN086wyYzJpIs7qUj5eIy1av8AJsQM4q1WdG50bJI0RJoVYsjVkR6NnCIhSuqur8YR/lnNoNrrUNh1ftpK9VuTtV3TyT1aP6nH0nV68lt9WxHGsj5JpUVWNfK6JGNejU3S2FKIruRhEJBwb5jIWLsTLF/fZBiqdhzKvEuguzT2clC2d73QRSK18EET3NjbC1ZUarfktVJMFe7zwbdvizVjM8n14Rc9ioMviZJ7dOK02Sdj+2bMDJYqr6Fzi03JJEWGOWZURFRrUkkRiKr1axGoiN2WS93qW21NZ6FPNEeEL9LF+W8X7QhvbJ3HheL9l1c/vHuOCchcDH0bF9rd9tsHg7R3JfRPCexb+5TDL8bxMqQ6cdxMnFa83Hbi8Xrzf8+ng/ia1PV6FUTu1fbTvB7Ps9xeMaiQLk2LEqtjRfyxFkFZpbfkEj0tRornSLZfZ0hfvfK3kVqGbCrHl0aMbsxzxxQKfhNsVMdXbWnfHLTxENtkbpq0UdtyyTOc2vX7Wt2cirY4nJOiLBDDHo7jGuXfjz7sT1atdyqMIpxhsOXbyVuUWP8AKKTRz2JWV2UZasyVYW4+SVEyFB0CWeIa+NZm3K003GOfAi7sci6Vmilli7c3sOfRgdn9vrKtjifdWzK2xguNsQT0btCVLV9YZHVZWQQS1JpUYquqzRosLeIdE7eSVwwphjmuuacP/dH/AMsHjs1ao0tKkrt59PM2XPe2Fz2S/lyvFNZ14qRdYopJplVzXsVyq57ZERERhTOH2xxVdppnrjz/APsk0O0t6V1eGLLMWC1lYK7LFOzUyE7IXY29YsQLY7ThruVXQwyRqjJHxq929ojWMKzFMTMtjeuThEY9ec4/hN+GHO42uyqt5laV751jpR5GWGGq62sMm9JYfOqQsZFDxjnPc170aqpEySSRkbsVuMZxZr9VMRETE46/+Ug4MqcMePqRwWYrUUULY2T1XMfBLuatdxCsc9iRtcjmNa1y7jWo3XVqmGrrLeselktqfmtn7tY9U4yWvXSwbV2am2+Ab6ExHk2n6iM6V8ynq1Bmv2hzX2GK9TMeTtvWHXeBdKmXU82XUTMxPJo+9PhW2MsmZ7V4+SxuxJkUZxk2K7Xh7Wbi0k+XI3jON1ZV1clpZORHOYbFUTMRETg82jDemLmLH5TaxtaW0kck1dtm5jYklmniqcTEmIZLu5C1bZYfW3kYjXLxUth0m6xERXOcmSIicN7RgmuqjeinHDqxdnhUt9owWJchuLBFk22IIp6lTIzy1bbooJqyWqjIL87YY01pvbS411iN+61JGNbE0080ReuYU9f3h/8AqU2dtp2ZJY3XnSsnndHDXqy1UkpsTHvl4vJ4+WBlljEkYsvbkEsmj5IUcjI99GoopwWqvXMZ98Yn3xRDZa9LvRXeOcs9ivsbFI5UrqzirU/51jW8UjYmu3pHNRm6jFkerUau6rbfwzyY/wCOOcRzwp/2vq8I2UWtan7fiSeKjmpbNZ1mu+elNXhnfX4qk2lG+k6rM2KP+kTObLEu+7jXK1BNNMdE2rl2dW5LcEMeLcmQmltQug3rcj2OV0kciIsiKyqxithajlTRG/JhT5bnaPeurPqehTjFr+L3RngN4rjsosS1HxvnrPbLh9xMW5FrtYjIEZvJ2zG2NEsaPfqroNFTd3GXu9GPZomKm2jWeqyHYwc+c8sy+y1DoLPbh808R79TeSG281UAAAAAAFrmIvOiL/ECjokXvJ//AABxSeBP/YBIU8Cf+gHEpy8icvP+9P3+EBxScnInJzfu/h4AHFJzaJpzf9gHFJ4E5OVP3L+7wAEhTwIBTiG//VP7E7/Iv9wFViTTTRNF5005F159fDr3wLkaBUAAAAAAAABqPsrP2fyX2cPtMJSv0z9f4ZrPcp+4Rg5mer6nb9MfUCoRE4dF5iJfNIG6abrdF5dNE0Vf4c3g/sTwFt6dVIt0x0iF3Fpz6Jqq6quiaqqcyqvh/eRvTqnh06QokDdFTdbovOmiaL/FNOX/ALjGTh06QcQ3m3U0RNNNE03fB/Dk5uYb06m5TpA+Fq6orUVF5VRURUVeTn8PMnP4CMTcp0hcjE59E15te/p4AndjRY+s1eVWtVfCqIq/3oTvTqiaKZnGYjHV9CFsMER4Qv0sX5bxftCG9snceB4v2XVz+8e44JyHwMfRsX2t322wc/tHcl9D8K7Fv7TtENWJezhGGCnFJrromq866Jqv8V51J3pViimPaFEhbycicnInInIngTwJ+4iJmETbpn2gSFuuu6iLppqiIi6eDXwfuJ3p1TuU9cIEgbzI1E5deRE5XeH+PJzkYyblOkKpEngT/sia6f70/sTwDGU7lOkKNgammjURE5U0RERF8KeBScZNyNCSFq86Iv8A1Ii/4iKpjoTRTPWIlVjERNERETwIiIid/kRP38pWUxERGEMbtT81s/drHqnGa166WjtXZqbb4BvoTEeTafqIzpXzKerUGa/aLNfYYr1Mx5O29Ydd4F0qZjQ8uXW4LXRIumqIunNqiLp/DwE4yrNFNXOYiVHQtXXVqLrprqicqpza+HTva8wxkm3TPtA6Fq87UXl15URfleH+PJz84xlHDp0hXik13tE10010TXTwa8+n7hjKdynSFEhb4E73eTvc39ne8BGJuU6QcS3l+SnyuR3Inyk8DvCn7lJ3p1TFFMe0L0QjGSaYmMJhayNETRERE8CIiJqTMzPUiimOkLiqzIdjBz5zyzL7LUOgs9uHzTxHv1N5IbbzVQAAAAAAAAAAAAAAAAAAAAAAAAAAAAAGo+ys/Z/JfZw+0wlK/TP1/hms9yn7hGDmZ6vqdv0x9QFWQAAAAAAAAEiI8IX6WL8t4v2hDe2TuOf8X7Lq5/ePccE5E4GE/q2L7W77bYOf2juS+h+Fdi39p2hqPaAAAAAAAAAGL2p+a2fu1j1TjNa9dLQ2rs1Nt8A30JiPJtP1EZ0r5lPVqDNftDmvsMV6mY8nbesOu8C6VfbMHly64IAAAAAAAAABkexg5855Zl9kqHQWe3D5n4h36m8UNt5yoAAAAAAAAAAAAAAAAAAAAAAAAAAAAADUfZWfs/kvs4vaYTHV0n6Z7Hcp+0YOaq6y+pW/TH1AVZAAAAAAAAASIjwhfpYvy3i/aEN7Ze45/wAY7Lq5/ePccE5G4F0/q2L7a77bYOf2juS+h+Fdin8JyhqPagAAAAAAAAAlitqvmtn7tP6pxlt+qlobV2avptzgG+hMT5Np+ojOmfMp6tQZn9oc19hivUzHlbb1h13gfSr7Zg8qXWwEJAAAAAAAAAGR7GD/AOc8sy+yVDoLHbh8z2/v1N4obbzlQAAAAAAAAAAAAAAAAAAAAAAAAAAAAAED4cdjJchibtOBWpNYi0i39UYszHNlY166Lute9iMV2i7qO10XTQrMY4/lkt1btUVaS0gzPZZqIkuzeUSRETfSDtCaLe7/ABciWWpI3wLonJzoh5NWx1TM4S7Kjxm3FMRMc4j8q/CLJfVzMfh0utFclVrDJ53a0V+EWS+rmY/DpdaGSq1PO7WknwiyX1czH4dLrQyVWp53a0lT4RZL6uZj8Ol1oZKrU87taPNDtredJJE3AZZ0kSMWRiMpb8aSIqsV6dtfJRyNdp4dFGSq1PO7Wj1fCLJfVzMfh0utDJVanndrST4RZL6uZj8Ol1oZKrU87taSfCLJfVzMfh0utDJVanndrST4RZL6uZj8Ol1oZKrU87taSpQ2cymSt0GvxNmjVqXYbtie+6sx7kq6vjhrxRSzPkdJIrdXrutY1F1VeY2rGzzRVvS8fbvE6dpo3KI/bqdzuY9BzrkjC4DL4tr6T8NbuRxT2XQWsa6rLHZryzyTMdIx80MleRqSbrmOaqbyLo5ycp5l7ZZqq3ol1Ow+KUWbe5PsyCbRZL6uZj8Ol1o142Kv8PQjxu1h0V+EWS+rmY/DpdaJyVWqfO7WknwiyX1czH4dLrQyVWp53a0k+EWS+rmY/DpdaGSq1PO7WkvLX21uvfJG3AZV0kO7xrGspK6PfbvM307a+TvN5U/cMlVqed2tJer4RZL6uZj8Ol1oZKrU87taSfCLJfVzMfh0utDJVanndrST4RZL6uZj8Ol1oZKrU87taSfCLJfVzMfh0utDJVawT43a0l4c1ZzNmGWvX2fvxzTxviZJedSr1oVkTc42V/Hyrux72+rWMc52miIuvJkt7JVExMz0at/xe3XbmIjrDpXg/wBmu0qVSnvb3alWCDeRFRHrFG1iuTXVURd3VEXvL+5T1nITLSPCbszkq2WtX6+Pmv1r8FZj+03QJYqz1UkZosUr4eOjkY9rkexyq1dUVvJqunfs8To9nw/bo2X1RjEsKm0eS+rmX/DpdaNHJ1PfjxuzpKvwiyX1czH4dLrQyVWqfO7WknwiyX1czH4dLrQyVWp53a0k+EWS+rmY/DpdaGSq1PO7WkvLktt7sLd+XAZWNivjjR0jKLW8bNI2KJmvbX6Ukr2RtTvucid8ZKo87taS9XwiyX1czH4dLrQyVWp53a0k+EWS+rmY/DpdaGSq1PO7WknwiyX1czH4dLrQyVWp53a0k+EWS+rmY/DpdaGSq1PO7WkqJtFk+9s5l9V5tWUWpr3tVW1o1P3ryITkqtUedW9G0ux32Mt1K1qS5EkNnIXZbr4GvbKlVkjY444nSN+RI9scbVe5mrd5yoirpqvq0UbtMU6OP2i7xK5r1bXQyNZUAAAAAAAAAAAAAAAAAAAAAAAAAAAAABQIU3SMEm6SG6EG6A3RgIJsv9L5b7HGf5LYwE73QG6A3QG6ARpOKJhcQst3SMA3SUYG6A3QG6BCNkU/rLL/APVR9lCU33Qg3QG6A3QG6VwSuLC1Wkq4G6Qk3QG6A3QNe8PCf1cnlHC/+ZoAbC3RgG6A3QG6A3SMEqkoVCQAAAAAAAAAAAAAAAAAAAAAAAAAAAAAAAAAAAABA9lvpfLfY4z/ACWwJ4AAAAAAAAAAAAEH2R+k8v8A9VH2UCcAAAAAAAAAAAABrzh4+jk8o4X/AMzQA2GAAAAAAAAAAAAAAAAAAAAAAAAAAAAAAAAAAAAAAAAAAAAAQPZb6Xy32OM/yWwJ4AAAAAAAAAAAAEH2R+k8v/1UfZQJwAAAAAAAAAAAAGvOHj6OTyjhf/M0ANhgAAAAAAAAAAAAAAAAAAAAAAAAAAAAAAAAAAAAAAAAAAAAGsMrkpcfkrNl9S1NVv16rUloV5bj69mss7XMnggbJPuSMlY5kjI3t3kka5Y9Gq4Pa3hrq+KZf0JnepgV7tVXxTL+hM91MB3aqvimX9CZ7qYDu1VfFMv6Ez3UwHdqq+KZf0JnupgO7VV8Uy/oTPdTAd2qr4pl/Qme6mA7tVXxTL+hM91MB3aqvimX9CZ7qYDu1VfFMv6Ez3UwHdqq+KZf0JnupgQ3Z3hnx0d/KPkknifK+gkdWWpdZkJ1Ws5PzNF0KWpk+Q5d5kStRGquqImoEy7tdXxTL+hM71MB3aqvimX9CZ7qYDu1VfFMv6Ez3UwHdqq+KZf0JnupgO7VV8Uy/oTPdTAd2qr4pl/Qme6mA7tVXxTL+hM91MB3aqvimX9CZ7qYDu1VfFMv6Ez3UwHdqq+KZf0JnupgO7VV8Uy/oTPdTAwG2O0zsqyGlVp3279yjPNPdo3KEFavTuQXHuV1uKBZXv7XSJkcTZHK6RFXda1zkDb6KBUAAAAAAAAAAAAAAAAAAAAAAAAAAAAAAAAAAAAAAAAAAABRzQKboDdAboDdAboDdAboDdAboDdAboGgYarPhgjt1N7tG4m9p8rRsWH0RF5+Tffp4Ee9OZyoob+RgDdAboDdAboDdAboDdAboDdAboFFjQC5AKgAAAAAAAAAAAAAAAAAAAAAAAAAAAAAAAAAAAAAAAAAAAAAAAAAAAAAAAAANCV/2vT7ld9VhQN9IBUAAAAAAAAAAAAAAAAAAAAAAAAAAAAAAAAAAAAAAAAAAAAAAAAAAAAAAAAAAAAAAAAAAAAAACyR6pzJqve1XTl/sX/Bf4AcGY/soJnbStl/JDksLJNje1ltpyWJn0ayuWVKy8kb6aqqbnKj+dN35Qd6gVAAAAAAAAAAAAAAAAAAAAAAAAAAAAAAAAAAAAAAAAAAAAAAAAAAAAAAAAAAAAAAAAAWudoBrXaPsjsBUnkr2MnAyaFytlY3jJVienOyTimyIx6d9iqjk76JoumGq7TTOFVUQiZiOswx3xsNmelYvwrfuSONbj/nH7hWKqdYPjYbM9KxfhW/clZ2i384/sb1PyhT42GzPSsX4Vv3JGYt/OP7G/T8oPjX7M9KxfhW/cl6b9E9K6f3Cd+nWHOFTKbPN2rdmfyrXWo5JLLW8Xa1ZkOJjhT5PFaqj3unn100a9iLyK5uluLR86f3BvU6w6Ob2V+zOn0rF+Fb9yVm9RH/ADp/cG9TrCvxsNmelYvwrfuSmYt/OP7I36flB8bDZnpWL8K37kZi384/sb1PyhX42GzPSsX4Vv3Jfj2/nH7hO9TrD6VOym2be9rG5auivcjUWVJoWby8iI58rI2N1Xk1c5EEXaJnCKo/sRMT7w2syRF5jOsvAAAAAAAAAAAAAAAAAAAAAAAAAAAAAAAAAAAAAAAAAAAAAAAAAAAAAAAAAAALXAcR8FMadpo7RN6Sxce93fkkdbn1c9V5XOXRE1XXmTwHzPxe7XF+5ETMYdOfRze1VTxcMZw0S/dTwHlRer+U/tp786yrulZu1/Kf2b06yaEcSv5T+zenWTQcSrWf2b06yf7/AN/2DiVaz+zfq1n9mg4lWs/s351k0HEr+U/s3p1k0J4tfyn9m9OsqbqeAmb1fyn9k11ayxO2FJklS0x7Ucx1eZHIqJov5ty/2oqaoveXRe8bOyXq+NT/ABTz/LNbqnep5zzdG8CFhz8PinvXee/H01c5ddXLxEeqrr4T6vS6pOCwAAAAAAAAAAAAAAAAAAAAAAAAAAAAAAAAAAAAAAAAAAAAAAAAAAAAAAAAAALH94Dibgq+Yx/bW/a7B8t8Y791zO1d5Ljx2kDEBiAxAYgMQGIDECxLHbSfNrH3eb1bjNsndo/mwZ7fqodCcA/0JifJ1P1EZ9fpdYnZcAAAAAAAAAAAAAAAAAAAAAAAAAAAAAAAAAAAAAAAAAAAAAAAAAAAAAAAAAAFj+8BxNwVfMY/trftdg+W+Md+65nau8lx43+mkAAAAAAAEgWJY7aX5tY+7zercZtk7tH87Pb9VDoTgH+hMT5Op+ojPr9LrE7LgAAAAAAAAAAAAAAAAAAAAAAAAAAAAAAAAAAAAAAAAAAAAAAAAAAAAAAAAAAsf3gOJuCr5jH9tb9rsHy3xjv3XM7V3kuPG/00gtgAwAiQIAAAJAsSx20vzax93m9W4zbJ3aP52e36qHQnAP8AQmJ8nU/URn1+l1idlwAAAAAAAAAAAAAAAAAAAAAAAAAAAAAAAAAAAAAAAAAAAAAAAAAAAAAAAAAAWP7wHE3BV8xj+2t+12D5b4x37rmdq7yXHjf6aTC7TbS9r8SxsTpprUixQRNVGI5zWOke6SR2rYo442Oc56o5eRGta9yo02rNmbmPtEe/Vkoo3sfwxHw2ssdDHPRWGSW3DVVUlbNA9ssMsvG1ZkZE+VGOiWNWywwuRyoqoiKmuaNnirHdqxwiZ6af1ZKbW90n20eutwlY9zZXJYRGQxLM57452NWujt1ZYVexqWI975O/DxjVVWoiqr2I6k7Ld9o98FeHK9eESluo7jX6rLxKR9r3O2FnSNJVZ2vxPH8kSpLrxW7uKi6idkuY4RHticOUf2v4Xo68e/A1lp0rse2BjO2tXdvyujZJNxdWwscbWNdIiMa+R6sWPca5zEfmtbFVV6pw/wC/a9NmZ68mW7p1NjEfNM1Fd2w7SBlqfdgrSuhllkRsKPjjjc1GvkexrEdqiOciIqxOyV88Ix/srwavaGUo7ZVJbD6scyPniY2R7GNkc1kb2sexzpEbxSJI17XM+Xq9Nd1F3H7upXYuW43q4wj7Uqt1UxjLMmOGOWO2l+bWPu83q3GbZO7R/Oz2/VQ6E4B/oTE+TqfqIz6/S6xOy4AAAAAAAAAAAAAAAAAAAAAAcrxdkDlfg7NMrqy5tztyp+ac2tJFYrvyMFl0KuVZWVsYyd8qI7dlmo2GtVuu6wJPl+y6xla2lOaSDfhlx9Wwrr1CK0lzINrLH2rQkkSzbiiS3A6aRqN3WyLuNn3JNwPvT7Ix8dJLdutWg38llKUfHZGlTr7mPu2aqK+a0+PWWRYNxkTEk33rvLxLFVWBLMtwyxuwUWYpx77b1alLTjtb0ScZknwRVW293fdEjJLEfHbuqtRr9F5EUDA8IdrPY/H5G0uRqzpXxd2Zr2U+1562Qih4yGSu1ZLkM8GqP3orLVcioz5ciK9jg9tvsgK8ORgxsrGJJPNDWYvblBbT5Zq6TsnSg2RbKVFdrAsysa5JuXiuK/PAY/F9ktDLWv2m1HvjxzXrLHDZqTXIJI5GxrDkqrXJPjJtHJY3ZGva2vrIrmroxQ8Oe4eHrUjt12I5XVcrPAlO5jr2OvpSqNsMlS3E2WSSLR2saR9rvV6OR7HN3FUMPiuyDdjqzEyVh89p78dX3r0+JpVEt3act1XusxQ0oa9dIopHOdIyR28kccbZXv0kCU7FdkrBkZKMVKpJYW6t7jJa9inLVpNx1uCrZkdYZI+O0xyzslg7WV7pY3N+TGu8kYbogXk/3/v/APYH0AAAAAAAAAAAAAAAAAAAAAAAWP7wHE3BV8xj+2t+12D5b4x37rmdq7yXHjf6aSN7X7NSzOrT15GR2KUrpI+Oa50MzJY3RSwzbqo9rXscio9uqsexi7r03mu39nuxRExPSdGWivdxifdi5tlchO6GSzYga6G3FYZFVY9Y4Io4ZolRksjUksTPdKj1fI1jERiNRjV3nv2bd+3bqxiJwwmP2yUXKafaeiKYjgbuseyWaetYcmPs4+VLXb1ltrtiStK6ebjpVVvGvrIx1aPcjhY/5D38W1q5522nDDCeuPsycanCOU8sdPdkk4MLSwrG90MqJZWaCGa3lXLj41gSJW0MjvJeger1kk1RN1rJViYkbU1dXN072OE9MPZEX40l9qvBba1ifLbbNIxcOskkjX78zsbPJNK53PqsqPRGq5Vdq3VyqqqpSdriJxiJ99PdbMRpLFz8CsyObIySGRystxPZLLfgjRs1ya1DI3tWSJ0yx8c5kkMvyZP+V8fyt60bfGExhP8Ab8IjaIwwwlOtjtj+1H2VarEjnWtxbImubxcderFWRq7yvXT82qtTecqNVEVy6KppbTtE3oiJx5TiwXK96IiMeqSmnDDLHbS/NrH3eb1bjNsndo/nZ7fqodCcA/0JifJ1P1EZ9fpdYnZcAAAAAAAAAAAAAAAAAAAAAANUJ2OtDSLlmVYMVLiWqsictaVqs457dxGraiY+eOObdTdZYmTRUfoBk6vA8yKw+eC5crtnfWls14JYmQXJ6scUUckrlhdPGr4oIopmwTRMmZG1rmqiv3gxLex0qtlZNFauQPilyckSwyVvzEeYnZayEMKvryOiZPYZxqSNdx8Sue2OVjHbqBnsPwN0YsQ3CK2SSgystNjHyK2WKmiK2GOOaJIZGOrs3GxTNVJmrGx++6RFkUMNd4BWTsnZbyeSuNmp2KLO2Z66JWgtMRkz42QV60c1lWtaiWLDZnsbvI1WpJLvh85+x3qLMsyWbbEXIR5RsUT67Io8oxsUa2P1DpJ1fFFxSxzySxMbJJuMj/NrEHqi4DY0lWw7IZB9htZalew6aBLNOqs0VjdbMyBklteMhi1W66zvMRzXb6Sy8YHk+LpTc2bjJrEklrt91iZVqxvnlyFOKjM9WQ14oY1SCFm5xcbU30Vzt9XOVQ9mR4B6r3ca2ezDOyWnPBYhfDxlWxTqSUWPiR8Ukb0kqzTRSsljkY9JXaNau6rQzeE4NWRWK9p9izYnrwWq6SWpGSLKy5YisSq/RkaNVr4WtjZG1kccfyGsRETQJkiAVAAAAAAAAAAAAAAAAAAAAAAAWP7wHE3BV8xj+2t+12D5b4x37rmdq7yXHjf6aQXiQJxgBjADGAGIFcQGIEksdtL82sfd5vVuM2yd2j+dnt+qh0JwD/QmJ8nU/URn1+l1idlwAAAAAAAAAAAAAAAAAAAAAAAAAAAAAAAAAAAAAAAAAAAAAAAAAAAAAAAAAAWP7wHE3BV8xj+2t+12D5b4x37rmdq7yXHjf6aQAAAAAAASBYljtpfm1j7vN6txm2Tu0fzs9v1UOhOAf6ExPk6n6iM+v0usTsuAAAAAAAAAAAAAAAAAAAAAAAAAAAAAAAAAAAAAAAAAAAAAAAAAAAAAAAAAACx/eA4m4KvmMf21v2uwfLfGO/dcztXeS48f/TSCAAAAAAASBYljtpfm1j7vN6txm2Tu0fzs9v1UOhOAf6ExPk6n6iM+v0usTsuAAAAAAAAAAAAAAAAAAAAAAAAAAAAAAAAAAAAAAAAAAAAAAAAAAAAAAAAAACx/eA4m4KvmMf21v2uwfLfGO/dcztXeS48n2j6aQRIEAAAAAAAsSx20vzax93m9W4zbJ3aP52e36qXQnAP9CYnydT9RGfX6XWJ2XAAAAAAAAAAAAAAAAAAAAAAAAAAAAAAAAAAAAAAAAAAAAAAAAAAAAAAAAAABa9wHE+Oxt7F8ZSsYvISLDPYWKehWfbr2oJJ5JY5GPiVysVWyJvMe1qtXVO8qJxu3+F13rs1U++M/t41/ZKrlzGl7E2rl6JzPoy3/AKHkeTXpa0bDX7nwql6JzPoy3/oPJbxkaz4VS9E5n0Zb/wBB5LeMjWfCqXonM+jLf+g8lvGRred+3So5GLjcqkjmuc1i4+ykj2MVqPcxmm89rFfGj3NRUasjNf0k1eS3jI1vR8Kpeicz6Mt/6DyW8ZGs+FUvROZ9GW/9B5LeMjWfCqXonM+jLf8AoPJbxka1fhVL0TmfRlv/AEHkt5OSrePLZW7Yikgq4fKPnnjfFGlilJWha97dxHzTTKxkbGqqK5dVXTXk51TZ2bwa7Tcpqq9K1nY66at6p1pwcbOOp0KVRyo51SpXgc5NdHPiiaxyt150VUXT92n/AG7+HvpKSAAAAAAAAAAAAAAAAAAAAAAAAAAAAAAAAAAAAAAAAAAAAAAAAAAAAAAAAAAABTQCoAAAA15nvp7F+S817TggNhIBUAAAoqAAKgAAAAAAAAAAAAAAAAAAAAAAAAAAAAAAAAAAAAAAAAAAAAAAAAAAAAAAAAAAAAAAAAAGvc79PYvyXmvacEBsFAKgAAAAAAAAAAAAAAAAAAAAAAAAAAAAAAAAAAAAAAAAAAAAAAAAAAAAAAAAAAAAAAAAAAAAAAAOSOEDsi7dfamrSTEpJJA2ahC7txzEtRZSTHSts/M38SkKVVa6NON3nOem+3ivzgdbN5gKgAAAAAAAAAAAAAAAAAAAAAAAAAAAAAAAAAAAAAAAAAAAAAAAAAAAAAAAAAAAAAAAAKK4DWO0PZI4KrPLXmyDElgduSsijsTrDInOx7oY5Wtcnfaq7yLyLouqJaKZnpCk1RHWWPXsr9nekF81v+4J3KtDfp1hT41+zvSC+a3/AHA3KtDfp+UHxr9nekF81v8AuBuVaG/T8oPjX7O9IL5rf9wRNFWhvU/KGqtpOETZmfP0Mz2+n9Dp2IXp2rf1dYRyJVcicRy7sdi5q7nRWxJzaaNyrRO9T8obVTsrtnekF81v+4G5Vob1Pyg+Nfs70gvmt/3BO5Vojfp+UHxr9nekF81v+4G5Vob9PyhVOyv2d6QXzW/7gblWhv0/KF8PZU7Ouc1v5TY3fcjUdNDbhYjl5ER0kkLGM1Xk1c5E/enORuVRzmCKonlEttMei8y6/wACq64AAAAAAAAAAAAAAAAAAAAAAAAAAAAAAAAAAAAAAAAAAAAAAAAAAAAAAAAAAAsf3gOYeACNExkbk5HSWL0j1TkWSRb1hFe/T9JyoiJqvLoiJzIh7uzRG5jg5ra5ni4YzDYvGL4VNrdiPZpzVMnGL4VI3Y0gxk4xfCo3Y0gxk4xfCo3Y0hGMnGL4RuxpBjOs/s4xfCo3Y0gxk4xfCo3Y0hOMnGL4VG7GkGMnGL4VG7GkI3pYPbyqyWjdjkaj2PqWEc13KipxTv7050XvORFTlRFTHdpjcwwZ7VVUVxznm2BwHWHPw2Ke9yuc/HU1cq86u7XZqq/xOddVCcBIAAAAAAAAAAAAAAAAAAAAAAAAAAAAAAAAAAAAAAAAAAAAAAAAAAAAAAAAAAsf3gOZOAX6Lg+1u+3WT3dm7bmdq7zYBuT1aQQAAAAAAAAJYra75pb+62PVOMd30s9v1UpvwDfQmI8nU/Z4znJdXCeEJAAAAAAAAAAAAAAAAAAAAAAAAAAAAAAAAAAAAAAAAAAAAAAAAAAAAAAAAAAFj+8BzJwC/RcH2t326ye7s3bcztXebANyerSCE4BMwgIASBBiEpmMAjFASSxW13zS391seqcY7vpZ7fqpTfgG+hMR5Op+zxnOS6uE8ISAAAAAAAAAAAAAAAAAAAAAAAAAAAAAAAAAAAAAAAAAAAAAAAAAAAAAAAAAALH94DmTgF+i4Ptbvt1k93Zu25nau82AbstJpjbbhBnjylyt+UpajK+PpWK0MGPbf7ZszyX0l32Mgmsy6JXhRsMUkSu3naKqqumrVV/FhDaooiacZfWHh2sw13yXcW6GSliqN/II2xAiQ3bkMmlGFr9PzjbMawOfJIyJjXNkV/IqCbkwngR7T9fl9qHZBMkVIGV4pbclmtVgZTuQ2Kc8tmC1ZT+mpExrFhho2nzM4l0jEjY5GvSaNViL0nAimYmcZj3/AAwWL4cZYHvfeZZbuO2hf2vGtRzUjx1rGQQwa8Wjp5VdbSOs9ssTXJI9ZWyOdHxVYuVLVWomeWnT/KaZDhAyMdnG1342OFbl59aVX2mzRLC2hYub9WSONHOcxYXNe2SOFd6PdbvsmbOl+JUrFqlEtneyCeuOitspT2Ya2Io5S/PYnrssRwWoXzaMZFBHHdssiilmlaxlWL9BrOV7WpWL0yRZjpM/1SmtwxPdO5i0HtqsyaYpbSzR7zrT2tdFIyvuI50DnSMhc/fa5kir8l7WPc3JFycY/KKrGETOM8myTM1JYra75pb+62PVOMd30ti36qU34BvoTEeTqfs8ZzkurhPCEgAAAAAAAAAAAAAAAAAAAAAAAAAAAAAAAAAAAAAAAAAAAAAAAAAAAAAAAAACx/eA5k4BfouD7W77dZPd2btuZ2rvNgG7LSYqns1Ey1Pcar+NtQ1oJEVycWkdV1l0Stboioqrak3lVXa6N5E05cUU88ZX3piMIY7NcHVSwt7jUe5MlBFXsN4xzESKDjVjWBzN2SGRFmcvGI9XI9rHJu7vLG5CeJLwXuCuOWJrJbuQlljnisw25LEfbNWeFj443VtIW149Y5JGSJ2u5JmyO4zjNdUpwl+LLGRcAGN3Va9bMyOjycT+Pnc50rcvJVluOe9EY9H8ZUidE5rm8V8vReViNcJfjMnBwVwosUj7V6axBaZcZZnsNkmSVld9VGabjIWQuge+N7GQM31kfIqrI90i2m3jCs3efJhYOx3xzYIqrJLcddlGtjZomTtRmRx9RHNgiv8A5pVerWSSMdJCsL3se5rlVq7qVmzHtJxp0SfucVd1W/nERcgzJ8jm8lxj43ta35C6RaxN1ZyLpvJvJyFuHHKdETdmeSUGVryxW13zS391seqcY7vpbFv1UpvwDfQmI8nU/Z4znJdXCeEJAAAAAAAAAAAAAAAAAAAAAAAAAAAAAAAAAAAAAAAAAAAAAAAAAAAAAAAAAAFj+8BzJwC/RcH2t326ye7s3bcztXebANyerSCAAAAAAAABLFbXfNLf3Wx6pxju+lnt+qlN+Ab6ExHk6n7PGc5Lq4TwhIAAAAAAAAAAAAAAAAAAAAAAAAAAAAAAAAAAAAAAAAAAAAAAAAAAAAAAAAAAsf3gOZOAX6Lg+1u+3WT3dm7bmdq7zYBuT1aWIQYgMQGIDEBiAxAYgRMsVtd80t/dbHqnGO76Wxb9VKb8A30JiPJ1P2eM5yXVwnhCQAAAAAAAAAAAAAAAAAAAAAAAAAAAAAAAAAAAAAAAAAAAAAAAAAAAAAAAAABZIvMByjwI7S1oqXa0tiGKxUs3Yp4ZpY4pYZO3bDkR7Hqx6I5qo5Hbu6qLyKui6e1YuUxbwlzu101cX0tgfCmn43W84g/mNri0tWLdXxU+FVPxut5xB/OOLScOr4q/Cmn43W84g/mHFpOHV8VPhVT8brecQfzji0nDq+J8KqfjdbziD+ccWk4dXxV+FNPxut5xB/MOLScOr4qfCqn43W84g/nHFpOHV8T4VU/G63nEH844tJw6vir8KafjdbziD+YcWk4dXxR7hB2+oQ0bbn26/LXma1rJoXvkkdG5GMiYjlV73u0ajURV1XwIqpjuXad1e3bucSn+FuDgaxkkGJxsMrd2SGhUY9q66te2BiOaqKiKiovIqKnOc+6lMgAAAAAAAAAAAAAAAAAAAAAAAAAAAAAAAAAAAAAAAAAAAAAAAAAAAAAAAAAACgEU2g4KcVbk421jqdiTm3560EkipyJ8p7mq52iImmq8iAY3uBbP9C47zOr/ACE4owO4Fs/0LjvM6v8AIMTA7gWz/QuO8zq/yDEwO4Fs/wBC47zOr/IMTA7gWz/QuO8zq/yDEwO4Fs/0LjvM6v8AIMTA7gWz/QuO8zq/yDEwO4Fs/wBC47zOr/IMTA7gWz/QuO8zq/yDEwenG8C2FgkbLBiqEUjOVr46lZrmrqiorXIxFaqKiaKnKgxSmhAqAAAAAAAAAAAAAAAAAAAAAAAAAAAAAAAAAAAAAAAAAAAAAAAAAAAAAAAAAAAAAAAAAAAAAAAAAAAAAAAAAAAAAAAAAAAAAAAAAAAAAAAAAAAAAAAAAAAAAAAAAAAAAAAAAAAAAAAAAAAAAAAAAAAAAAAAAAAAAAAAAAAAAP/Z)"
      ]
    },
    {
      "cell_type": "code",
      "metadata": {
        "id": "X_hj5AtxzwOU"
      },
      "source": [
        "from sklearn.ensemble import StackingClassifier\n",
        "from sklearn.linear_model import LogisticRegression\n",
        "from sklearn.neighbors import KNeighborsClassifier\n",
        "from sklearn.ensemble import RandomForestClassifier\n",
        "from sklearn.naive_bayes import GaussianNB\n",
        "# define the base models\n",
        "level0 = list()\n",
        "level0.append(('lr', logistic_random.best_estimator_))\n",
        "level0.append(('knn', knn_random.best_estimator_))\n",
        "level0.append(('RF', rf_random.best_estimator_))\n",
        "# level0.append(('bayes', GaussianNB()))\n",
        "# define meta learner model\n",
        "level1 = LogisticRegression()\n",
        "# define the stacking ensemble\n",
        "model = StackingClassifier(estimators=level0, final_estimator=level1, cv=5)\n",
        "# fit the model on all available data\n",
        "model.fit(X_train, y_train)\n",
        "# predictions on X_test\n",
        "yhat = model.predict(X_test)"
      ],
      "execution_count": null,
      "outputs": []
    },
    {
      "cell_type": "code",
      "metadata": {
        "id": "yBVYfOJCc8W1"
      },
      "source": [
        "stacking_score = model.score(X_test,y_test)\r\n",
        "stacking_f1 = f1_score(y_test, y_pred, average = 'weighted')"
      ],
      "execution_count": null,
      "outputs": []
    },
    {
      "cell_type": "code",
      "metadata": {
        "id": "qqm-J0M7zwDm",
        "colab": {
          "base_uri": "https://localhost:8080/"
        },
        "outputId": "c6c66121-59c7-444d-bed7-055f213b7da3"
      },
      "source": [
        "print(\"\\nClassification report:\")\n",
        "print(classification_report(y_test, yhat))"
      ],
      "execution_count": null,
      "outputs": [
        {
          "output_type": "stream",
          "text": [
            "\n",
            "Classification report:\n",
            "              precision    recall  f1-score   support\n",
            "\n",
            "           0       0.66      0.61      0.63     15090\n",
            "           1       0.73      0.78      0.75     20803\n",
            "\n",
            "    accuracy                           0.71     35893\n",
            "   macro avg       0.70      0.69      0.69     35893\n",
            "weighted avg       0.70      0.71      0.70     35893\n",
            "\n"
          ],
          "name": "stdout"
        }
      ]
    },
    {
      "cell_type": "code",
      "metadata": {
        "id": "nEcIhMIOGdQ4",
        "colab": {
          "base_uri": "https://localhost:8080/",
          "height": 282
        },
        "outputId": "86e3668c-ec61-4295-8846-4c57d07fff26"
      },
      "source": [
        "group_names = ['True Pos','False Neg','False Pos','True Neg']\r\n",
        "group_counts = ['{0:0.0f}'.format(value) for value in\r\n",
        "                cf_matrix.flatten()]\r\n",
        "group_percentages = ['{0:.2%}'.format(value) for value in\r\n",
        "                     cf_matrix.flatten()/np.sum(cf_matrix)]\r\n",
        "labels = [f'{v1}\\n{v2}\\n{v3}' for v1, v2, v3 in\r\n",
        "          zip(group_names,group_counts,group_percentages)]\r\n",
        "labels = np.asarray(labels).reshape(2,2)\r\n",
        "sns.heatmap(cf_matrix, annot=labels, fmt='', cmap='Blues')"
      ],
      "execution_count": null,
      "outputs": [
        {
          "output_type": "execute_result",
          "data": {
            "text/plain": [
              "<matplotlib.axes._subplots.AxesSubplot at 0x7f45a35ff160>"
            ]
          },
          "metadata": {
            "tags": []
          },
          "execution_count": 77
        },
        {
          "output_type": "display_data",
          "data": {
            "image/png": "[encoded data removed]",
            "text/plain": [
              "<Figure size 432x288 with 2 Axes>"
            ]
          },
          "metadata": {
            "tags": [],
            "needs_background": "light"
          }
        }
      ]
    },
    {
      "cell_type": "markdown",
      "metadata": {
        "id": "Ve1qIwphXAR1"
      },
      "source": [
        "# Comparing Model performances\r\n",
        "\r\n"
      ]
    },
    {
      "cell_type": "markdown",
      "metadata": {
        "id": "v7fStMGNWY0d"
      },
      "source": [
        "Accuracy for different *models*"
      ]
    },
    {
      "cell_type": "code",
      "metadata": {
        "id": "1nQVOKpvzwBo",
        "colab": {
          "base_uri": "https://localhost:8080/",
          "height": 296
        },
        "outputId": "021400cc-d1e3-4c19-acb3-b18c5fac129c"
      },
      "source": [
        "d = {'Model':['KNN','Logistic Regression','Random Forest','Stacking Ensemble'],'Accuracy':[knn_score,log_score,rf_score,stacking_score]}\n",
        "\n",
        "agg_scores = pd.DataFrame(data = d)\n",
        "agg_scores.plot(x='Model',y='Accuracy',kind='line', marker='x')"
      ],
      "execution_count": null,
      "outputs": [
        {
          "output_type": "execute_result",
          "data": {
            "text/plain": [
              "<matplotlib.axes._subplots.AxesSubplot at 0x7f45a3045d30>"
            ]
          },
          "metadata": {
            "tags": []
          },
          "execution_count": 78
        },
        {
          "output_type": "display_data",
          "data": {
            "image/png": "[encoded data removed]",
            "text/plain": [
              "<Figure size 432x288 with 1 Axes>"
            ]
          },
          "metadata": {
            "tags": [],
            "needs_background": "light"
          }
        }
      ]
    },
    {
      "cell_type": "markdown",
      "metadata": {
        "id": "XBfXVezzYifa"
      },
      "source": [
        "F1-Score for different models"
      ]
    },
    {
      "cell_type": "code",
      "metadata": {
        "id": "-uFWk7fZOh4e",
        "colab": {
          "base_uri": "https://localhost:8080/",
          "height": 296
        },
        "outputId": "f1e20642-b182-4565-abe3-1aec1155b174"
      },
      "source": [
        "d1 = {'Model':['KNN','Logistic Regression','Random Forest','Stacking Ensemble'],'F1 Score':[knn_f1,log_f1,rf_f1,stacking_f1]}\r\n",
        "\r\n",
        "agg_scores = pd.DataFrame(data = d1)\r\n",
        "agg_scores.plot(x='Model',y='F1 Score',kind='line', marker='x',color = 'red')"
      ],
      "execution_count": null,
      "outputs": [
        {
          "output_type": "execute_result",
          "data": {
            "text/plain": [
              "<matplotlib.axes._subplots.AxesSubplot at 0x7f45a2f75c50>"
            ]
          },
          "metadata": {
            "tags": []
          },
          "execution_count": 79
        },
        {
          "output_type": "display_data",
          "data": {
            "image/png": "[encoded data removed]",
            "text/plain": [
              "<Figure size 432x288 with 1 Axes>"
            ]
          },
          "metadata": {
            "tags": [],
            "needs_background": "light"
          }
        }
      ]
    },
    {
      "cell_type": "markdown",
      "metadata": {
        "id": "QSEh_Q6DBap7"
      },
      "source": [
        "**Result:**\r\n",
        "\r\n",
        "For this project we have tried using different traditional machine learning algorithms like KNN, Logistic regression, Random forest and we also tried ensemble methods like stacking. Overall, we have a highest accuracy for both Random Forest and Stacking ensemble technique which is almost 71% and f1 score of nearly 70%. \r\n",
        "\r\n",
        "Hence, for the final deployment of the model we are considering the Random Forest even though stacking ensemble have the almost same accuracy because Random forest is less complex and will take less computation power when compared to Stacking ensemble technique."
      ]
    },
    {
      "cell_type": "markdown",
      "metadata": {
        "id": "sryRkU7LTy9F"
      },
      "source": [
        "**Impact after resolution & future work**\n",
        "\n",
        "We ultimately determined that using ensemble models works much better than individual machine learning models as we observed when we tested the performance of various models against each other. Training and testing the model takes a lot of computation time since ensemble models and bagging runs various models parallely. However, we are able to obtain a high accuracy so it is worth the long run-time.\n"
      ]
    },
    {
      "cell_type": "markdown",
      "metadata": {
        "id": "LJtajOHETlb4"
      },
      "source": [
        "# References\r\n",
        "- Michael D Greenberg, Bryan Pardo, Karthic Hariharan, and Elizabeth Gerber. Crowdfunding support tools: predicting success & failure. In CHI’13 Extended Abstracts on Human Factors in Computing Systems, pages 1815–1820. ACM, 2013. \r\n",
        "- Chenchen Pen et.al, Predicting the Success of Crowdfunding.\r\n"
      ]
    },
    {
      "cell_type": "code",
      "metadata": {
        "id": "hdNk2lHGUpTE"
      },
      "source": [
        ""
      ],
      "execution_count": null,
      "outputs": []
    }
  ]
}